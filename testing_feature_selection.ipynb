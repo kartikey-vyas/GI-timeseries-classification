{
 "cells": [
  {
   "cell_type": "code",
   "execution_count": 1,
   "metadata": {},
   "outputs": [],
   "source": [
    "from multiprocessing import Pool\n",
    "\n",
    "import numpy as np\n",
    "import pandas as pd\n",
    "from statsmodels.stats.multitest import multipletests\n",
    "from tsfresh.feature_selection.significance_tests import target_binary_feature_real_test, \\\n",
    "    target_real_feature_binary_test, target_real_feature_real_test, target_binary_feature_binary_test\n",
    "from tsfresh.feature_selection.relevance import calculate_relevance_table, get_feature_type, _calculate_relevance_table_for_implicit_target\n",
    "from tsfresh import defaults\n",
    "from tsfresh.utilities.distribution import initialize_warnings_in_workers\n",
    "from tsfresh.feature_selection import select_features\n",
    "from functools import partial, reduce"
   ]
  },
  {
   "cell_type": "code",
   "execution_count": 2,
   "metadata": {},
   "outputs": [],
   "source": [
    "X = pd.read_hdf('data/features/6000/ach-at-hex_6000_0_eff.h5')\n",
    "y = pd.read_hdf('data/processed/y_4_class_6000.h5')\n",
    "y_bin = y.astype('category')\n",
    "y_bin = pd.get_dummies(y_bin)"
   ]
  },
  {
   "cell_type": "code",
   "execution_count": null,
   "metadata": {},
   "outputs": [],
   "source": [
    "print(X.shape)\n",
    "print(y.shape)\n",
    "y = y.reset_index(drop=True)\n",
    "X = X.reset_index(drop=True)"
   ]
  },
  {
   "cell_type": "code",
   "execution_count": null,
   "metadata": {},
   "outputs": [],
   "source": [
    "y"
   ]
  },
  {
   "cell_type": "code",
   "execution_count": null,
   "metadata": {},
   "outputs": [],
   "source": [
    "n_jobs=defaults.N_PROCESSES \n",
    "show_warnings=defaults.SHOW_WARNINGS\n",
    "chunksize=defaults.CHUNKSIZE\n",
    "test_for_binary_target_binary_feature=defaults.TEST_FOR_BINARY_TARGET_BINARY_FEATURE\n",
    "test_for_binary_target_real_feature=defaults.TEST_FOR_BINARY_TARGET_REAL_FEATURE\n",
    "test_for_real_target_binary_feature=defaults.TEST_FOR_REAL_TARGET_BINARY_FEATURE\n",
    "test_for_real_target_real_feature=defaults.TEST_FOR_REAL_TARGET_REAL_FEATURE\n",
    "fdr_level=defaults.FDR_LEVEL\n",
    "hypotheses_independent=defaults.HYPOTHESES_INDEPENDENT\n",
    "if n_jobs == 0:\n",
    "    map_function = map\n",
    "else:\n",
    "    pool = Pool(processes=n_jobs, initializer=initialize_warnings_in_workers, initargs=(show_warnings,))\n",
    "    map_function = partial(pool.map, chunksize=chunksize)"
   ]
  },
  {
   "cell_type": "code",
   "execution_count": null,
   "metadata": {},
   "outputs": [],
   "source": [
    "relevance_table = pd.DataFrame(index=pd.Series(X.columns, name='feature'))\n",
    "relevance_table['feature'] = relevance_table.index\n",
    "relevance_table['type'] = pd.Series(\n",
    "    map(get_feature_type, [X[feature] for feature in relevance_table.index]),\n",
    "    index=relevance_table.index\n",
    ")\n",
    "table_real = relevance_table[relevance_table.type == 'real'].copy()\n",
    "table_binary = relevance_table[relevance_table.type == 'binary'].copy()\n",
    "\n",
    "table_const = relevance_table[relevance_table.type == 'constant'].copy()\n",
    "table_const['p_value'] = np.NaN\n",
    "table_const['relevant'] = False"
   ]
  },
  {
   "cell_type": "code",
   "execution_count": null,
   "metadata": {},
   "outputs": [],
   "source": [
    "tables = []\n",
    "for label in y.unique():\n",
    "    _test_real_feature = partial(target_binary_feature_real_test, y=(y == label),\n",
    "                                 test=test_for_binary_target_real_feature)\n",
    "    _test_binary_feature = partial(target_binary_feature_binary_test, y=(y == label))\n",
    "    tmp = _calculate_relevance_table_for_implicit_target(\n",
    "        table_real, table_binary, X, _test_real_feature, _test_binary_feature, hypotheses_independent,\n",
    "        fdr_level, map_function\n",
    "    )\n",
    "    tmp = tmp.reset_index(drop=True)\n",
    "    tmp.columns = tmp.columns.map(lambda x : x+'_'+str(label) if x !='feature' and x!='type' else x)\n",
    "\n",
    "    tables.append(tmp)\n",
    "    \n",
    "relevance_table = reduce(lambda  left,right: pd.merge(left,right,on=['feature','type'],\n",
    "                                            how='outer'), tables)\n",
    "relevance_table['n_significant'] = relevance_table.filter(regex='^relevant_', axis=1).sum(axis=1)\n",
    "relevance_table['relevant'] = np.where(relevance_table['n_significant'] >= len(y.unique()), True, False)"
   ]
  },
  {
   "cell_type": "code",
   "execution_count": null,
   "metadata": {},
   "outputs": [],
   "source": [
    "sum(relevance_table['relevant'])"
   ]
  },
  {
   "cell_type": "code",
   "execution_count": null,
   "metadata": {},
   "outputs": [],
   "source": [
    "relevant_features = relevance_table[relevance_table.relevant].feature"
   ]
  },
  {
   "cell_type": "code",
   "execution_count": null,
   "metadata": {},
   "outputs": [],
   "source": [
    "relevant_features"
   ]
  },
  {
   "cell_type": "code",
   "execution_count": null,
   "metadata": {},
   "outputs": [],
   "source": [
    "filtered = select_features(X,y)"
   ]
  },
  {
   "cell_type": "code",
   "execution_count": null,
   "metadata": {},
   "outputs": [],
   "source": [
    "filtered.shape"
   ]
  },
  {
   "cell_type": "code",
   "execution_count": null,
   "metadata": {},
   "outputs": [],
   "source": [
    "p_vector = []\n",
    "for feature in X:\n",
    "        p = []\n",
    "        try:\n",
    "            p.append(target_binary_feature_real_test(X[feature],y_bin[0],'mann'))\n",
    "            p.append(target_binary_feature_real_test(X[feature],y_bin[1],'mann'))\n",
    "            p.append(target_binary_feature_real_test(X[feature],y_bin[2],'mann'))\n",
    "        except ValueError:\n",
    "            p.append(1000)\n",
    "            p.append(1000)\n",
    "            p.append(1000)\n",
    "\n",
    "        p.append(feature)\n",
    "        p_vector.append(p)"
   ]
  },
  {
   "cell_type": "code",
   "execution_count": null,
   "metadata": {},
   "outputs": [],
   "source": [
    "p_vals = pd.DataFrame(p_vector)\n",
    "p_vals.sort_values(0)"
   ]
  },
  {
   "cell_type": "code",
   "execution_count": null,
   "metadata": {},
   "outputs": [],
   "source": [
    "# a.p_value = a.p_value.combine(b.p_value, min, 1)\n",
    "\n",
    "a = p_vals[0].combine(p_vals[1], min, 1)"
   ]
  },
  {
   "cell_type": "code",
   "execution_count": null,
   "metadata": {},
   "outputs": [],
   "source": [
    "defaults.FDR_LEVEL = 0.01"
   ]
  },
  {
   "cell_type": "code",
   "execution_count": 3,
   "metadata": {},
   "outputs": [],
   "source": [
    "from src.features.feature_selection import MulticlassFeatureSelector"
   ]
  },
  {
   "cell_type": "code",
   "execution_count": null,
   "metadata": {},
   "outputs": [],
   "source": [
    "dataset = pd.read_hdf('data/processed/ach_at_hex_6000.h5')"
   ]
  },
  {
   "cell_type": "code",
   "execution_count": null,
   "metadata": {},
   "outputs": [],
   "source": [
    "window_size = 6000\n",
    "y4 = (dataset[['id','y']]\n",
    "     .drop_duplicates('id')\n",
    "     .set_index('id')\n",
    "     .T\n",
    "     .squeeze()\n",
    "     .sort_index(0))"
   ]
  },
  {
   "cell_type": "code",
   "execution_count": null,
   "metadata": {},
   "outputs": [],
   "source": [
    "y3 = y4.copy()\n",
    "y3[y3 > 2] = 2\n",
    "\n",
    "y2 = y3.copy()\n",
    "y2[y2 > 1] = 1\n",
    "\n",
    "y4.to_hdf('data/processed/y_4_class_'+str(window_size)+'.h5', key='data', complevel=9)\n",
    "y3.to_hdf('data/processed/y_3_class_'+str(window_size)+'.h5', key='data', complevel=9)\n",
    "y2.to_hdf('data/processed/y_2_class_'+str(window_size)+'.h5', key='data', complevel=9)"
   ]
  },
  {
   "cell_type": "code",
   "execution_count": 4,
   "metadata": {},
   "outputs": [],
   "source": [
    "fs = MulticlassFeatureSelector()"
   ]
  },
  {
   "cell_type": "code",
   "execution_count": 5,
   "metadata": {},
   "outputs": [],
   "source": [
    "filt = fs.fit(X,y)"
   ]
  },
  {
   "cell_type": "code",
   "execution_count": 7,
   "metadata": {},
   "outputs": [
    {
     "data": {
      "text/html": [
       "<div>\n",
       "<style scoped>\n",
       "    .dataframe tbody tr th:only-of-type {\n",
       "        vertical-align: middle;\n",
       "    }\n",
       "\n",
       "    .dataframe tbody tr th {\n",
       "        vertical-align: top;\n",
       "    }\n",
       "\n",
       "    .dataframe thead th {\n",
       "        text-align: right;\n",
       "    }\n",
       "</style>\n",
       "<table border=\"1\" class=\"dataframe\">\n",
       "  <thead>\n",
       "    <tr style=\"text-align: right;\">\n",
       "      <th>variable</th>\n",
       "      <th>0__change_quantiles__f_agg_\"var\"__isabs_True__qh_0.4__ql_0.0</th>\n",
       "      <th>0__ar_coefficient__k_10__coeff_1</th>\n",
       "      <th>0__ar_coefficient__k_10__coeff_2</th>\n",
       "    </tr>\n",
       "    <tr>\n",
       "      <th>id</th>\n",
       "      <th></th>\n",
       "      <th></th>\n",
       "      <th></th>\n",
       "    </tr>\n",
       "  </thead>\n",
       "  <tbody>\n",
       "    <tr>\n",
       "      <th>1.0</th>\n",
       "      <td>0.007879</td>\n",
       "      <td>4.900492</td>\n",
       "      <td>-8.159355</td>\n",
       "    </tr>\n",
       "    <tr>\n",
       "      <th>2.0</th>\n",
       "      <td>0.007024</td>\n",
       "      <td>4.893328</td>\n",
       "      <td>-8.140396</td>\n",
       "    </tr>\n",
       "    <tr>\n",
       "      <th>3.0</th>\n",
       "      <td>0.006491</td>\n",
       "      <td>4.910918</td>\n",
       "      <td>-8.206875</td>\n",
       "    </tr>\n",
       "    <tr>\n",
       "      <th>4.0</th>\n",
       "      <td>0.002848</td>\n",
       "      <td>4.898380</td>\n",
       "      <td>-8.159901</td>\n",
       "    </tr>\n",
       "    <tr>\n",
       "      <th>5.0</th>\n",
       "      <td>0.006811</td>\n",
       "      <td>4.899040</td>\n",
       "      <td>-8.161483</td>\n",
       "    </tr>\n",
       "    <tr>\n",
       "      <th>...</th>\n",
       "      <td>...</td>\n",
       "      <td>...</td>\n",
       "      <td>...</td>\n",
       "    </tr>\n",
       "    <tr>\n",
       "      <th>986.0</th>\n",
       "      <td>0.000137</td>\n",
       "      <td>6.530854</td>\n",
       "      <td>-19.585644</td>\n",
       "    </tr>\n",
       "    <tr>\n",
       "      <th>987.0</th>\n",
       "      <td>0.000117</td>\n",
       "      <td>6.546576</td>\n",
       "      <td>-19.682495</td>\n",
       "    </tr>\n",
       "    <tr>\n",
       "      <th>988.0</th>\n",
       "      <td>0.000093</td>\n",
       "      <td>6.547226</td>\n",
       "      <td>-19.689064</td>\n",
       "    </tr>\n",
       "    <tr>\n",
       "      <th>989.0</th>\n",
       "      <td>0.000052</td>\n",
       "      <td>6.562510</td>\n",
       "      <td>-19.775162</td>\n",
       "    </tr>\n",
       "    <tr>\n",
       "      <th>990.0</th>\n",
       "      <td>0.000046</td>\n",
       "      <td>6.524825</td>\n",
       "      <td>-19.580751</td>\n",
       "    </tr>\n",
       "  </tbody>\n",
       "</table>\n",
       "<p>990 rows × 3 columns</p>\n",
       "</div>"
      ],
      "text/plain": [
       "variable  0__change_quantiles__f_agg_\"var\"__isabs_True__qh_0.4__ql_0.0  \\\n",
       "id                                                                       \n",
       "1.0                                                0.007879              \n",
       "2.0                                                0.007024              \n",
       "3.0                                                0.006491              \n",
       "4.0                                                0.002848              \n",
       "5.0                                                0.006811              \n",
       "...                                                     ...              \n",
       "986.0                                              0.000137              \n",
       "987.0                                              0.000117              \n",
       "988.0                                              0.000093              \n",
       "989.0                                              0.000052              \n",
       "990.0                                              0.000046              \n",
       "\n",
       "variable  0__ar_coefficient__k_10__coeff_1  0__ar_coefficient__k_10__coeff_2  \n",
       "id                                                                            \n",
       "1.0                               4.900492                         -8.159355  \n",
       "2.0                               4.893328                         -8.140396  \n",
       "3.0                               4.910918                         -8.206875  \n",
       "4.0                               4.898380                         -8.159901  \n",
       "5.0                               4.899040                         -8.161483  \n",
       "...                                    ...                               ...  \n",
       "986.0                             6.530854                        -19.585644  \n",
       "987.0                             6.546576                        -19.682495  \n",
       "988.0                             6.547226                        -19.689064  \n",
       "989.0                             6.562510                        -19.775162  \n",
       "990.0                             6.524825                        -19.580751  \n",
       "\n",
       "[990 rows x 3 columns]"
      ]
     },
     "execution_count": 7,
     "metadata": {},
     "output_type": "execute_result"
    }
   ],
   "source": [
    "filt.transform(X)"
   ]
  },
  {
   "cell_type": "code",
   "execution_count": null,
   "metadata": {},
   "outputs": [],
   "source": []
  }
 ],
 "metadata": {
  "kernelspec": {
   "display_name": "Python 3.8.3 64-bit ('ts': conda)",
   "language": "python",
   "name": "python38364bittscondaf81521992d8a4ac1866bc3d1177ada83"
  },
  "language_info": {
   "codemirror_mode": {
    "name": "ipython",
    "version": 3
   },
   "file_extension": ".py",
   "mimetype": "text/x-python",
   "name": "python",
   "nbconvert_exporter": "python",
   "pygments_lexer": "ipython3",
   "version": "3.8.3"
  }
 },
 "nbformat": 4,
 "nbformat_minor": 4
}
