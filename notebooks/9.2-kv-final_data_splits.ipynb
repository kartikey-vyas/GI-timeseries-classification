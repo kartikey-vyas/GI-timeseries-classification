{
 "cells": [
  {
   "cell_type": "code",
   "execution_count": 1,
   "metadata": {},
   "outputs": [],
   "source": [
    "import pandas as pd\n",
    "import matplotlib.pyplot as plt\n",
    "import seaborn as sns"
   ]
  },
  {
   "cell_type": "code",
   "execution_count": 2,
   "metadata": {},
   "outputs": [],
   "source": [
    "# df = pd.read_hdf('../data/features/ach-at-hex_6000_eff_combined.h5')\n",
    "y = pd.read_hdf('../data/processed/y_4_class_6000.h5')\n",
    "subject = pd.read_hdf('../data/processed/subject_6000.h5')"
   ]
  },
  {
   "cell_type": "code",
   "execution_count": 3,
   "metadata": {},
   "outputs": [],
   "source": [
    "mean = pd.read_hdf('../data/features/6000/ach-at-hex_6000_mean_eff.h5')\n",
    "mean = mean.reset_index(drop=True)"
   ]
  },
  {
   "cell_type": "code",
   "execution_count": 4,
   "metadata": {},
   "outputs": [],
   "source": [
    "df = df.join(mean)"
   ]
  },
  {
   "cell_type": "code",
   "execution_count": 3,
   "metadata": {},
   "outputs": [],
   "source": [
    "y = y.reset_index(drop=True)\n",
    "subject = subject.reset_index(drop=True)"
   ]
  },
  {
   "cell_type": "code",
   "execution_count": 8,
   "metadata": {},
   "outputs": [],
   "source": [
    "subject.to_hdf('../data/FINAL/subject_base_v_ach_v_drug2.h5', key='data', complevel=9)"
   ]
  },
  {
   "cell_type": "code",
   "execution_count": 6,
   "metadata": {},
   "outputs": [],
   "source": [
    "ach_v_at = y.copy()\n",
    "ach_v_at = ach_v_at[ach_v_at>=1]\n",
    "ach_v_at = ach_v_at[ach_v_at<=2]\n",
    "ach_v_at[ach_v_at==1] = 'ach'\n",
    "ach_v_at[ach_v_at==2] = 'at'\n",
    "X_ach_v_at = df.iloc[ach_v_at.index,:]\n",
    "subject_ach_v_at = subject[ach_v_at.index]\n",
    "\n"
   ]
  },
  {
   "cell_type": "code",
   "execution_count": 8,
   "metadata": {},
   "outputs": [],
   "source": [
    "ach_v_at.to_hdf('../data/FINAL/y_ach_v_at.h5', key='data', complevel=9)\n",
    "subject_ach_v_at.to_hdf('../data/FINAL/subject_ach_v_at.h5', key='data', complevel=9)\n",
    "X_ach_v_at.to_hdf('../data/FINAL/X_ach_v_at.h5', key='data', complevel=9)"
   ]
  },
  {
   "cell_type": "code",
   "execution_count": 5,
   "metadata": {},
   "outputs": [],
   "source": [
    "y_all = y.copy()\n",
    "y_all[y==0] = 'baseline'\n",
    "y_all[y==1] = 'ach'\n",
    "y_all[y==2] = 'at'\n",
    "y_all[y==3] = 'hex'\n",
    "y_all.to_hdf('../data/FINAL/y_all.h5', key='data', complevel=9)"
   ]
  },
  {
   "cell_type": "code",
   "execution_count": 4,
   "metadata": {},
   "outputs": [],
   "source": [
    "# MULTICLASS: Baseline vs. ACh vs. ATorHex\n",
    "base_ach_drug2 = y.copy()\n",
    "base_ach_drug2[y==0] = 'baseline'\n",
    "base_ach_drug2[y==1] = 'ach'\n",
    "base_ach_drug2[y==2] = 'drug2'\n",
    "base_ach_drug2[y==3] = 'drug2'\n",
    "# base_ach_drug2.to_hdf('../data/FINAL/y_base_v_ach_v_drug2.h5', key='data', complevel=9)\n",
    "\n",
    "# MULTICLASS: Baseline vs. ACh vs. Hex\n",
    "base_ach_hex = y.copy()\n",
    "base_ach_hex = base_ach_hex[y!=2]\n",
    "base_ach_hex[y==0] = 'baseline'\n",
    "base_ach_hex[y==1] = 'ach'\n",
    "base_ach_hex[y==3] = 'hex'\n",
    "base_ach_hex.to_hdf('../data/FINAL/y_base_v_ach_v_hex.h5', key='data', complevel=9)\n",
    "# X_base_ach_hex = df.iloc[base_ach_hex.index,:]\n",
    "# subject_base_ach_hex = subject[base_ach_hex.index]\n",
    "\n",
    "# X_base_ach_hex.to_hdf('../data/FINAL/X_base_v_ach_v_hex.h5', key='data', complevel=9)\n",
    "# subject_base_ach_hex.to_hdf('../data/FINAL/subject_base_v_ach_v_hex.h5', key='data', complevel=9)"
   ]
  },
  {
   "cell_type": "code",
   "execution_count": 12,
   "metadata": {},
   "outputs": [],
   "source": [
    "# MULTICLASS: Baseline vs. Ach vs. AT/Hex\n",
    "multiclass = y.copy()\n",
    "multiclass = multiclass[y!=3]\n",
    "multiclass[y==0] = 'baseline'\n",
    "multiclass[y==1] = 'ach'\n",
    "multiclass[y==2] = 'at'\n",
    "X_multiclass = df.iloc[multiclass.index,:]\n",
    "subject_multiclass = subject[multiclass.index]\n",
    "regex = '^1[8-9]__|^2[0-5]__'\n",
    "X_multiclass_filtered = X_multiclass.filter(regex=regex, axis=1)"
   ]
  },
  {
   "cell_type": "code",
   "execution_count": 16,
   "metadata": {},
   "outputs": [],
   "source": [
    "multiclass.to_hdf('../data/FINAL/y_base_v_ach_v_at.h5', key='data', complevel=9)\n",
    "subject_multiclass.to_hdf('../data/FINAL/subject_base_v_ach_v_at.h5', key='data', complevel=9)\n",
    "X_multiclass_filtered.to_hdf('../data/FINAL/X_base_v_ach_v_at_TOPLEFT.h5', key='data', complevel=9)"
   ]
  },
  {
   "cell_type": "code",
   "execution_count": 10,
   "metadata": {},
   "outputs": [
    {
     "output_type": "execute_result",
     "data": {
      "text/plain": [
       "((990,),\n",
       " 0    baseline\n",
       " 1    baseline\n",
       " 2    baseline\n",
       " 3    baseline\n",
       " 4    baseline\n",
       " Name: drug_applied, dtype: object,\n",
       " 985    drug\n",
       " 986    drug\n",
       " 987    drug\n",
       " 988    drug\n",
       " 989    drug\n",
       " Name: drug_applied, dtype: object)"
      ]
     },
     "metadata": {},
     "execution_count": 10
    }
   ],
   "source": [
    "# baseline vs. rest\n",
    "base_v_drug = y.copy()\n",
    "base_v_drug[base_v_drug>=1] = 'drug'\n",
    "base_v_drug[base_v_drug==0] = 'baseline'\n",
    "base_v_drug.name = 'drug_applied'\n",
    "base_v_drug.shape, base_v_drug.head(), base_v_drug.tail()"
   ]
  },
  {
   "cell_type": "code",
   "execution_count": 11,
   "metadata": {},
   "outputs": [
    {
     "output_type": "execute_result",
     "data": {
      "text/plain": [
       "((660,),\n",
       " 30    first\n",
       " 31    first\n",
       " 32    first\n",
       " 33    first\n",
       " 34    first\n",
       " Name: drug_applied, dtype: object,\n",
       " 985    second\n",
       " 986    second\n",
       " 987    second\n",
       " 988    second\n",
       " 989    second\n",
       " Name: drug_applied, dtype: object)"
      ]
     },
     "metadata": {},
     "execution_count": 11
    }
   ],
   "source": [
    "# ach vs. at or hex\n",
    "first_v_second = y.copy()\n",
    "first_v_second = first_v_second[first_v_second!=0]\n",
    "first_v_second[first_v_second>1] = 'second'\n",
    "first_v_second[first_v_second==1] = 'first'\n",
    "first_v_second.name = 'drug_applied'\n",
    "df_first_v_second = df.iloc[first_v_second.index,:]\n",
    "subject_first_v_second = subject[first_v_second.index]\n",
    "first_v_second.shape, first_v_second.head(), first_v_second.tail()"
   ]
  },
  {
   "cell_type": "code",
   "execution_count": 12,
   "metadata": {},
   "outputs": [
    {
     "output_type": "execute_result",
     "data": {
      "text/plain": [
       "((330,),\n",
       " 60    at\n",
       " 61    at\n",
       " 62    at\n",
       " 63    at\n",
       " 64    at\n",
       " Name: drug_applied, dtype: object,\n",
       " 985    hex\n",
       " 986    hex\n",
       " 987    hex\n",
       " 988    hex\n",
       " 989    hex\n",
       " Name: drug_applied, dtype: object)"
      ]
     },
     "metadata": {},
     "execution_count": 12
    }
   ],
   "source": [
    "# at vs. hex\n",
    "at_v_hex = y.copy()\n",
    "at_v_hex = at_v_hex[at_v_hex>1]\n",
    "at_v_hex[at_v_hex==2] = 'at'\n",
    "at_v_hex[at_v_hex==3] = 'hex'\n",
    "at_v_hex.name = 'drug_applied'\n",
    "df_at_v_hex = df.iloc[at_v_hex.index,:]\n",
    "subject_at_v_hex = subject[at_v_hex.index]\n",
    "at_v_hex.shape, at_v_hex.head(), at_v_hex.tail()\n",
    "\n"
   ]
  },
  {
   "cell_type": "code",
   "execution_count": 7,
   "metadata": {},
   "outputs": [
    {
     "output_type": "execute_result",
     "data": {
      "text/plain": [
       "((660,),\n",
       " 0    baseline\n",
       " 1    baseline\n",
       " 2    baseline\n",
       " 3    baseline\n",
       " 4    baseline\n",
       " Name: drug_applied, dtype: object,\n",
       " 955    ach\n",
       " 956    ach\n",
       " 957    ach\n",
       " 958    ach\n",
       " 959    ach\n",
       " Name: drug_applied, dtype: object)"
      ]
     },
     "metadata": {},
     "execution_count": 7
    }
   ],
   "source": [
    "base_v_ach = y.copy()\n",
    "base_v_ach = base_v_ach[base_v_ach<2]\n",
    "base_v_ach[base_v_ach==0] = 'baseline'\n",
    "base_v_ach[base_v_ach==1] = 'ach'\n",
    "base_v_ach.name = 'drug_applied'\n",
    "df_base_v_ach = df.iloc[base_v_ach.index,:]\n",
    "subject_base_v_ach = subject[base_v_ach.index]\n",
    "base_v_ach.shape, base_v_ach.head(), base_v_ach.tail()"
   ]
  },
  {
   "cell_type": "code",
   "execution_count": 8,
   "metadata": {},
   "outputs": [],
   "source": [
    "base_v_ach.to_hdf('../data/FINAL/y_base_v_ach.h5', key='data', complevel=9)\n",
    "subject_base_v_ach.to_hdf('../data/FINAL/subject_base_v_ach.h5', key='data', complevel=9)\n",
    "df_base_v_ach.to_hdf('../data/FINAL/X_base_v_ach.h5', key='data', complevel=9)"
   ]
  },
  {
   "cell_type": "code",
   "execution_count": 13,
   "metadata": {},
   "outputs": [],
   "source": [
    "base_v_drug.to_hdf('../data/FINAL/y_base_v_drug.h5', key='data', complevel=9)\n",
    "subject.to_hdf('../data/FINAL/subject_base_v_drug.h5', key='data', complevel=9)\n",
    "df.to_hdf('../data/FINAL/X_base_v_drug.h5', key='data', complevel=9)"
   ]
  },
  {
   "cell_type": "code",
   "execution_count": 14,
   "metadata": {},
   "outputs": [],
   "source": [
    "first_v_second.to_hdf('../data/FINAL/y_first_v_second.h5', key='data', complevel=9)\n",
    "subject_first_v_second.to_hdf('../data/FINAL/subject_first_v_second.h5', key='data', complevel=9)\n",
    "df_first_v_second.to_hdf('../data/FINAL/X_first_v_second.h5', key='data', complevel=9)"
   ]
  },
  {
   "cell_type": "code",
   "execution_count": 15,
   "metadata": {},
   "outputs": [],
   "source": [
    "at_v_hex.to_hdf('../data/FINAL/y_at_v_hex.h5', key='data', complevel=9)\n",
    "subject_at_v_hex.to_hdf('../data/FINAL/subject_at_v_hex.h5', key='data', complevel=9)\n",
    "df_at_v_hex.to_hdf('../data/FINAL/X_at_v_hex.h5', key='data', complevel=9)\n"
   ]
  },
  {
   "cell_type": "code",
   "execution_count": 16,
   "metadata": {},
   "outputs": [
    {
     "output_type": "execute_result",
     "data": {
      "text/plain": [
       "((480,),\n",
       " 0    baseline\n",
       " 1    baseline\n",
       " 2    baseline\n",
       " 3    baseline\n",
       " 4    baseline\n",
       " Name: y, dtype: object,\n",
       " 925    baseline\n",
       " 926    baseline\n",
       " 927    baseline\n",
       " 928    baseline\n",
       " 929    baseline\n",
       " Name: y, dtype: object)"
      ]
     },
     "metadata": {},
     "execution_count": 16
    }
   ],
   "source": [
    "# baseline vs. at\n",
    "base_v_at = y.copy()\n",
    "base_v_at = base_v_at[(base_v_at==0) | (base_v_at==2)]\n",
    "base_v_at[base_v_at==0] = 'baseline'\n",
    "base_v_at[base_v_at==2] = 'at'\n",
    "df_base_v_at = df.iloc[base_v_at.index,:]\n",
    "subject_base_v_at = subject[base_v_at.index]\n",
    "base_v_at.shape, base_v_at.head(), base_v_at.tail()\n"
   ]
  },
  {
   "cell_type": "code",
   "execution_count": 17,
   "metadata": {},
   "outputs": [
    {
     "output_type": "execute_result",
     "data": {
      "text/plain": [
       "((510,),\n",
       " 0    baseline\n",
       " 1    baseline\n",
       " 2    baseline\n",
       " 3    baseline\n",
       " 4    baseline\n",
       " Name: drug_applied, dtype: object,\n",
       " 985    hex\n",
       " 986    hex\n",
       " 987    hex\n",
       " 988    hex\n",
       " 989    hex\n",
       " Name: drug_applied, dtype: object)"
      ]
     },
     "metadata": {},
     "execution_count": 17
    }
   ],
   "source": [
    "# baseline vs. hex\n",
    "base_v_hex = y.copy()\n",
    "base_v_hex = base_v_hex[(base_v_hex==0) | (base_v_hex==3)]\n",
    "base_v_hex[base_v_hex==0] = 'baseline'\n",
    "base_v_hex[base_v_hex==3] = 'hex'\n",
    "base_v_hex.name = 'drug_applied'\n",
    "df_base_v_hex = df.iloc[base_v_hex.index,:]\n",
    "subject_base_v_hex = subject[base_v_hex.index]\n",
    "base_v_hex.shape, base_v_hex.head(), base_v_hex.tail()"
   ]
  },
  {
   "cell_type": "code",
   "execution_count": 18,
   "metadata": {},
   "outputs": [
    {
     "output_type": "execute_result",
     "data": {
      "text/plain": [
       "((510,),\n",
       " 30    ach\n",
       " 31    ach\n",
       " 32    ach\n",
       " 33    ach\n",
       " 34    ach\n",
       " Name: drug_applied, dtype: object,\n",
       " 985    hex\n",
       " 986    hex\n",
       " 987    hex\n",
       " 988    hex\n",
       " 989    hex\n",
       " Name: drug_applied, dtype: object)"
      ]
     },
     "metadata": {},
     "execution_count": 18
    }
   ],
   "source": [
    "# ach vs. hex\n",
    "ach_v_hex = y.copy()\n",
    "ach_v_hex = ach_v_hex[(ach_v_hex==1) | (ach_v_hex==3)]\n",
    "ach_v_hex[ach_v_hex==1] = 'ach'\n",
    "ach_v_hex[ach_v_hex==3] = 'hex'\n",
    "ach_v_hex.name = 'drug_applied'\n",
    "df_ach_v_hex = df.iloc[ach_v_hex.index,:]\n",
    "subject_ach_v_hex = subject[ach_v_hex.index]\n",
    "ach_v_hex.shape, ach_v_hex.head(), ach_v_hex.tail()"
   ]
  },
  {
   "cell_type": "code",
   "execution_count": 19,
   "metadata": {},
   "outputs": [],
   "source": [
    "ach_v_hex.to_hdf('../data/FINAL/y_ach_v_hex.h5', key='data', complevel=9)\n",
    "subject_ach_v_hex.to_hdf('../data/FINAL/subject_ach_v_hex.h5', key='data', complevel=9)\n",
    "df_ach_v_hex.to_hdf('../data/FINAL/X_ach_v_hex.h5', key='data', complevel=9)"
   ]
  },
  {
   "cell_type": "code",
   "execution_count": 20,
   "metadata": {},
   "outputs": [],
   "source": [
    "base_v_hex.to_hdf('../data/FINAL/y_base_v_hex.h5', key='data', complevel=9)\n",
    "subject_base_v_hex.to_hdf('../data/FINAL/subject_base_v_hex.h5', key='data', complevel=9)\n",
    "df_base_v_hex.to_hdf('../data/FINAL/X_base_v_hex.h5', key='data', complevel=9)"
   ]
  },
  {
   "cell_type": "code",
   "execution_count": 21,
   "metadata": {},
   "outputs": [],
   "source": [
    "base_v_at.to_hdf('../data/FINAL/y_base_v_at.h5', key='data', complevel=9)\n",
    "subject_base_v_at.to_hdf('../data/FINAL/subject_base_v_at.h5', key='data', complevel=9)\n",
    "df_base_v_at.to_hdf('../data/FINAL/X_base_v_at.h5', key='data', complevel=9)"
   ]
  },
  {
   "cell_type": "code",
   "execution_count": null,
   "metadata": {},
   "outputs": [],
   "source": []
  }
 ],
 "metadata": {
  "kernelspec": {
   "display_name": "Python 3.8.3 64-bit ('ts': conda)",
   "language": "python",
   "name": "python38364bittscondaf81521992d8a4ac1866bc3d1177ada83"
  },
  "language_info": {
   "codemirror_mode": {
    "name": "ipython",
    "version": 3
   },
   "file_extension": ".py",
   "mimetype": "text/x-python",
   "name": "python",
   "nbconvert_exporter": "python",
   "pygments_lexer": "ipython3",
   "version": "3.8.3-final"
  }
 },
 "nbformat": 4,
 "nbformat_minor": 2
}