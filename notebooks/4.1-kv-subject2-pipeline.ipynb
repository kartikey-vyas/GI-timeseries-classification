{
 "cells": [
  {
   "cell_type": "markdown",
   "metadata": {},
   "source": [
    "# Classifying Drug Administration on Subject 2 (Ach-AT)\n",
    "\n",
    "## Loading and Processing Data\n",
    "Using the functions written in `src/data/load_data.py`, we convert the raw signals into a format containing discrete time windows.  \n",
    "This format is suitable for tsfresh to then be used to extract relevant features."
   ]
  },
  {
   "cell_type": "code",
   "execution_count": 1,
   "metadata": {},
   "outputs": [],
   "source": [
    "from src.data.load_data import *\n",
    "\n",
    "import numpy as np\n",
    "import pandas as pd\n",
    "import matplotlib.pyplot as plt\n",
    "\n",
    "\n",
    "from tsfresh import extract_features\n",
    "from tsfresh.feature_extraction import MinimalFCParameters"
   ]
  },
  {
   "cell_type": "code",
   "execution_count": 4,
   "metadata": {},
   "outputs": [],
   "source": [
    "ach_at_02 = load_MEA_data(folder = \"data/raw/Ach-AT-subject-02\")\n",
    "# take middle horizontal strip of electrodes\n",
    "label_MEA_data(ach_at_02, output='ach_at_subject_02')"
   ]
  },
  {
   "cell_type": "code",
   "execution_count": 2,
   "metadata": {},
   "outputs": [],
   "source": [
    "df = pd.read_hdf(\"data/processed/ach_at_subject_02.h5\")"
   ]
  },
  {
   "cell_type": "code",
   "execution_count": 3,
   "metadata": {},
   "outputs": [],
   "source": [
    "y = (df[['window_id','y']]\n",
    "     .drop_duplicates()\n",
    "     .set_index('window_id')\n",
    "     .T\n",
    "     .squeeze()\n",
    "     .sort_index(0))\n",
    "\n",
    "cols = ['t', 'window_id', 15, 14, 13,  4, 57, 48, 47, 46]\n",
    "df_middle = df[cols]\n",
    "df = df.drop(columns = ['y'])"
   ]
  },
  {
   "cell_type": "code",
   "execution_count": 6,
   "metadata": {},
   "outputs": [
    {
     "name": "stderr",
     "output_type": "stream",
     "text": [
      "Feature Extraction: 100%|██████████| 10/10 [00:04<00:00,  2.01it/s]\n"
     ]
    }
   ],
   "source": [
    "X = extract_features(df, column_id='window_id', column_sort='t', default_fc_parameters=MinimalFCParameters())\n",
    "X.to_hdf('achat_02_min.h5', key = 'features', complevel = 9)"
   ]
  },
  {
   "cell_type": "code",
   "execution_count": 7,
   "metadata": {},
   "outputs": [
    {
     "name": "stderr",
     "output_type": "stream",
     "text": [
      "Feature Extraction: 100%|██████████| 10/10 [00:00<00:00, 19.79it/s]\n"
     ]
    }
   ],
   "source": [
    "X_middle = extract_features(df_middle, column_id='window_id', column_sort='t', default_fc_parameters=MinimalFCParameters())\n",
    "X_middle.to_hdf('achat_02_min_middle.h5', key = 'features', complevel = 9)"
   ]
  },
  {
   "cell_type": "markdown",
   "metadata": {},
   "source": [
    "## Model Fitting\n",
    "\n",
    "Compare the performance of decision trees (individual, interpretable) and random forests (ensemble).\n",
    "Fit both types of model on each set of features and identify which combination results in the highest classification accuracy."
   ]
  },
  {
   "cell_type": "code",
   "execution_count": 14,
   "metadata": {},
   "outputs": [],
   "source": [
    "from sklearn import tree\n",
    "from sklearn.model_selection import train_test_split\n",
    "from sklearn.metrics import classification_report\n",
    "from sklearn.metrics import confusion_matrix\n",
    "from sklearn.ensemble import RandomForestClassifier\n",
    "from sklearn.model_selection import cross_val_score\n",
    "\n",
    "from tsfresh import select_features\n",
    "from tsfresh.utilities.dataframe_functions import impute"
   ]
  },
  {
   "cell_type": "markdown",
   "metadata": {},
   "source": [
    "### Feature set 1: Middle strip of electrodes from MEA"
   ]
  },
  {
   "cell_type": "code",
   "execution_count": 56,
   "metadata": {},
   "outputs": [],
   "source": [
    "X_middle = pd.read_hdf('trial_data/achat_02_min_middle.h5')\n",
    "# first try with just the middle strip\n",
    "impute(X_middle)\n",
    "X_middle_filtered = select_features(X_middle, y)"
   ]
  },
  {
   "cell_type": "code",
   "execution_count": 62,
   "metadata": {
    "tags": []
   },
   "outputs": [
    {
     "output_type": "stream",
     "name": "stdout",
     "text": "precision    recall  f1-score   support\n\n           0       0.91      1.00      0.95        10\n           1       0.93      0.87      0.90        15\n           2       0.85      0.85      0.85        13\n\n    accuracy                           0.89        38\n   macro avg       0.89      0.90      0.90        38\nweighted avg       0.90      0.89      0.89        38\n\n[[10  0  0]\n [ 0 13  2]\n [ 1  1 11]]\n              precision    recall  f1-score   support\n\n           0       1.00      1.00      1.00        10\n           1       0.92      0.80      0.86        15\n           2       0.80      0.92      0.86        13\n\n    accuracy                           0.89        38\n   macro avg       0.91      0.91      0.90        38\nweighted avg       0.90      0.89      0.89        38\n\n[[10  0  0]\n [ 0 12  3]\n [ 0  1 12]]\n\n TREE \n Mean 3-fold cross-validation score = 0.8172043010752689\n\n RANDOM FOREST \n Mean 3-fold cross-validation score = 0.9032258064516129\n"
    }
   ],
   "source": [
    "## Evaluation Method 1: split training and test data\n",
    "X_middle_train, X_middle_test, y_train, y_test = train_test_split(X_middle_filtered, y, test_size=.4)\n",
    "\n",
    "# TREE\n",
    "tree_middle = tree.DecisionTreeClassifier()\n",
    "tree_middle.fit(X_middle_train, y_train)\n",
    "print(classification_report(y_test, tree_middle.predict(X_middle_test)))\n",
    "print(confusion_matrix(y_test, tree_middle.predict(X_middle_test)))\n",
    "\n",
    "# RANDOM FOREST\n",
    "rf = RandomForestClassifier(n_estimators = 200, max_depth=3, random_state=0)\n",
    "rf.fit(X_middle_train, y_train)\n",
    "print(classification_report(y_test, rf.predict(X_middle_test)))\n",
    "print(confusion_matrix(y_test, rf.predict(X_middle_test)))\n",
    "\n",
    "## Evaluation Method 2: k-fold cross validation\n",
    "# TREE\n",
    "print('\\n TREE \\n Mean 3-fold cross-validation score = '+str(np.mean(cross_val_score(tree_middle, X_middle, y, cv=3))))\n",
    "\n",
    "# RANDOM FOREST\n",
    "print('\\n RANDOM FOREST \\n Mean 3-fold cross-validation score = '+str(np.mean(cross_val_score(rf, X_middle, y, cv=3))))"
   ]
  },
  {
   "cell_type": "markdown",
   "metadata": {},
   "source": [
    "### Feature set 2: All electrodes from MEA"
   ]
  },
  {
   "cell_type": "code",
   "execution_count": 64,
   "metadata": {},
   "outputs": [],
   "source": [
    "X = pd.read_hdf('trial_data/achat_02_min.h5')\n",
    "# next try with the entire electrode array\n",
    "impute(X)\n",
    "X_filtered = select_features(X, y)"
   ]
  },
  {
   "cell_type": "code",
   "execution_count": 68,
   "metadata": {
    "tags": []
   },
   "outputs": [
    {
     "output_type": "stream",
     "name": "stdout",
     "text": "\n TREE \n\n              precision    recall  f1-score   support\n\n           0       1.00      1.00      1.00        12\n           1       0.75      0.86      0.80        14\n           2       0.80      0.67      0.73        12\n\n    accuracy                           0.84        38\n   macro avg       0.85      0.84      0.84        38\nweighted avg       0.84      0.84      0.84        38\n\n[[12  0  0]\n [ 0 12  2]\n [ 0  4  8]]\n\n RANDOM FOREST \n\n              precision    recall  f1-score   support\n\n           0       1.00      1.00      1.00        12\n           1       0.93      0.93      0.93        14\n           2       0.92      0.92      0.92        12\n\n    accuracy                           0.95        38\n   macro avg       0.95      0.95      0.95        38\nweighted avg       0.95      0.95      0.95        38\n\n[[12  0  0]\n [ 0 13  1]\n [ 0  1 11]]\n\n TREE \n Mean 3-fold cross-validation score = 0.8494623655913979\n\n RANDOM FOREST \n Mean 3-fold cross-validation score = 0.935483870967742\n"
    }
   ],
   "source": [
    "## Evaluation Method 1: split training and test data\n",
    "X_train, X_test, y_train, y_test = train_test_split(X_filtered, y, test_size=.4)\n",
    "\n",
    "# TREE\n",
    "tree_full = tree.DecisionTreeClassifier()\n",
    "tree_full.fit(X_train, y_train)\n",
    "print('\\n TREE \\n')\n",
    "print(classification_report(y_test, tree_full.predict(X_test)))\n",
    "print(confusion_matrix(y_test, tree_full.predict(X_test)))\n",
    "\n",
    "# RANDOM FOREST\n",
    "print('\\n RANDOM FOREST \\n')\n",
    "rf = RandomForestClassifier(n_estimators = 200, max_depth=3, random_state=0)\n",
    "rf.fit(X_train, y_train)\n",
    "print(classification_report(y_test, rf.predict(X_test)))\n",
    "print(confusion_matrix(y_test, rf.predict(X_test)))\n",
    "\n",
    "## Evaluation Method 2: k-fold cross validation\n",
    "# TREE\n",
    "print('\\n TREE \\n Mean 3-fold cross-validation score = '+str(np.mean(cross_val_score(tree_full, X_filtered, y, cv=3))))\n",
    "\n",
    "# RANDOM FOREST\n",
    "print('\\n RANDOM FOREST \\n Mean 3-fold cross-validation score = '+str(np.mean(cross_val_score(rf, X_filtered, y, cv=3))))"
   ]
  },
  {
   "cell_type": "markdown",
   "metadata": {
    "tags": []
   },
   "source": [
    "We observe that using the set of features generated from all of the electrodes provides slightly higher classification accuracy than only using the middle strip of electrodes. This confirms to me that we should be using all of the data when fitting a model to the whole dataset.  \n",
    "Unsurprisingly, random forests perform better than individual trees. 3-fold cross-validation provides a less biased estimate of out-of-sample model accuracy. Additionally, we observe from the confusion matrices that each of the target variables share similar classification accuracies hence overall accuracy is not heavily biased. "
   ]
  }
 ],
 "metadata": {
  "kernelspec": {
   "display_name": "Python 3.8.2 64-bit ('ts': conda)",
   "language": "python",
   "name": "python38264bittscondab4ffa1b40d204a5ab108bc7e8538d97f"
  },
  "language_info": {
   "codemirror_mode": {
    "name": "ipython",
    "version": 3
   },
   "file_extension": ".py",
   "mimetype": "text/x-python",
   "name": "python",
   "nbconvert_exporter": "python",
   "pygments_lexer": "ipython3",
   "version": "3.8.3-final"
  }
 },
 "nbformat": 4,
 "nbformat_minor": 4
}