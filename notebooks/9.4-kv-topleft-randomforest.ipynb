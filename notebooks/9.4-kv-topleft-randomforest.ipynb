{
 "metadata": {
  "language_info": {
   "codemirror_mode": {
    "name": "ipython",
    "version": 3
   },
   "file_extension": ".py",
   "mimetype": "text/x-python",
   "name": "python",
   "nbconvert_exporter": "python",
   "pygments_lexer": "ipython3",
   "version": "3.8.3-final"
  },
  "orig_nbformat": 2,
  "kernelspec": {
   "name": "Python 3.8.3 64-bit ('ts': conda)",
   "display_name": "Python 3.8.3 64-bit ('ts': conda)",
   "metadata": {
    "interpreter": {
     "hash": "af57dacc884d19bd906c8f4e69edc53d6849a03dfff6f50bcd72ccc277c01548"
    }
   }
  }
 },
 "nbformat": 4,
 "nbformat_minor": 2,
 "cells": [
  {
   "cell_type": "code",
   "execution_count": 1,
   "metadata": {},
   "outputs": [],
   "source": [
    "import sys\n",
    "sys.path.insert(0, \"..\")\n",
    "%load_ext autoreload\n",
    "%autoreload 2"
   ]
  },
  {
   "cell_type": "code",
   "execution_count": 2,
   "metadata": {},
   "outputs": [],
   "source": [
    "from joblib import load\n",
    "import pandas as pd\n",
    "from sklearn.model_selection import GridSearchCV, GroupKFold, cross_val_score\n",
    "from sklearn.ensemble import RandomForestClassifier\n",
    "from src.features.modified_feature_selector import FeatureSelector\n",
    "import matplotlib.pyplot as plt\n",
    "import seaborn as sns\n",
    "import numpy as np"
   ]
  },
  {
   "cell_type": "code",
   "execution_count": 3,
   "metadata": {},
   "outputs": [],
   "source": [
    "X = pd.read_hdf('../data/FINAL/X_base_v_ach_v_at_TOPLEFT.h5')\n",
    "y = pd.read_hdf('../data/FINAL/y_base_v_ach_v_at.h5')\n",
    "subject = pd.read_hdf('../data/FINAL/subject_base_v_ach_v_at.h5')"
   ]
  },
  {
   "cell_type": "code",
   "execution_count": 4,
   "metadata": {},
   "outputs": [],
   "source": [
    "fs = FeatureSelector(multiclass=True, ml_task='classification', n_significant=3)\n",
    "fs.fit(X,y)\n",
    "X_filt = fs.transform(X)"
   ]
  },
  {
   "cell_type": "code",
   "execution_count": 10,
   "metadata": {},
   "outputs": [],
   "source": [
    "rf = RandomForestClassifier(n_estimators=100, max_depth=None)\n",
    "gkf = GroupKFold(n_splits = len(subject.unique()))\n",
    "gkf = list(gkf.split(X, y, subject))"
   ]
  },
  {
   "cell_type": "code",
   "execution_count": 11,
   "metadata": {},
   "outputs": [
    {
     "output_type": "execute_result",
     "data": {
      "text/plain": [
       "array([0.35555556, 0.32222222, 0.43333333, 0.51111111, 0.45555556,\n",
       "       0.66666667, 0.75      , 0.6       , 0.7       , 0.51666667,\n",
       "       0.65      ])"
      ]
     },
     "metadata": {},
     "execution_count": 11
    }
   ],
   "source": [
    "cross_val_score(rf, X_filt, y, cv=gkf, n_jobs=8)"
   ]
  },
  {
   "cell_type": "code",
   "execution_count": 9,
   "metadata": {},
   "outputs": [
    {
     "output_type": "execute_result",
     "data": {
      "text/plain": [
       "0.5575757563636364"
      ]
     },
     "metadata": {},
     "execution_count": 9
    }
   ],
   "source": [
    "np.mean([0.33333333, 0.31111111, 0.47777778, 0.52222222, 0.42222222,\n",
    "       0.68333333, 0.81666667, 0.63333333, 0.68333333, 0.53333333,\n",
    "       0.71666667])"
   ]
  }
 ]
}