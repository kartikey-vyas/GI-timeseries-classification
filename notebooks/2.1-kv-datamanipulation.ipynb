{
 "metadata": {
  "language_info": {
   "codemirror_mode": {
    "name": "ipython",
    "version": 3
   },
   "file_extension": ".py",
   "mimetype": "text/x-python",
   "name": "python",
   "nbconvert_exporter": "python",
   "pygments_lexer": "ipython3",
   "version": "3.8.3-final"
  },
  "orig_nbformat": 2,
  "kernelspec": {
   "name": "Python 3.8.3 64-bit ('ts': conda)",
   "display_name": "Python 3.8.3 64-bit ('ts': conda)",
   "metadata": {
    "interpreter": {
     "hash": "af57dacc884d19bd906c8f4e69edc53d6849a03dfff6f50bcd72ccc277c01548"
    }
   }
  }
 },
 "nbformat": 4,
 "nbformat_minor": 2,
 "cells": [
  {
   "cell_type": "code",
   "execution_count": 1,
   "metadata": {},
   "outputs": [],
   "source": [
    "import pandas as pd\n",
    "import numpy as np"
   ]
  },
  {
   "cell_type": "code",
   "execution_count": 2,
   "metadata": {},
   "outputs": [],
   "source": [
    "ach_at_hex = pd.read_hdf('../data/features/ach-at-hex_6000_eff_combined.h5')"
   ]
  },
  {
   "cell_type": "code",
   "execution_count": 3,
   "metadata": {},
   "outputs": [],
   "source": [
    "y = pd.read_hdf('../data/processed/y_4_class_6000.h5')\n",
    "subject = pd.read_hdf('../data/processed/subject_6000.h5')"
   ]
  },
  {
   "cell_type": "code",
   "execution_count": 4,
   "metadata": {},
   "outputs": [],
   "source": [
    "y = y.reset_index(drop=True)\n",
    "df = pd.concat([ach_at_hex, y], axis=1)"
   ]
  },
  {
   "cell_type": "code",
   "execution_count": 5,
   "metadata": {},
   "outputs": [],
   "source": [
    "df_ach_at = df[df['y'] != 3]"
   ]
  },
  {
   "cell_type": "code",
   "execution_count": 6,
   "metadata": {},
   "outputs": [
    {
     "output_type": "execute_result",
     "data": {
      "text/plain": "1    330\n0    330\n2    150\nName: y, dtype: int64"
     },
     "metadata": {},
     "execution_count": 6
    }
   ],
   "source": [
    "df_ach_at.y.value_counts()"
   ]
  },
  {
   "cell_type": "code",
   "execution_count": 23,
   "metadata": {},
   "outputs": [],
   "source": [
    "subject = subject.reset_index(drop=True)\n",
    "subject_y = pd.concat([y, subject], axis=1)\n",
    "subject_ach_at = subject_y[subject_y['y'] != 3]\n",
    "y_at = y[y != 3]\n",
    "df = df_ach_at.drop(columns=['y'])"
   ]
  },
  {
   "cell_type": "code",
   "execution_count": 25,
   "metadata": {},
   "outputs": [],
   "source": [
    "subject_ach_at.to_hdf('../data/processed/subject_6000_AT.h5', key='data', complevel=9)\n",
    "y_at.to_hdf('../data/processed/y_3_class_6000_AT.h5', key='data', complevel=9)\n",
    "df.to_hdf('../data/features/ach-at_6000_eff_combined.h5', key='data', complevel=9)"
   ]
  }
 ]
}