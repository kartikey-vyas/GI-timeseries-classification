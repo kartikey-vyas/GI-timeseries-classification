{
 "cells": [
  {
   "cell_type": "markdown",
   "metadata": {},
   "source": [
    "# Multiclass Example"
   ]
  },
  {
   "cell_type": "markdown",
   "metadata": {},
   "source": [
    "This example show shows how to use `tsfresh` to extract and select useful features from timeseries in a multiclass classification example.\n",
    "\n",
    "We use an example dataset of human activity recognition for this.\n",
    "The dataset consists of timeseries for 7352 accelerometer readings. \n",
    "Each reading represents an accelerometer reading for 2.56 sec at 50hz (for a total of 128 samples per reading). Furthermore, each reading corresponds one of six activities (walking, walking upstairs, walking downstairs, sitting, standing and laying).\n",
    "\n",
    "For more information go to https://archive.ics.uci.edu/ml/datasets/Human+Activity+Recognition+Using+Smartphones\n",
    "\n",
    "This notebook follows the example in [the first notebook](./01%20Feature%20Extraction%20and%20Selection.ipynb), so we will go quickly over the extraction and focus on the more interesting feature selection in this case."
   ]
  },
  {
   "cell_type": "code",
   "execution_count": 1,
   "metadata": {},
   "outputs": [],
   "source": [
    "%matplotlib inline\n",
    "import matplotlib.pylab as plt\n",
    "\n",
    "from tsfresh import extract_features, extract_relevant_features, select_features\n",
    "from tsfresh.utilities.dataframe_functions import impute\n",
    "\n",
    "from sklearn.tree import DecisionTreeClassifier\n",
    "from sklearn.model_selection import train_test_split\n",
    "from sklearn.metrics import classification_report\n",
    "\n",
    "import pandas as pd\n",
    "import numpy as np"
   ]
  },
  {
   "cell_type": "markdown",
   "metadata": {},
   "source": [
    "## Load and visualize data"
   ]
  },
  {
   "cell_type": "code",
   "execution_count": 2,
   "metadata": {},
   "outputs": [],
   "source": [
    "from tsfresh.examples.har_dataset import download_har_dataset, load_har_dataset, load_har_classes\n",
    "\n",
    "# fetch dataset from uci\n",
    "download_har_dataset()"
   ]
  },
  {
   "cell_type": "code",
   "execution_count": 10,
   "metadata": {},
   "outputs": [
    {
     "data": {
      "text/html": [
       "<div>\n",
       "<style scoped>\n",
       "    .dataframe tbody tr th:only-of-type {\n",
       "        vertical-align: middle;\n",
       "    }\n",
       "\n",
       "    .dataframe tbody tr th {\n",
       "        vertical-align: top;\n",
       "    }\n",
       "\n",
       "    .dataframe thead th {\n",
       "        text-align: right;\n",
       "    }\n",
       "</style>\n",
       "<table border=\"1\" class=\"dataframe\">\n",
       "  <thead>\n",
       "    <tr style=\"text-align: right;\">\n",
       "      <th></th>\n",
       "      <th>0</th>\n",
       "      <th>1</th>\n",
       "      <th>2</th>\n",
       "      <th>3</th>\n",
       "      <th>4</th>\n",
       "      <th>5</th>\n",
       "      <th>6</th>\n",
       "      <th>7</th>\n",
       "      <th>8</th>\n",
       "      <th>9</th>\n",
       "      <th>...</th>\n",
       "      <th>118</th>\n",
       "      <th>119</th>\n",
       "      <th>120</th>\n",
       "      <th>121</th>\n",
       "      <th>122</th>\n",
       "      <th>123</th>\n",
       "      <th>124</th>\n",
       "      <th>125</th>\n",
       "      <th>126</th>\n",
       "      <th>127</th>\n",
       "    </tr>\n",
       "  </thead>\n",
       "  <tbody>\n",
       "    <tr>\n",
       "      <th>0</th>\n",
       "      <td>0.000181</td>\n",
       "      <td>0.010139</td>\n",
       "      <td>0.009276</td>\n",
       "      <td>0.005066</td>\n",
       "      <td>0.010810</td>\n",
       "      <td>0.004045</td>\n",
       "      <td>0.004757</td>\n",
       "      <td>0.006214</td>\n",
       "      <td>0.003307</td>\n",
       "      <td>0.007572</td>\n",
       "      <td>...</td>\n",
       "      <td>0.001412</td>\n",
       "      <td>-0.001509</td>\n",
       "      <td>0.000060</td>\n",
       "      <td>0.000435</td>\n",
       "      <td>-0.000819</td>\n",
       "      <td>0.000228</td>\n",
       "      <td>-0.000300</td>\n",
       "      <td>-0.001147</td>\n",
       "      <td>-0.000222</td>\n",
       "      <td>0.001576</td>\n",
       "    </tr>\n",
       "    <tr>\n",
       "      <th>1</th>\n",
       "      <td>0.001094</td>\n",
       "      <td>0.004550</td>\n",
       "      <td>0.002879</td>\n",
       "      <td>0.002247</td>\n",
       "      <td>0.003305</td>\n",
       "      <td>0.002416</td>\n",
       "      <td>0.001619</td>\n",
       "      <td>0.000981</td>\n",
       "      <td>0.000009</td>\n",
       "      <td>-0.000363</td>\n",
       "      <td>...</td>\n",
       "      <td>-0.000104</td>\n",
       "      <td>-0.000141</td>\n",
       "      <td>0.001333</td>\n",
       "      <td>0.001541</td>\n",
       "      <td>0.001077</td>\n",
       "      <td>-0.000736</td>\n",
       "      <td>-0.003767</td>\n",
       "      <td>-0.004646</td>\n",
       "      <td>-0.002941</td>\n",
       "      <td>-0.001599</td>\n",
       "    </tr>\n",
       "    <tr>\n",
       "      <th>2</th>\n",
       "      <td>0.003531</td>\n",
       "      <td>0.002285</td>\n",
       "      <td>-0.000420</td>\n",
       "      <td>-0.003738</td>\n",
       "      <td>-0.006706</td>\n",
       "      <td>-0.003148</td>\n",
       "      <td>0.000733</td>\n",
       "      <td>0.000668</td>\n",
       "      <td>0.002162</td>\n",
       "      <td>-0.000946</td>\n",
       "      <td>...</td>\n",
       "      <td>0.000661</td>\n",
       "      <td>0.001853</td>\n",
       "      <td>-0.000268</td>\n",
       "      <td>-0.000394</td>\n",
       "      <td>-0.000279</td>\n",
       "      <td>-0.000316</td>\n",
       "      <td>0.000144</td>\n",
       "      <td>0.001246</td>\n",
       "      <td>0.003117</td>\n",
       "      <td>0.002178</td>\n",
       "    </tr>\n",
       "    <tr>\n",
       "      <th>3</th>\n",
       "      <td>-0.001772</td>\n",
       "      <td>-0.001311</td>\n",
       "      <td>0.000388</td>\n",
       "      <td>0.000408</td>\n",
       "      <td>-0.000355</td>\n",
       "      <td>0.000998</td>\n",
       "      <td>0.001109</td>\n",
       "      <td>-0.003149</td>\n",
       "      <td>-0.008882</td>\n",
       "      <td>-0.010483</td>\n",
       "      <td>...</td>\n",
       "      <td>0.000458</td>\n",
       "      <td>0.002103</td>\n",
       "      <td>0.001358</td>\n",
       "      <td>0.000820</td>\n",
       "      <td>-0.000212</td>\n",
       "      <td>-0.001915</td>\n",
       "      <td>-0.001631</td>\n",
       "      <td>-0.000867</td>\n",
       "      <td>-0.001172</td>\n",
       "      <td>-0.000028</td>\n",
       "    </tr>\n",
       "    <tr>\n",
       "      <th>4</th>\n",
       "      <td>0.000087</td>\n",
       "      <td>-0.000272</td>\n",
       "      <td>0.001022</td>\n",
       "      <td>0.003126</td>\n",
       "      <td>0.002284</td>\n",
       "      <td>0.000885</td>\n",
       "      <td>0.001933</td>\n",
       "      <td>0.002270</td>\n",
       "      <td>0.002247</td>\n",
       "      <td>0.002175</td>\n",
       "      <td>...</td>\n",
       "      <td>0.002529</td>\n",
       "      <td>0.003518</td>\n",
       "      <td>-0.000248</td>\n",
       "      <td>-0.002761</td>\n",
       "      <td>0.000252</td>\n",
       "      <td>0.003752</td>\n",
       "      <td>0.001626</td>\n",
       "      <td>-0.000698</td>\n",
       "      <td>-0.001223</td>\n",
       "      <td>-0.003328</td>\n",
       "    </tr>\n",
       "  </tbody>\n",
       "</table>\n",
       "<p>5 rows × 128 columns</p>\n",
       "</div>"
      ],
      "text/plain": [
       "        0         1         2         3         4         5         6    \\\n",
       "0  0.000181  0.010139  0.009276  0.005066  0.010810  0.004045  0.004757   \n",
       "1  0.001094  0.004550  0.002879  0.002247  0.003305  0.002416  0.001619   \n",
       "2  0.003531  0.002285 -0.000420 -0.003738 -0.006706 -0.003148  0.000733   \n",
       "3 -0.001772 -0.001311  0.000388  0.000408 -0.000355  0.000998  0.001109   \n",
       "4  0.000087 -0.000272  0.001022  0.003126  0.002284  0.000885  0.001933   \n",
       "\n",
       "        7         8         9    ...       118       119       120       121  \\\n",
       "0  0.006214  0.003307  0.007572  ...  0.001412 -0.001509  0.000060  0.000435   \n",
       "1  0.000981  0.000009 -0.000363  ... -0.000104 -0.000141  0.001333  0.001541   \n",
       "2  0.000668  0.002162 -0.000946  ...  0.000661  0.001853 -0.000268 -0.000394   \n",
       "3 -0.003149 -0.008882 -0.010483  ...  0.000458  0.002103  0.001358  0.000820   \n",
       "4  0.002270  0.002247  0.002175  ...  0.002529  0.003518 -0.000248 -0.002761   \n",
       "\n",
       "        122       123       124       125       126       127  \n",
       "0 -0.000819  0.000228 -0.000300 -0.001147 -0.000222  0.001576  \n",
       "1  0.001077 -0.000736 -0.003767 -0.004646 -0.002941 -0.001599  \n",
       "2 -0.000279 -0.000316  0.000144  0.001246  0.003117  0.002178  \n",
       "3 -0.000212 -0.001915 -0.001631 -0.000867 -0.001172 -0.000028  \n",
       "4  0.000252  0.003752  0.001626 -0.000698 -0.001223 -0.003328  \n",
       "\n",
       "[5 rows x 128 columns]"
      ]
     },
     "execution_count": 10,
     "metadata": {},
     "output_type": "execute_result"
    }
   ],
   "source": [
    "df = load_har_dataset()\n",
    "df.head()"
   ]
  },
  {
   "cell_type": "code",
   "execution_count": 12,
   "metadata": {},
   "outputs": [],
   "source": [
    "y = load_har_classes()"
   ]
  },
  {
   "cell_type": "markdown",
   "metadata": {},
   "source": [
    "The data is not in a typical time series format so far: \n",
    "the columns are the time steps whereas each row is a measurement of a different person.\n",
    "\n",
    "Therefore we bring it to a format where the time series of different persons are identified by an `id` and are order by time vertically."
   ]
  },
  {
   "cell_type": "code",
   "execution_count": 13,
   "metadata": {},
   "outputs": [],
   "source": [
    "df[\"id\"] = df.index\n",
    "df = df.melt(id_vars=\"id\", var_name=\"time\").sort_values([\"id\", \"time\"]).reset_index(drop=True)"
   ]
  },
  {
   "cell_type": "code",
   "execution_count": 14,
   "metadata": {},
   "outputs": [
    {
     "data": {
      "text/html": [
       "<div>\n",
       "<style scoped>\n",
       "    .dataframe tbody tr th:only-of-type {\n",
       "        vertical-align: middle;\n",
       "    }\n",
       "\n",
       "    .dataframe tbody tr th {\n",
       "        vertical-align: top;\n",
       "    }\n",
       "\n",
       "    .dataframe thead th {\n",
       "        text-align: right;\n",
       "    }\n",
       "</style>\n",
       "<table border=\"1\" class=\"dataframe\">\n",
       "  <thead>\n",
       "    <tr style=\"text-align: right;\">\n",
       "      <th></th>\n",
       "      <th>id</th>\n",
       "      <th>time</th>\n",
       "      <th>value</th>\n",
       "    </tr>\n",
       "  </thead>\n",
       "  <tbody>\n",
       "    <tr>\n",
       "      <th>0</th>\n",
       "      <td>0</td>\n",
       "      <td>0</td>\n",
       "      <td>0.000181</td>\n",
       "    </tr>\n",
       "    <tr>\n",
       "      <th>1</th>\n",
       "      <td>0</td>\n",
       "      <td>1</td>\n",
       "      <td>0.010139</td>\n",
       "    </tr>\n",
       "    <tr>\n",
       "      <th>2</th>\n",
       "      <td>0</td>\n",
       "      <td>2</td>\n",
       "      <td>0.009276</td>\n",
       "    </tr>\n",
       "    <tr>\n",
       "      <th>3</th>\n",
       "      <td>0</td>\n",
       "      <td>3</td>\n",
       "      <td>0.005066</td>\n",
       "    </tr>\n",
       "    <tr>\n",
       "      <th>4</th>\n",
       "      <td>0</td>\n",
       "      <td>4</td>\n",
       "      <td>0.010810</td>\n",
       "    </tr>\n",
       "  </tbody>\n",
       "</table>\n",
       "</div>"
      ],
      "text/plain": [
       "   id time     value\n",
       "0   0    0  0.000181\n",
       "1   0    1  0.010139\n",
       "2   0    2  0.009276\n",
       "3   0    3  0.005066\n",
       "4   0    4  0.010810"
      ]
     },
     "execution_count": 14,
     "metadata": {},
     "output_type": "execute_result"
    }
   ],
   "source": [
    "df.head()"
   ]
  },
  {
   "cell_type": "code",
   "execution_count": 15,
   "metadata": {},
   "outputs": [
    {
     "data": {
      "image/png": "[encoded data removed]",
      "text/plain": [
       "<Figure size 432x288 with 1 Axes>"
      ]
     },
     "metadata": {
      "needs_background": "light"
     },
     "output_type": "display_data"
    }
   ],
   "source": [
    "plt.title('accelerometer reading')\n",
    "plt.plot(df[df[\"id\"] == 0].set_index(\"time\").value)\n",
    "plt.show()"
   ]
  },
  {
   "cell_type": "markdown",
   "metadata": {},
   "source": [
    "## Extract Features"
   ]
  },
  {
   "cell_type": "code",
   "execution_count": 16,
   "metadata": {},
   "outputs": [
    {
     "name": "stderr",
     "output_type": "stream",
     "text": [
      "Feature Extraction: 100%|██████████| 20/20 [00:20<00:00,  1.03s/it]\n"
     ]
    }
   ],
   "source": [
    "# only use the first 500 ids to speed up the processing\n",
    "X = extract_features(df[df[\"id\"] < 500], column_id=\"id\", column_sort=\"time\", impute_function=impute)"
   ]
  },
  {
   "cell_type": "code",
   "execution_count": 17,
   "metadata": {},
   "outputs": [
    {
     "data": {
      "text/html": [
       "<div>\n",
       "<style scoped>\n",
       "    .dataframe tbody tr th:only-of-type {\n",
       "        vertical-align: middle;\n",
       "    }\n",
       "\n",
       "    .dataframe tbody tr th {\n",
       "        vertical-align: top;\n",
       "    }\n",
       "\n",
       "    .dataframe thead th {\n",
       "        text-align: right;\n",
       "    }\n",
       "</style>\n",
       "<table border=\"1\" class=\"dataframe\">\n",
       "  <thead>\n",
       "    <tr style=\"text-align: right;\">\n",
       "      <th>variable</th>\n",
       "      <th>value__abs_energy</th>\n",
       "      <th>value__absolute_sum_of_changes</th>\n",
       "      <th>value__agg_autocorrelation__f_agg_\"mean\"__maxlag_40</th>\n",
       "      <th>value__agg_autocorrelation__f_agg_\"median\"__maxlag_40</th>\n",
       "      <th>value__agg_autocorrelation__f_agg_\"var\"__maxlag_40</th>\n",
       "      <th>value__agg_linear_trend__f_agg_\"max\"__chunk_len_10__attr_\"intercept\"</th>\n",
       "      <th>value__agg_linear_trend__f_agg_\"max\"__chunk_len_10__attr_\"rvalue\"</th>\n",
       "      <th>value__agg_linear_trend__f_agg_\"max\"__chunk_len_10__attr_\"slope\"</th>\n",
       "      <th>value__agg_linear_trend__f_agg_\"max\"__chunk_len_10__attr_\"stderr\"</th>\n",
       "      <th>value__agg_linear_trend__f_agg_\"max\"__chunk_len_50__attr_\"intercept\"</th>\n",
       "      <th>...</th>\n",
       "      <th>value__symmetry_looking__r_0.9</th>\n",
       "      <th>value__symmetry_looking__r_0.9500000000000001</th>\n",
       "      <th>value__time_reversal_asymmetry_statistic__lag_1</th>\n",
       "      <th>value__time_reversal_asymmetry_statistic__lag_2</th>\n",
       "      <th>value__time_reversal_asymmetry_statistic__lag_3</th>\n",
       "      <th>value__value_count__value_-1</th>\n",
       "      <th>value__value_count__value_0</th>\n",
       "      <th>value__value_count__value_1</th>\n",
       "      <th>value__variance</th>\n",
       "      <th>value__variance_larger_than_standard_deviation</th>\n",
       "    </tr>\n",
       "    <tr>\n",
       "      <th>id</th>\n",
       "      <th></th>\n",
       "      <th></th>\n",
       "      <th></th>\n",
       "      <th></th>\n",
       "      <th></th>\n",
       "      <th></th>\n",
       "      <th></th>\n",
       "      <th></th>\n",
       "      <th></th>\n",
       "      <th></th>\n",
       "      <th></th>\n",
       "      <th></th>\n",
       "      <th></th>\n",
       "      <th></th>\n",
       "      <th></th>\n",
       "      <th></th>\n",
       "      <th></th>\n",
       "      <th></th>\n",
       "      <th></th>\n",
       "      <th></th>\n",
       "      <th></th>\n",
       "    </tr>\n",
       "  </thead>\n",
       "  <tbody>\n",
       "    <tr>\n",
       "      <th>0</th>\n",
       "      <td>0.001766</td>\n",
       "      <td>0.182234</td>\n",
       "      <td>0.385871</td>\n",
       "      <td>0.369068</td>\n",
       "      <td>0.032822</td>\n",
       "      <td>0.008461</td>\n",
       "      <td>-0.847428</td>\n",
       "      <td>-0.000618</td>\n",
       "      <td>0.000117</td>\n",
       "      <td>0.010256</td>\n",
       "      <td>...</td>\n",
       "      <td>1.0</td>\n",
       "      <td>1.0</td>\n",
       "      <td>-2.848871e-09</td>\n",
       "      <td>-8.289268e-09</td>\n",
       "      <td>-1.655787e-08</td>\n",
       "      <td>0.0</td>\n",
       "      <td>0.0</td>\n",
       "      <td>0.0</td>\n",
       "      <td>0.000009</td>\n",
       "      <td>0.0</td>\n",
       "    </tr>\n",
       "    <tr>\n",
       "      <th>1</th>\n",
       "      <td>0.000506</td>\n",
       "      <td>0.167999</td>\n",
       "      <td>-0.008718</td>\n",
       "      <td>-0.004493</td>\n",
       "      <td>0.022767</td>\n",
       "      <td>0.002734</td>\n",
       "      <td>0.044690</td>\n",
       "      <td>0.000018</td>\n",
       "      <td>0.000121</td>\n",
       "      <td>0.004748</td>\n",
       "      <td>...</td>\n",
       "      <td>1.0</td>\n",
       "      <td>1.0</td>\n",
       "      <td>-5.877318e-10</td>\n",
       "      <td>-1.922393e-09</td>\n",
       "      <td>-4.718608e-10</td>\n",
       "      <td>0.0</td>\n",
       "      <td>0.0</td>\n",
       "      <td>0.0</td>\n",
       "      <td>0.000004</td>\n",
       "      <td>0.0</td>\n",
       "    </tr>\n",
       "    <tr>\n",
       "      <th>2</th>\n",
       "      <td>0.001106</td>\n",
       "      <td>0.231978</td>\n",
       "      <td>-0.005203</td>\n",
       "      <td>-0.016122</td>\n",
       "      <td>0.026357</td>\n",
       "      <td>0.002620</td>\n",
       "      <td>0.448916</td>\n",
       "      <td>0.000266</td>\n",
       "      <td>0.000160</td>\n",
       "      <td>0.005516</td>\n",
       "      <td>...</td>\n",
       "      <td>1.0</td>\n",
       "      <td>1.0</td>\n",
       "      <td>4.335730e-12</td>\n",
       "      <td>-3.074296e-09</td>\n",
       "      <td>-1.131423e-08</td>\n",
       "      <td>0.0</td>\n",
       "      <td>0.0</td>\n",
       "      <td>0.0</td>\n",
       "      <td>0.000008</td>\n",
       "      <td>0.0</td>\n",
       "    </tr>\n",
       "    <tr>\n",
       "      <th>3</th>\n",
       "      <td>0.000932</td>\n",
       "      <td>0.186693</td>\n",
       "      <td>0.040150</td>\n",
       "      <td>0.033541</td>\n",
       "      <td>0.035531</td>\n",
       "      <td>0.005630</td>\n",
       "      <td>-0.621284</td>\n",
       "      <td>-0.000424</td>\n",
       "      <td>0.000161</td>\n",
       "      <td>0.007497</td>\n",
       "      <td>...</td>\n",
       "      <td>1.0</td>\n",
       "      <td>1.0</td>\n",
       "      <td>-1.191508e-10</td>\n",
       "      <td>-3.875581e-09</td>\n",
       "      <td>-1.225939e-08</td>\n",
       "      <td>0.0</td>\n",
       "      <td>0.0</td>\n",
       "      <td>0.0</td>\n",
       "      <td>0.000007</td>\n",
       "      <td>0.0</td>\n",
       "    </tr>\n",
       "    <tr>\n",
       "      <th>4</th>\n",
       "      <td>0.000525</td>\n",
       "      <td>0.154255</td>\n",
       "      <td>-0.009908</td>\n",
       "      <td>-0.035693</td>\n",
       "      <td>0.028350</td>\n",
       "      <td>0.001293</td>\n",
       "      <td>0.535210</td>\n",
       "      <td>0.000203</td>\n",
       "      <td>0.000096</td>\n",
       "      <td>0.003863</td>\n",
       "      <td>...</td>\n",
       "      <td>1.0</td>\n",
       "      <td>1.0</td>\n",
       "      <td>8.025438e-11</td>\n",
       "      <td>1.392431e-09</td>\n",
       "      <td>4.529091e-09</td>\n",
       "      <td>0.0</td>\n",
       "      <td>0.0</td>\n",
       "      <td>0.0</td>\n",
       "      <td>0.000004</td>\n",
       "      <td>0.0</td>\n",
       "    </tr>\n",
       "  </tbody>\n",
       "</table>\n",
       "<p>5 rows × 756 columns</p>\n",
       "</div>"
      ],
      "text/plain": [
       "variable  value__abs_energy  value__absolute_sum_of_changes  \\\n",
       "id                                                            \n",
       "0                  0.001766                        0.182234   \n",
       "1                  0.000506                        0.167999   \n",
       "2                  0.001106                        0.231978   \n",
       "3                  0.000932                        0.186693   \n",
       "4                  0.000525                        0.154255   \n",
       "\n",
       "variable  value__agg_autocorrelation__f_agg_\"mean\"__maxlag_40  \\\n",
       "id                                                              \n",
       "0                                                  0.385871     \n",
       "1                                                 -0.008718     \n",
       "2                                                 -0.005203     \n",
       "3                                                  0.040150     \n",
       "4                                                 -0.009908     \n",
       "\n",
       "variable  value__agg_autocorrelation__f_agg_\"median\"__maxlag_40  \\\n",
       "id                                                                \n",
       "0                                                  0.369068       \n",
       "1                                                 -0.004493       \n",
       "2                                                 -0.016122       \n",
       "3                                                  0.033541       \n",
       "4                                                 -0.035693       \n",
       "\n",
       "variable  value__agg_autocorrelation__f_agg_\"var\"__maxlag_40  \\\n",
       "id                                                             \n",
       "0                                                  0.032822    \n",
       "1                                                  0.022767    \n",
       "2                                                  0.026357    \n",
       "3                                                  0.035531    \n",
       "4                                                  0.028350    \n",
       "\n",
       "variable  value__agg_linear_trend__f_agg_\"max\"__chunk_len_10__attr_\"intercept\"  \\\n",
       "id                                                                               \n",
       "0                                                  0.008461                      \n",
       "1                                                  0.002734                      \n",
       "2                                                  0.002620                      \n",
       "3                                                  0.005630                      \n",
       "4                                                  0.001293                      \n",
       "\n",
       "variable  value__agg_linear_trend__f_agg_\"max\"__chunk_len_10__attr_\"rvalue\"  \\\n",
       "id                                                                            \n",
       "0                                                 -0.847428                   \n",
       "1                                                  0.044690                   \n",
       "2                                                  0.448916                   \n",
       "3                                                 -0.621284                   \n",
       "4                                                  0.535210                   \n",
       "\n",
       "variable  value__agg_linear_trend__f_agg_\"max\"__chunk_len_10__attr_\"slope\"  \\\n",
       "id                                                                           \n",
       "0                                                 -0.000618                  \n",
       "1                                                  0.000018                  \n",
       "2                                                  0.000266                  \n",
       "3                                                 -0.000424                  \n",
       "4                                                  0.000203                  \n",
       "\n",
       "variable  value__agg_linear_trend__f_agg_\"max\"__chunk_len_10__attr_\"stderr\"  \\\n",
       "id                                                                            \n",
       "0                                                  0.000117                   \n",
       "1                                                  0.000121                   \n",
       "2                                                  0.000160                   \n",
       "3                                                  0.000161                   \n",
       "4                                                  0.000096                   \n",
       "\n",
       "variable  value__agg_linear_trend__f_agg_\"max\"__chunk_len_50__attr_\"intercept\"  \\\n",
       "id                                                                               \n",
       "0                                                  0.010256                      \n",
       "1                                                  0.004748                      \n",
       "2                                                  0.005516                      \n",
       "3                                                  0.007497                      \n",
       "4                                                  0.003863                      \n",
       "\n",
       "variable  ...  value__symmetry_looking__r_0.9  \\\n",
       "id        ...                                   \n",
       "0         ...                             1.0   \n",
       "1         ...                             1.0   \n",
       "2         ...                             1.0   \n",
       "3         ...                             1.0   \n",
       "4         ...                             1.0   \n",
       "\n",
       "variable  value__symmetry_looking__r_0.9500000000000001  \\\n",
       "id                                                        \n",
       "0                                                   1.0   \n",
       "1                                                   1.0   \n",
       "2                                                   1.0   \n",
       "3                                                   1.0   \n",
       "4                                                   1.0   \n",
       "\n",
       "variable  value__time_reversal_asymmetry_statistic__lag_1  \\\n",
       "id                                                          \n",
       "0                                           -2.848871e-09   \n",
       "1                                           -5.877318e-10   \n",
       "2                                            4.335730e-12   \n",
       "3                                           -1.191508e-10   \n",
       "4                                            8.025438e-11   \n",
       "\n",
       "variable  value__time_reversal_asymmetry_statistic__lag_2  \\\n",
       "id                                                          \n",
       "0                                           -8.289268e-09   \n",
       "1                                           -1.922393e-09   \n",
       "2                                           -3.074296e-09   \n",
       "3                                           -3.875581e-09   \n",
       "4                                            1.392431e-09   \n",
       "\n",
       "variable  value__time_reversal_asymmetry_statistic__lag_3  \\\n",
       "id                                                          \n",
       "0                                           -1.655787e-08   \n",
       "1                                           -4.718608e-10   \n",
       "2                                           -1.131423e-08   \n",
       "3                                           -1.225939e-08   \n",
       "4                                            4.529091e-09   \n",
       "\n",
       "variable  value__value_count__value_-1  value__value_count__value_0  \\\n",
       "id                                                                    \n",
       "0                                  0.0                          0.0   \n",
       "1                                  0.0                          0.0   \n",
       "2                                  0.0                          0.0   \n",
       "3                                  0.0                          0.0   \n",
       "4                                  0.0                          0.0   \n",
       "\n",
       "variable  value__value_count__value_1  value__variance  \\\n",
       "id                                                       \n",
       "0                                 0.0         0.000009   \n",
       "1                                 0.0         0.000004   \n",
       "2                                 0.0         0.000008   \n",
       "3                                 0.0         0.000007   \n",
       "4                                 0.0         0.000004   \n",
       "\n",
       "variable  value__variance_larger_than_standard_deviation  \n",
       "id                                                        \n",
       "0                                                    0.0  \n",
       "1                                                    0.0  \n",
       "2                                                    0.0  \n",
       "3                                                    0.0  \n",
       "4                                                    0.0  \n",
       "\n",
       "[5 rows x 756 columns]"
      ]
     },
     "execution_count": 17,
     "metadata": {},
     "output_type": "execute_result"
    }
   ],
   "source": [
    "X.head()"
   ]
  },
  {
   "cell_type": "markdown",
   "metadata": {
    "collapsed": true
   },
   "source": [
    "## Train and evaluate classifier"
   ]
  },
  {
   "cell_type": "markdown",
   "metadata": {},
   "source": [
    "For later comparison, we train a decision tree on all features (without selection):"
   ]
  },
  {
   "cell_type": "code",
   "execution_count": 18,
   "metadata": {},
   "outputs": [],
   "source": [
    "X_train, X_test, y_train, y_test = train_test_split(X, y[:500], test_size=.2)"
   ]
  },
  {
   "cell_type": "code",
   "execution_count": 19,
   "metadata": {
    "scrolled": true
   },
   "outputs": [
    {
     "name": "stdout",
     "output_type": "stream",
     "text": [
      "              precision    recall  f1-score   support\n",
      "\n",
      "           1       0.96      0.96      0.96        25\n",
      "           2       0.92      1.00      0.96        12\n",
      "           3       1.00      0.93      0.97        15\n",
      "           4       0.15      0.13      0.14        15\n",
      "           5       0.43      0.30      0.35        20\n",
      "           6       0.33      0.54      0.41        13\n",
      "\n",
      "    accuracy                           0.65       100\n",
      "   macro avg       0.63      0.64      0.63       100\n",
      "weighted avg       0.65      0.65      0.65       100\n",
      "\n"
     ]
    }
   ],
   "source": [
    "classifier_full = DecisionTreeClassifier()\n",
    "classifier_full.fit(X_train, y_train)\n",
    "print(classification_report(y_test, classifier_full.predict(X_test)))"
   ]
  },
  {
   "cell_type": "markdown",
   "metadata": {},
   "source": [
    "# Multiclass feature selection"
   ]
  },
  {
   "cell_type": "markdown",
   "metadata": {},
   "source": [
    "We will now select a subset of relevant features using the `tsfresh` select features method.\n",
    "However it only works for binary classification or regression tasks. \n",
    "\n",
    "For a 6 label multi classification we therefore split the selection problem into 6 binary one-versus all classification problems. \n",
    "For each of them we can do a binary classification feature selection:"
   ]
  },
  {
   "cell_type": "code",
   "execution_count": 38,
   "metadata": {},
   "outputs": [
    {
     "name": "stdout",
     "output_type": "stream",
     "text": [
      "Number of relevant features for class 5: 210/756\n",
      "Number of relevant features for class 4: 209/756\n",
      "Number of relevant features for class 6: 192/756\n",
      "Number of relevant features for class 1: 219/756\n",
      "Number of relevant features for class 3: 254/756\n",
      "Number of relevant features for class 2: 176/756\n"
     ]
    }
   ],
   "source": [
    "relevant_features = set()\n",
    "relevant_to_class = []\n",
    "\n",
    "for label in y.unique():\n",
    "    y_train_binary = y_train == label\n",
    "    X_train_filtered = select_features(X_train, y_train_binary)\n",
    "    print(\"Number of relevant features for class {}: {}/{}\".format(label, X_train_filtered.shape[1], X_train.shape[1]))\n",
    "    relevant_to_class.append(set(X_train_filtered.columns))\n",
    "    "
   ]
  },
  {
   "cell_type": "code",
   "execution_count": 39,
   "metadata": {},
   "outputs": [],
   "source": [
    "relevant_features = set.intersection(*relevant_to_class)"
   ]
  },
  {
   "cell_type": "code",
   "execution_count": 40,
   "metadata": {},
   "outputs": [
    {
     "data": {
      "text/plain": [
       "107"
      ]
     },
     "execution_count": 40,
     "metadata": {},
     "output_type": "execute_result"
    }
   ],
   "source": [
    "len(relevant_features)"
   ]
  },
  {
   "cell_type": "markdown",
   "metadata": {},
   "source": [
    "we keep only those features that we selected above, for both the train and test set"
   ]
  },
  {
   "cell_type": "code",
   "execution_count": 41,
   "metadata": {},
   "outputs": [],
   "source": [
    "X_train_filtered = X_train[list(relevant_features)]\n",
    "X_test_filtered = X_test[list(relevant_features)]"
   ]
  },
  {
   "cell_type": "markdown",
   "metadata": {},
   "source": [
    "and train again:"
   ]
  },
  {
   "cell_type": "code",
   "execution_count": 44,
   "metadata": {},
   "outputs": [
    {
     "name": "stdout",
     "output_type": "stream",
     "text": [
      "              precision    recall  f1-score   support\n",
      "\n",
      "           1       0.96      0.96      0.96        25\n",
      "           2       0.85      0.92      0.88        12\n",
      "           3       1.00      0.93      0.97        15\n",
      "           4       0.50      0.47      0.48        15\n",
      "           5       0.55      0.55      0.55        20\n",
      "           6       0.43      0.46      0.44        13\n",
      "\n",
      "    accuracy                           0.73       100\n",
      "   macro avg       0.71      0.71      0.71       100\n",
      "weighted avg       0.73      0.73      0.73       100\n",
      "\n"
     ]
    }
   ],
   "source": [
    "classifier_selected = DecisionTreeClassifier()\n",
    "classifier_selected.fit(X_train_filtered, y_train)\n",
    "print(classification_report(y_test, classifier_selected.predict(X_test_filtered)))"
   ]
  },
  {
   "cell_type": "markdown",
   "metadata": {},
   "source": [
    "It worked! The precision improved by removing irrelevant features."
   ]
  }
 ],
 "metadata": {
  "kernelspec": {
   "display_name": "Python 3.8.3 64-bit ('ts': conda)",
   "language": "python",
   "name": "python38364bittscondaf81521992d8a4ac1866bc3d1177ada83"
  },
  "language_info": {
   "codemirror_mode": {
    "name": "ipython",
    "version": 3
   },
   "file_extension": ".py",
   "mimetype": "text/x-python",
   "name": "python",
   "nbconvert_exporter": "python",
   "pygments_lexer": "ipython3",
   "version": "3.8.3"
  }
 },
 "nbformat": 4,
 "nbformat_minor": 1
}
