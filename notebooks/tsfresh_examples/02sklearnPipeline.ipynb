{
 "cells": [
  {
   "cell_type": "markdown",
   "metadata": {},
   "source": [
    "# Feature Selection in a sklearn pipeline"
   ]
  },
  {
   "cell_type": "markdown",
   "metadata": {},
   "source": [
    "This notebook is quite similar to [the first example](./01%20Feature%20Extraction%20and%20Selection.ipynb).\n",
    "This time however, we use the `sklearn` pipeline API of `tsfresh`.\n",
    "If you want to learn more, have a look at [the documentation](https://tsfresh.readthedocs.io/en/latest/text/sklearn_transformers.html)."
   ]
  },
  {
   "cell_type": "code",
   "execution_count": 1,
   "metadata": {},
   "outputs": [],
   "source": [
    "import pandas as pd\n",
    "from sklearn.pipeline import Pipeline\n",
    "from sklearn.model_selection import train_test_split\n",
    "from sklearn.ensemble import RandomForestClassifier\n",
    "from sklearn.metrics import classification_report\n",
    "from tsfresh.feature_extraction import extract_features\n",
    "from tsfresh.examples import load_robot_execution_failures\n",
    "from tsfresh.transformers import FeatureSelector, PerColumnImputer\n",
    "from tsfresh.utilities.dataframe_functions import impute"
   ]
  },
  {
   "cell_type": "markdown",
   "metadata": {},
   "source": [
    "## Load and Prepare the Data"
   ]
  },
  {
   "cell_type": "markdown",
   "metadata": {},
   "source": [
    "Check out the first example notebook to learn more about the data and format."
   ]
  },
  {
   "cell_type": "code",
   "execution_count": 17,
   "metadata": {},
   "outputs": [],
   "source": [
    "from tsfresh.examples.robot_execution_failures import download_robot_execution_failures\n",
    "download_robot_execution_failures() \n",
    "df_ts, y = load_robot_execution_failures()"
   ]
  },
  {
   "cell_type": "markdown",
   "metadata": {},
   "source": [
    "We want to use the extracted features to predict for each of the robot executions, if it was a failure or not.\n",
    "Therefore our basic \"entity\" is a single robot execution given by a distinct `id`.\n",
    "\n",
    "A dataframe with these identifiers as index needs to be prepared for the pipeline."
   ]
  },
  {
   "cell_type": "code",
   "execution_count": 3,
   "metadata": {},
   "outputs": [],
   "source": [
    "X = pd.DataFrame(index=y.index)\n",
    "\n",
    "# Split data into train and test set\n",
    "X_train, X_test, y_train, y_test = train_test_split(X, y)"
   ]
  },
  {
   "cell_type": "code",
   "execution_count": 18,
   "metadata": {},
   "outputs": [],
   "source": [
    "df_ts = df_ts.drop(columns=['time'])"
   ]
  },
  {
   "cell_type": "markdown",
   "metadata": {},
   "source": [
    "## Build the pipeline"
   ]
  },
  {
   "cell_type": "markdown",
   "metadata": {},
   "source": [
    "We build a sklearn pipeline that consists of a feature extraction step (`RelevantFeatureAugmenter`) with a subsequent `RandomForestClassifier`.\n",
    "\n",
    "The `RelevantFeatureAugmenter` takes roughly the same arguments as `extract_features` and `select_features` do."
   ]
  },
  {
   "cell_type": "code",
   "execution_count": 19,
   "metadata": {
    "scrolled": true
   },
   "outputs": [
    {
     "name": "stderr",
     "output_type": "stream",
     "text": [
      "Feature Extraction: 100%|██████████| 20/20 [00:05<00:00,  3.45it/s]\n"
     ]
    }
   ],
   "source": [
    "X = extract_features(df_ts, column_id='id')"
   ]
  },
  {
   "cell_type": "code",
   "execution_count": 20,
   "metadata": {},
   "outputs": [
    {
     "data": {
      "text/html": [
       "<div>\n",
       "<style scoped>\n",
       "    .dataframe tbody tr th:only-of-type {\n",
       "        vertical-align: middle;\n",
       "    }\n",
       "\n",
       "    .dataframe tbody tr th {\n",
       "        vertical-align: top;\n",
       "    }\n",
       "\n",
       "    .dataframe thead th {\n",
       "        text-align: right;\n",
       "    }\n",
       "</style>\n",
       "<table border=\"1\" class=\"dataframe\">\n",
       "  <thead>\n",
       "    <tr style=\"text-align: right;\">\n",
       "      <th>variable</th>\n",
       "      <th>F_x__abs_energy</th>\n",
       "      <th>F_x__absolute_sum_of_changes</th>\n",
       "      <th>F_x__agg_autocorrelation__f_agg_\"mean\"__maxlag_40</th>\n",
       "      <th>F_x__agg_autocorrelation__f_agg_\"median\"__maxlag_40</th>\n",
       "      <th>F_x__agg_autocorrelation__f_agg_\"var\"__maxlag_40</th>\n",
       "      <th>F_x__agg_linear_trend__f_agg_\"max\"__chunk_len_10__attr_\"intercept\"</th>\n",
       "      <th>F_x__agg_linear_trend__f_agg_\"max\"__chunk_len_10__attr_\"rvalue\"</th>\n",
       "      <th>F_x__agg_linear_trend__f_agg_\"max\"__chunk_len_10__attr_\"slope\"</th>\n",
       "      <th>F_x__agg_linear_trend__f_agg_\"max\"__chunk_len_10__attr_\"stderr\"</th>\n",
       "      <th>F_x__agg_linear_trend__f_agg_\"max\"__chunk_len_50__attr_\"intercept\"</th>\n",
       "      <th>...</th>\n",
       "      <th>T_z__symmetry_looking__r_0.9</th>\n",
       "      <th>T_z__symmetry_looking__r_0.9500000000000001</th>\n",
       "      <th>T_z__time_reversal_asymmetry_statistic__lag_1</th>\n",
       "      <th>T_z__time_reversal_asymmetry_statistic__lag_2</th>\n",
       "      <th>T_z__time_reversal_asymmetry_statistic__lag_3</th>\n",
       "      <th>T_z__value_count__value_-1</th>\n",
       "      <th>T_z__value_count__value_0</th>\n",
       "      <th>T_z__value_count__value_1</th>\n",
       "      <th>T_z__variance</th>\n",
       "      <th>T_z__variance_larger_than_standard_deviation</th>\n",
       "    </tr>\n",
       "    <tr>\n",
       "      <th>id</th>\n",
       "      <th></th>\n",
       "      <th></th>\n",
       "      <th></th>\n",
       "      <th></th>\n",
       "      <th></th>\n",
       "      <th></th>\n",
       "      <th></th>\n",
       "      <th></th>\n",
       "      <th></th>\n",
       "      <th></th>\n",
       "      <th></th>\n",
       "      <th></th>\n",
       "      <th></th>\n",
       "      <th></th>\n",
       "      <th></th>\n",
       "      <th></th>\n",
       "      <th></th>\n",
       "      <th></th>\n",
       "      <th></th>\n",
       "      <th></th>\n",
       "      <th></th>\n",
       "    </tr>\n",
       "  </thead>\n",
       "  <tbody>\n",
       "    <tr>\n",
       "      <th>1</th>\n",
       "      <td>14.0</td>\n",
       "      <td>2.0</td>\n",
       "      <td>-0.106351</td>\n",
       "      <td>-7.206633e-02</td>\n",
       "      <td>0.016879</td>\n",
       "      <td>0.0</td>\n",
       "      <td>-1.0</td>\n",
       "      <td>-1.0</td>\n",
       "      <td>0.0</td>\n",
       "      <td>NaN</td>\n",
       "      <td>...</td>\n",
       "      <td>0.0</td>\n",
       "      <td>0.0</td>\n",
       "      <td>0.000000</td>\n",
       "      <td>0.000000</td>\n",
       "      <td>0.000000</td>\n",
       "      <td>0.0</td>\n",
       "      <td>15.0</td>\n",
       "      <td>0.0</td>\n",
       "      <td>0.000000</td>\n",
       "      <td>0.0</td>\n",
       "    </tr>\n",
       "    <tr>\n",
       "      <th>2</th>\n",
       "      <td>25.0</td>\n",
       "      <td>14.0</td>\n",
       "      <td>-0.039098</td>\n",
       "      <td>-4.935275e-02</td>\n",
       "      <td>0.088790</td>\n",
       "      <td>0.0</td>\n",
       "      <td>0.0</td>\n",
       "      <td>0.0</td>\n",
       "      <td>0.0</td>\n",
       "      <td>NaN</td>\n",
       "      <td>...</td>\n",
       "      <td>1.0</td>\n",
       "      <td>1.0</td>\n",
       "      <td>0.000000</td>\n",
       "      <td>0.000000</td>\n",
       "      <td>0.000000</td>\n",
       "      <td>4.0</td>\n",
       "      <td>11.0</td>\n",
       "      <td>0.0</td>\n",
       "      <td>0.195556</td>\n",
       "      <td>0.0</td>\n",
       "    </tr>\n",
       "    <tr>\n",
       "      <th>3</th>\n",
       "      <td>12.0</td>\n",
       "      <td>10.0</td>\n",
       "      <td>-0.029815</td>\n",
       "      <td>1.301043e-17</td>\n",
       "      <td>0.105435</td>\n",
       "      <td>1.0</td>\n",
       "      <td>-1.0</td>\n",
       "      <td>-2.0</td>\n",
       "      <td>0.0</td>\n",
       "      <td>NaN</td>\n",
       "      <td>...</td>\n",
       "      <td>1.0</td>\n",
       "      <td>1.0</td>\n",
       "      <td>0.000000</td>\n",
       "      <td>-0.090909</td>\n",
       "      <td>0.000000</td>\n",
       "      <td>4.0</td>\n",
       "      <td>11.0</td>\n",
       "      <td>0.0</td>\n",
       "      <td>0.195556</td>\n",
       "      <td>0.0</td>\n",
       "    </tr>\n",
       "    <tr>\n",
       "      <th>4</th>\n",
       "      <td>16.0</td>\n",
       "      <td>17.0</td>\n",
       "      <td>-0.049773</td>\n",
       "      <td>-6.417112e-02</td>\n",
       "      <td>0.143580</td>\n",
       "      <td>1.0</td>\n",
       "      <td>-1.0</td>\n",
       "      <td>-1.0</td>\n",
       "      <td>0.0</td>\n",
       "      <td>NaN</td>\n",
       "      <td>...</td>\n",
       "      <td>1.0</td>\n",
       "      <td>1.0</td>\n",
       "      <td>0.000000</td>\n",
       "      <td>-0.181818</td>\n",
       "      <td>0.000000</td>\n",
       "      <td>6.0</td>\n",
       "      <td>8.0</td>\n",
       "      <td>1.0</td>\n",
       "      <td>0.355556</td>\n",
       "      <td>0.0</td>\n",
       "    </tr>\n",
       "    <tr>\n",
       "      <th>5</th>\n",
       "      <td>17.0</td>\n",
       "      <td>13.0</td>\n",
       "      <td>-0.061467</td>\n",
       "      <td>-5.172414e-02</td>\n",
       "      <td>0.052642</td>\n",
       "      <td>2.0</td>\n",
       "      <td>-1.0</td>\n",
       "      <td>-2.0</td>\n",
       "      <td>0.0</td>\n",
       "      <td>NaN</td>\n",
       "      <td>...</td>\n",
       "      <td>1.0</td>\n",
       "      <td>1.0</td>\n",
       "      <td>-0.076923</td>\n",
       "      <td>-0.090909</td>\n",
       "      <td>-0.222222</td>\n",
       "      <td>4.0</td>\n",
       "      <td>9.0</td>\n",
       "      <td>2.0</td>\n",
       "      <td>0.382222</td>\n",
       "      <td>0.0</td>\n",
       "    </tr>\n",
       "    <tr>\n",
       "      <th>...</th>\n",
       "      <td>...</td>\n",
       "      <td>...</td>\n",
       "      <td>...</td>\n",
       "      <td>...</td>\n",
       "      <td>...</td>\n",
       "      <td>...</td>\n",
       "      <td>...</td>\n",
       "      <td>...</td>\n",
       "      <td>...</td>\n",
       "      <td>...</td>\n",
       "      <td>...</td>\n",
       "      <td>...</td>\n",
       "      <td>...</td>\n",
       "      <td>...</td>\n",
       "      <td>...</td>\n",
       "      <td>...</td>\n",
       "      <td>...</td>\n",
       "      <td>...</td>\n",
       "      <td>...</td>\n",
       "      <td>...</td>\n",
       "      <td>...</td>\n",
       "    </tr>\n",
       "    <tr>\n",
       "      <th>84</th>\n",
       "      <td>96833.0</td>\n",
       "      <td>100.0</td>\n",
       "      <td>-0.435813</td>\n",
       "      <td>-8.343714e-01</td>\n",
       "      <td>0.538354</td>\n",
       "      <td>-25.0</td>\n",
       "      <td>-1.0</td>\n",
       "      <td>-77.0</td>\n",
       "      <td>0.0</td>\n",
       "      <td>NaN</td>\n",
       "      <td>...</td>\n",
       "      <td>1.0</td>\n",
       "      <td>1.0</td>\n",
       "      <td>-1254.846154</td>\n",
       "      <td>-3182.363636</td>\n",
       "      <td>-6043.333333</td>\n",
       "      <td>1.0</td>\n",
       "      <td>1.0</td>\n",
       "      <td>0.0</td>\n",
       "      <td>93.315556</td>\n",
       "      <td>1.0</td>\n",
       "    </tr>\n",
       "    <tr>\n",
       "      <th>85</th>\n",
       "      <td>1683.0</td>\n",
       "      <td>19.0</td>\n",
       "      <td>-0.599870</td>\n",
       "      <td>-4.380362e-01</td>\n",
       "      <td>0.991429</td>\n",
       "      <td>12.0</td>\n",
       "      <td>1.0</td>\n",
       "      <td>7.0</td>\n",
       "      <td>0.0</td>\n",
       "      <td>NaN</td>\n",
       "      <td>...</td>\n",
       "      <td>1.0</td>\n",
       "      <td>1.0</td>\n",
       "      <td>-34.846154</td>\n",
       "      <td>-57.545455</td>\n",
       "      <td>-84.000000</td>\n",
       "      <td>1.0</td>\n",
       "      <td>1.0</td>\n",
       "      <td>0.0</td>\n",
       "      <td>4.648889</td>\n",
       "      <td>1.0</td>\n",
       "    </tr>\n",
       "    <tr>\n",
       "      <th>86</th>\n",
       "      <td>83497.0</td>\n",
       "      <td>127.0</td>\n",
       "      <td>-0.603352</td>\n",
       "      <td>-4.802260e-01</td>\n",
       "      <td>0.994691</td>\n",
       "      <td>70.0</td>\n",
       "      <td>1.0</td>\n",
       "      <td>78.0</td>\n",
       "      <td>0.0</td>\n",
       "      <td>NaN</td>\n",
       "      <td>...</td>\n",
       "      <td>1.0</td>\n",
       "      <td>1.0</td>\n",
       "      <td>81.538462</td>\n",
       "      <td>141.000000</td>\n",
       "      <td>280.888889</td>\n",
       "      <td>0.0</td>\n",
       "      <td>0.0</td>\n",
       "      <td>1.0</td>\n",
       "      <td>29.840000</td>\n",
       "      <td>1.0</td>\n",
       "    </tr>\n",
       "    <tr>\n",
       "      <th>87</th>\n",
       "      <td>1405437.0</td>\n",
       "      <td>181.0</td>\n",
       "      <td>-0.455727</td>\n",
       "      <td>-4.355676e-01</td>\n",
       "      <td>0.516457</td>\n",
       "      <td>340.0</td>\n",
       "      <td>1.0</td>\n",
       "      <td>2.0</td>\n",
       "      <td>0.0</td>\n",
       "      <td>NaN</td>\n",
       "      <td>...</td>\n",
       "      <td>1.0</td>\n",
       "      <td>1.0</td>\n",
       "      <td>8445.769231</td>\n",
       "      <td>16935.636364</td>\n",
       "      <td>25770.555556</td>\n",
       "      <td>0.0</td>\n",
       "      <td>0.0</td>\n",
       "      <td>0.0</td>\n",
       "      <td>98.088889</td>\n",
       "      <td>1.0</td>\n",
       "    </tr>\n",
       "    <tr>\n",
       "      <th>88</th>\n",
       "      <td>1427.0</td>\n",
       "      <td>11.0</td>\n",
       "      <td>-0.614351</td>\n",
       "      <td>-5.887814e-01</td>\n",
       "      <td>1.121329</td>\n",
       "      <td>-6.0</td>\n",
       "      <td>-1.0</td>\n",
       "      <td>-4.0</td>\n",
       "      <td>0.0</td>\n",
       "      <td>NaN</td>\n",
       "      <td>...</td>\n",
       "      <td>1.0</td>\n",
       "      <td>1.0</td>\n",
       "      <td>14.230769</td>\n",
       "      <td>27.181818</td>\n",
       "      <td>36.222222</td>\n",
       "      <td>0.0</td>\n",
       "      <td>0.0</td>\n",
       "      <td>0.0</td>\n",
       "      <td>0.782222</td>\n",
       "      <td>0.0</td>\n",
       "    </tr>\n",
       "  </tbody>\n",
       "</table>\n",
       "<p>88 rows × 4536 columns</p>\n",
       "</div>"
      ],
      "text/plain": [
       "variable  F_x__abs_energy  F_x__absolute_sum_of_changes  \\\n",
       "id                                                        \n",
       "1                    14.0                           2.0   \n",
       "2                    25.0                          14.0   \n",
       "3                    12.0                          10.0   \n",
       "4                    16.0                          17.0   \n",
       "5                    17.0                          13.0   \n",
       "..                    ...                           ...   \n",
       "84                96833.0                         100.0   \n",
       "85                 1683.0                          19.0   \n",
       "86                83497.0                         127.0   \n",
       "87              1405437.0                         181.0   \n",
       "88                 1427.0                          11.0   \n",
       "\n",
       "variable  F_x__agg_autocorrelation__f_agg_\"mean\"__maxlag_40  \\\n",
       "id                                                            \n",
       "1                                                 -0.106351   \n",
       "2                                                 -0.039098   \n",
       "3                                                 -0.029815   \n",
       "4                                                 -0.049773   \n",
       "5                                                 -0.061467   \n",
       "..                                                      ...   \n",
       "84                                                -0.435813   \n",
       "85                                                -0.599870   \n",
       "86                                                -0.603352   \n",
       "87                                                -0.455727   \n",
       "88                                                -0.614351   \n",
       "\n",
       "variable  F_x__agg_autocorrelation__f_agg_\"median\"__maxlag_40  \\\n",
       "id                                                              \n",
       "1                                             -7.206633e-02     \n",
       "2                                             -4.935275e-02     \n",
       "3                                              1.301043e-17     \n",
       "4                                             -6.417112e-02     \n",
       "5                                             -5.172414e-02     \n",
       "..                                                      ...     \n",
       "84                                            -8.343714e-01     \n",
       "85                                            -4.380362e-01     \n",
       "86                                            -4.802260e-01     \n",
       "87                                            -4.355676e-01     \n",
       "88                                            -5.887814e-01     \n",
       "\n",
       "variable  F_x__agg_autocorrelation__f_agg_\"var\"__maxlag_40  \\\n",
       "id                                                           \n",
       "1                                                 0.016879   \n",
       "2                                                 0.088790   \n",
       "3                                                 0.105435   \n",
       "4                                                 0.143580   \n",
       "5                                                 0.052642   \n",
       "..                                                     ...   \n",
       "84                                                0.538354   \n",
       "85                                                0.991429   \n",
       "86                                                0.994691   \n",
       "87                                                0.516457   \n",
       "88                                                1.121329   \n",
       "\n",
       "variable  F_x__agg_linear_trend__f_agg_\"max\"__chunk_len_10__attr_\"intercept\"  \\\n",
       "id                                                                             \n",
       "1                                                       0.0                    \n",
       "2                                                       0.0                    \n",
       "3                                                       1.0                    \n",
       "4                                                       1.0                    \n",
       "5                                                       2.0                    \n",
       "..                                                      ...                    \n",
       "84                                                    -25.0                    \n",
       "85                                                     12.0                    \n",
       "86                                                     70.0                    \n",
       "87                                                    340.0                    \n",
       "88                                                     -6.0                    \n",
       "\n",
       "variable  F_x__agg_linear_trend__f_agg_\"max\"__chunk_len_10__attr_\"rvalue\"  \\\n",
       "id                                                                          \n",
       "1                                                      -1.0                 \n",
       "2                                                       0.0                 \n",
       "3                                                      -1.0                 \n",
       "4                                                      -1.0                 \n",
       "5                                                      -1.0                 \n",
       "..                                                      ...                 \n",
       "84                                                     -1.0                 \n",
       "85                                                      1.0                 \n",
       "86                                                      1.0                 \n",
       "87                                                      1.0                 \n",
       "88                                                     -1.0                 \n",
       "\n",
       "variable  F_x__agg_linear_trend__f_agg_\"max\"__chunk_len_10__attr_\"slope\"  \\\n",
       "id                                                                         \n",
       "1                                                      -1.0                \n",
       "2                                                       0.0                \n",
       "3                                                      -2.0                \n",
       "4                                                      -1.0                \n",
       "5                                                      -2.0                \n",
       "..                                                      ...                \n",
       "84                                                    -77.0                \n",
       "85                                                      7.0                \n",
       "86                                                     78.0                \n",
       "87                                                      2.0                \n",
       "88                                                     -4.0                \n",
       "\n",
       "variable  F_x__agg_linear_trend__f_agg_\"max\"__chunk_len_10__attr_\"stderr\"  \\\n",
       "id                                                                          \n",
       "1                                                       0.0                 \n",
       "2                                                       0.0                 \n",
       "3                                                       0.0                 \n",
       "4                                                       0.0                 \n",
       "5                                                       0.0                 \n",
       "..                                                      ...                 \n",
       "84                                                      0.0                 \n",
       "85                                                      0.0                 \n",
       "86                                                      0.0                 \n",
       "87                                                      0.0                 \n",
       "88                                                      0.0                 \n",
       "\n",
       "variable  F_x__agg_linear_trend__f_agg_\"max\"__chunk_len_50__attr_\"intercept\"  \\\n",
       "id                                                                             \n",
       "1                                                       NaN                    \n",
       "2                                                       NaN                    \n",
       "3                                                       NaN                    \n",
       "4                                                       NaN                    \n",
       "5                                                       NaN                    \n",
       "..                                                      ...                    \n",
       "84                                                      NaN                    \n",
       "85                                                      NaN                    \n",
       "86                                                      NaN                    \n",
       "87                                                      NaN                    \n",
       "88                                                      NaN                    \n",
       "\n",
       "variable  ...  T_z__symmetry_looking__r_0.9  \\\n",
       "id        ...                                 \n",
       "1         ...                           0.0   \n",
       "2         ...                           1.0   \n",
       "3         ...                           1.0   \n",
       "4         ...                           1.0   \n",
       "5         ...                           1.0   \n",
       "..        ...                           ...   \n",
       "84        ...                           1.0   \n",
       "85        ...                           1.0   \n",
       "86        ...                           1.0   \n",
       "87        ...                           1.0   \n",
       "88        ...                           1.0   \n",
       "\n",
       "variable  T_z__symmetry_looking__r_0.9500000000000001  \\\n",
       "id                                                      \n",
       "1                                                 0.0   \n",
       "2                                                 1.0   \n",
       "3                                                 1.0   \n",
       "4                                                 1.0   \n",
       "5                                                 1.0   \n",
       "..                                                ...   \n",
       "84                                                1.0   \n",
       "85                                                1.0   \n",
       "86                                                1.0   \n",
       "87                                                1.0   \n",
       "88                                                1.0   \n",
       "\n",
       "variable  T_z__time_reversal_asymmetry_statistic__lag_1  \\\n",
       "id                                                        \n",
       "1                                              0.000000   \n",
       "2                                              0.000000   \n",
       "3                                              0.000000   \n",
       "4                                              0.000000   \n",
       "5                                             -0.076923   \n",
       "..                                                  ...   \n",
       "84                                         -1254.846154   \n",
       "85                                           -34.846154   \n",
       "86                                            81.538462   \n",
       "87                                          8445.769231   \n",
       "88                                            14.230769   \n",
       "\n",
       "variable  T_z__time_reversal_asymmetry_statistic__lag_2  \\\n",
       "id                                                        \n",
       "1                                              0.000000   \n",
       "2                                              0.000000   \n",
       "3                                             -0.090909   \n",
       "4                                             -0.181818   \n",
       "5                                             -0.090909   \n",
       "..                                                  ...   \n",
       "84                                         -3182.363636   \n",
       "85                                           -57.545455   \n",
       "86                                           141.000000   \n",
       "87                                         16935.636364   \n",
       "88                                            27.181818   \n",
       "\n",
       "variable  T_z__time_reversal_asymmetry_statistic__lag_3  \\\n",
       "id                                                        \n",
       "1                                              0.000000   \n",
       "2                                              0.000000   \n",
       "3                                              0.000000   \n",
       "4                                              0.000000   \n",
       "5                                             -0.222222   \n",
       "..                                                  ...   \n",
       "84                                         -6043.333333   \n",
       "85                                           -84.000000   \n",
       "86                                           280.888889   \n",
       "87                                         25770.555556   \n",
       "88                                            36.222222   \n",
       "\n",
       "variable  T_z__value_count__value_-1  T_z__value_count__value_0  \\\n",
       "id                                                                \n",
       "1                                0.0                       15.0   \n",
       "2                                4.0                       11.0   \n",
       "3                                4.0                       11.0   \n",
       "4                                6.0                        8.0   \n",
       "5                                4.0                        9.0   \n",
       "..                               ...                        ...   \n",
       "84                               1.0                        1.0   \n",
       "85                               1.0                        1.0   \n",
       "86                               0.0                        0.0   \n",
       "87                               0.0                        0.0   \n",
       "88                               0.0                        0.0   \n",
       "\n",
       "variable  T_z__value_count__value_1  T_z__variance  \\\n",
       "id                                                   \n",
       "1                               0.0       0.000000   \n",
       "2                               0.0       0.195556   \n",
       "3                               0.0       0.195556   \n",
       "4                               1.0       0.355556   \n",
       "5                               2.0       0.382222   \n",
       "..                              ...            ...   \n",
       "84                              0.0      93.315556   \n",
       "85                              0.0       4.648889   \n",
       "86                              1.0      29.840000   \n",
       "87                              0.0      98.088889   \n",
       "88                              0.0       0.782222   \n",
       "\n",
       "variable  T_z__variance_larger_than_standard_deviation  \n",
       "id                                                      \n",
       "1                                                  0.0  \n",
       "2                                                  0.0  \n",
       "3                                                  0.0  \n",
       "4                                                  0.0  \n",
       "5                                                  0.0  \n",
       "..                                                 ...  \n",
       "84                                                 1.0  \n",
       "85                                                 1.0  \n",
       "86                                                 1.0  \n",
       "87                                                 1.0  \n",
       "88                                                 0.0  \n",
       "\n",
       "[88 rows x 4536 columns]"
      ]
     },
     "execution_count": 20,
     "metadata": {},
     "output_type": "execute_result"
    }
   ],
   "source": [
    "X"
   ]
  },
  {
   "cell_type": "code",
   "execution_count": null,
   "metadata": {},
   "outputs": [],
   "source": [
    "df_ts, y = load_robot_execution_failures()\n",
    "X = extract_features(df_ts, column_id='id', column_sort='time')"
   ]
  },
  {
   "cell_type": "code",
   "execution_count": 9,
   "metadata": {},
   "outputs": [
    {
     "name": "stderr",
     "output_type": "stream",
     "text": [
      "/home/kartikey/anaconda3/envs/ts/lib/python3.8/site-packages/tsfresh/utilities/dataframe_functions.py:169: RuntimeWarning: The columns ['F_x__agg_linear_trend__f_agg_\"max\"__chunk_len_50__attr_\"intercept\"'\n",
      " 'F_x__agg_linear_trend__f_agg_\"max\"__chunk_len_50__attr_\"rvalue\"'\n",
      " 'F_x__agg_linear_trend__f_agg_\"max\"__chunk_len_50__attr_\"slope\"' ...\n",
      " 'T_z__fft_coefficient__coeff_9__attr_\"imag\"'\n",
      " 'T_z__fft_coefficient__coeff_9__attr_\"real\"'\n",
      " 'T_z__spkt_welch_density__coeff_8'] did not have any finite values. Filling with zeros.\n",
      "  warnings.warn(\"The columns {} did not have any finite values. Filling with zeros.\".format(\n"
     ]
    },
    {
     "data": {
      "text/plain": [
       "PerColumnImputer(col_to_NAN_repl_preset=None, col_to_NINF_repl_preset=None,\n",
       "                 col_to_PINF_repl_preset=None)"
      ]
     },
     "execution_count": 9,
     "metadata": {},
     "output_type": "execute_result"
    }
   ],
   "source": [
    "imp = PerColumnImputer()\n",
    "imp.fit(X)"
   ]
  },
  {
   "cell_type": "code",
   "execution_count": 11,
   "metadata": {},
   "outputs": [],
   "source": [
    "X = imp.transform(X)"
   ]
  },
  {
   "cell_type": "code",
   "execution_count": 12,
   "metadata": {},
   "outputs": [
    {
     "data": {
      "text/plain": [
       "FeatureSelector(chunksize=None, fdr_level=0.05, hypotheses_independent=False,\n",
       "                ml_task='auto', n_jobs=4,\n",
       "                test_for_binary_target_binary_feature='fisher',\n",
       "                test_for_binary_target_real_feature='mann',\n",
       "                test_for_real_target_binary_feature='mann',\n",
       "                test_for_real_target_real_feature='kendall')"
      ]
     },
     "execution_count": 12,
     "metadata": {},
     "output_type": "execute_result"
    }
   ],
   "source": [
    "sel = FeatureSelector()\n",
    "sel.fit(X,y)"
   ]
  },
  {
   "cell_type": "code",
   "execution_count": null,
   "metadata": {},
   "outputs": [],
   "source": [
    "ppl = Pipeline([\n",
    "        ('selector', FeatureSelector()),\n",
    "        ('classifier', RandomForestClassifier())\n",
    "      ])"
   ]
  },
  {
   "cell_type": "markdown",
   "metadata": {},
   "source": [
    "<div class=\"alert alert-warning\">\n",
    "    \n",
    "Here comes the tricky part!\n",
    "    \n",
    "The input to the pipeline will be our dataframe `X`, which one row per identifier.\n",
    "It is currently empty.\n",
    "But which time series data should the `RelevantFeatureAugmenter` to actually extract the features from?\n",
    "\n",
    "We need to pass the time series data (stored in `df_ts`) to the transformer.\n",
    "    \n",
    "</div>"
   ]
  },
  {
   "cell_type": "markdown",
   "metadata": {},
   "source": [
    "In this case, df_ts contains the time series of both train and test set, if you have different dataframes for \n",
    "train and test set, you have to call set_params two times \n",
    "(see further below on how to deal with two independent data sets)"
   ]
  },
  {
   "cell_type": "code",
   "execution_count": null,
   "metadata": {},
   "outputs": [],
   "source": [
    "ppl.set_params(augmenter__timeseries_container=df_ts);"
   ]
  },
  {
   "cell_type": "markdown",
   "metadata": {},
   "source": [
    "We are now ready to fit the pipeline"
   ]
  },
  {
   "cell_type": "code",
   "execution_count": null,
   "metadata": {},
   "outputs": [],
   "source": [
    "ppl.fit(X, y)"
   ]
  },
  {
   "cell_type": "markdown",
   "metadata": {},
   "source": [
    "The augmenter has used the input time series data to extract time series features for each of the identifiers in the `X_train` and selected only the relevant ones using the passed `y_train` as target.\n",
    "These features have been added to `X_train` as new columns.\n",
    "The classifier can now use these features during trainings."
   ]
  },
  {
   "cell_type": "markdown",
   "metadata": {},
   "source": [
    "## Prediction"
   ]
  },
  {
   "cell_type": "markdown",
   "metadata": {},
   "source": [
    "During interference, the augmentor does only extract the relevant features it has found out in the training phase and the classifier predicts the target using these features."
   ]
  },
  {
   "cell_type": "code",
   "execution_count": null,
   "metadata": {},
   "outputs": [],
   "source": [
    "y_pred = ppl.predict(X_test)"
   ]
  },
  {
   "cell_type": "markdown",
   "metadata": {},
   "source": [
    "So, finally we inspect the performance:"
   ]
  },
  {
   "cell_type": "code",
   "execution_count": null,
   "metadata": {},
   "outputs": [],
   "source": [
    "print(classification_report(y_test, y_pred))"
   ]
  },
  {
   "cell_type": "markdown",
   "metadata": {},
   "source": [
    "You can also find out, which columns the augmenter has selected"
   ]
  },
  {
   "cell_type": "code",
   "execution_count": null,
   "metadata": {},
   "outputs": [],
   "source": [
    "ppl.named_steps[\"augmenter\"].feature_selector.relevant_features"
   ]
  },
  {
   "cell_type": "markdown",
   "metadata": {},
   "source": [
    "<div class=\"alert alert-info\">\n",
    "    \n",
    "In this example we passed in an empty (except the index) `X_train` or `X_test` into the pipeline.\n",
    "However, you can also fill the input with other features you have (e.g. features extracted from the metadata)\n",
    "or even use other pipeline components before.\n",
    "    \n",
    "</div>"
   ]
  },
  {
   "cell_type": "markdown",
   "metadata": {},
   "source": [
    "## Separating the time series data containers"
   ]
  },
  {
   "cell_type": "markdown",
   "metadata": {},
   "source": [
    "In the example above we passed in a single `df_ts` into the `RelevantFeatureAugmenter`, which was used both for training and predicting.\n",
    "During training, only the data with the `id`s from `X_train` where extracted and during prediction the rest.\n",
    "\n",
    "However, it is perfectly fine to call `set_params` twice: once before training and once before prediction. \n",
    "This can be handy if you for example dump the trained pipeline to disk and re-use it only later for prediction.\n",
    "You only need to make sure that the `id`s of the enteties you use during training/prediction are actually present in the passed time series data."
   ]
  },
  {
   "cell_type": "code",
   "execution_count": null,
   "metadata": {},
   "outputs": [],
   "source": [
    "df_ts_train = df_ts[df_ts[\"id\"].isin(y_train.index)]\n",
    "df_ts_test = df_ts[df_ts[\"id\"].isin(y_test.index)]"
   ]
  },
  {
   "cell_type": "code",
   "execution_count": null,
   "metadata": {},
   "outputs": [],
   "source": [
    "ppl.set_params(augmenter__timeseries_container=df_ts_train);\n",
    "ppl.fit(X_train, y_train);"
   ]
  },
  {
   "cell_type": "code",
   "execution_count": null,
   "metadata": {},
   "outputs": [],
   "source": [
    "import pickle\n",
    "with open(\"pipeline.pkl\", \"wb\") as f:\n",
    "    pickle.dump(ppl, f)"
   ]
  },
  {
   "cell_type": "markdown",
   "metadata": {},
   "source": [
    "Later: load the fitted model and do predictions on new, unseen data"
   ]
  },
  {
   "cell_type": "code",
   "execution_count": null,
   "metadata": {},
   "outputs": [],
   "source": [
    "import pickle\n",
    "with open(\"pipeline.pkl\", \"rb\") as f:\n",
    "    ppk = pickle.load(f)"
   ]
  },
  {
   "cell_type": "code",
   "execution_count": null,
   "metadata": {},
   "outputs": [],
   "source": [
    "ppl.set_params(augmenter__timeseries_container=df_ts_test);\n",
    "y_pred = ppl.predict(X_test)"
   ]
  },
  {
   "cell_type": "code",
   "execution_count": null,
   "metadata": {},
   "outputs": [],
   "source": [
    "print(classification_report(y_test, y_pred))"
   ]
  }
 ],
 "metadata": {
  "kernelspec": {
   "display_name": "Python 3.8.3 64-bit ('ts': conda)",
   "language": "python",
   "name": "python38364bittscondaf81521992d8a4ac1866bc3d1177ada83"
  },
  "language_info": {
   "codemirror_mode": {
    "name": "ipython",
    "version": 3
   },
   "file_extension": ".py",
   "mimetype": "text/x-python",
   "name": "python",
   "nbconvert_exporter": "python",
   "pygments_lexer": "ipython3",
   "version": "3.8.3"
  }
 },
 "nbformat": 4,
 "nbformat_minor": 4
}
