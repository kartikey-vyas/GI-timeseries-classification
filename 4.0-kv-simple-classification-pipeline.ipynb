{
 "cells": [
  {
   "cell_type": "code",
   "execution_count": 2,
   "metadata": {},
   "outputs": [],
   "source": [
    "import pandas as pd\n",
    "\n",
    "from sklearn.tree import DecisionTreeClassifier\n",
    "from sklearn.model_selection import train_test_split\n",
    "from sklearn.metrics import classification_report\n",
    "\n",
    "from tsfresh import select_features\n",
    "from tsfresh.utilities.dataframe_functions import impute"
   ]
  },
  {
   "cell_type": "code",
   "execution_count": 12,
   "metadata": {},
   "outputs": [],
   "source": [
    "# load feature matrix\n",
    "X_min = pd.read_hdf('0_0315_4_electrodes_min.h5')\n",
    "X_eff = pd.read_hdf('0_0315_4_electrodes_eff.h5')\n",
    "\n",
    "# load target dataframe\n",
    "y = pd.read_hdf('0_0315_4_electrodes_y.h5')\n",
    "y = y.drop_duplicates()\n",
    "y = y.set_index('window_id')\n",
    "y = y.T.squeeze()"
   ]
  },
  {
   "cell_type": "code",
   "execution_count": 22,
   "metadata": {},
   "outputs": [],
   "source": [
    "impute(X_min)\n",
    "impute(X_eff)\n",
    "X_min_filt = select_features(X_min, y)\n",
    "X_eff_filt = select_features(X_eff, y)"
   ]
  },
  {
   "cell_type": "code",
   "execution_count": 25,
   "metadata": {},
   "outputs": [],
   "source": [
    "X_eff_train, X_eff_test, y_train, y_test = train_test_split(X_eff_filt, y, test_size=.4)\n",
    "X_min_train, X_min_test, y_train, y_test = train_test_split(X_min_filt, y, test_size=.4)"
   ]
  },
  {
   "cell_type": "code",
   "execution_count": 27,
   "metadata": {},
   "outputs": [
    {
     "name": "stdout",
     "output_type": "stream",
     "text": [
      "              precision    recall  f1-score   support\n",
      "\n",
      "           0       0.40      0.43      0.41        14\n",
      "           1       0.18      0.22      0.20         9\n",
      "           2       0.55      0.43      0.48        14\n",
      "\n",
      "    accuracy                           0.38        37\n",
      "   macro avg       0.38      0.36      0.36        37\n",
      "weighted avg       0.40      0.38      0.39        37\n",
      "\n"
     ]
    }
   ],
   "source": [
    "tree_eff = DecisionTreeClassifier()\n",
    "tree_eff.fit(X_eff_train, y_train)\n",
    "print(classification_report(y_test, tree_eff.predict(X_eff_test)))"
   ]
  },
  {
   "cell_type": "code",
   "execution_count": 29,
   "metadata": {},
   "outputs": [
    {
     "name": "stdout",
     "output_type": "stream",
     "text": [
      "              precision    recall  f1-score   support\n",
      "\n",
      "           0       0.87      0.93      0.90        14\n",
      "           1       0.57      0.89      0.70         9\n",
      "           2       0.88      0.50      0.64        14\n",
      "\n",
      "    accuracy                           0.76        37\n",
      "   macro avg       0.77      0.77      0.74        37\n",
      "weighted avg       0.80      0.76      0.75        37\n",
      "\n"
     ]
    }
   ],
   "source": [
    "tree_min = DecisionTreeClassifier()\n",
    "tree_min.fit(X_min_train, y_train)\n",
    "print(classification_report(y_test, tree_min.predict(X_min_test)))"
   ]
  },
  {
   "cell_type": "code",
   "execution_count": null,
   "metadata": {},
   "outputs": [],
   "source": [
    "from src.data.load_data import make_windows\n",
    "from scipy.io import loadmat\n",
    "mat = loadmat(\"data/05_0201_ach-hex_0.mat\")\n",
    "make_windows(mat)"
   ]
  }
 ],
 "metadata": {
  "kernelspec": {
   "display_name": "Python 3",
   "language": "python",
   "name": "python3"
  },
  "language_info": {
   "codemirror_mode": {
    "name": "ipython",
    "version": 3
   },
   "file_extension": ".py",
   "mimetype": "text/x-python",
   "name": "python",
   "nbconvert_exporter": "python",
   "pygments_lexer": "ipython3",
   "version": "3.8.3"
  }
 },
 "nbformat": 4,
 "nbformat_minor": 4
}
