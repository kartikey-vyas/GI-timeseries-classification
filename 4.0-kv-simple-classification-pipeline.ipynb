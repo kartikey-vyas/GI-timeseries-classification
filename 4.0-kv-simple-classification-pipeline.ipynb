{
 "cells": [
  {
   "cell_type": "code",
   "execution_count": 13,
   "metadata": {},
   "outputs": [],
   "source": [
    "import pandas as pd\n",
    "\n",
    "from sklearn.tree import DecisionTreeClassifier\n",
    "from sklearn.model_selection import train_test_split\n",
    "from sklearn.metrics import classification_report\n",
    "\n",
    "from tsfresh import select_features\n",
    "from tsfresh.utilities.dataframe_functions import impute"
   ]
  },
  {
   "cell_type": "code",
   "execution_count": 24,
   "metadata": {},
   "outputs": [],
   "source": [
    "# load feature matrix\n",
    "X_min = pd.read_hdf('0_0315_4_electrodes_min.h5')\n",
    "X_eff = pd.read_hdf('0_0315_4_electrodes_eff.h5')\n",
    "\n",
    "# load target dataframe\n",
    "y = pd.read_hdf('0_0315_4_electrodes_y.h5')\n",
    "y = y.drop_duplicates()\n",
    "y = y.set_index('window_id')\n",
    "y = y.T.squeeze()\n",
    "y = y.sort_index(0)"
   ]
  },
  {
   "cell_type": "code",
   "execution_count": 25,
   "metadata": {},
   "outputs": [],
   "source": [
    "impute(X_min)\n",
    "impute(X_eff)\n",
    "X_min_filt = select_features(X_min, y)\n",
    "X_eff_filt = select_features(X_eff, y)"
   ]
  },
  {
   "cell_type": "code",
   "execution_count": 37,
   "metadata": {},
   "outputs": [],
   "source": [
    "X_eff_train, X_eff_test, y_train, y_test = train_test_split(X_eff_filt, y, test_size=.4)\n",
    "X_min_train, X_min_test, y_train, y_test = train_test_split(X_min_filt, y, test_size=.4)"
   ]
  },
  {
   "cell_type": "code",
   "execution_count": 38,
   "metadata": {},
   "outputs": [
    {
     "name": "stdout",
     "output_type": "stream",
     "text": [
      "              precision    recall  f1-score   support\n",
      "\n",
      "           0       0.25      0.15      0.19        13\n",
      "           1       0.39      0.54      0.45        13\n",
      "           2       0.36      0.36      0.36        11\n",
      "\n",
      "    accuracy                           0.35        37\n",
      "   macro avg       0.33      0.35      0.34        37\n",
      "weighted avg       0.33      0.35      0.33        37\n",
      "\n"
     ]
    }
   ],
   "source": [
    "tree_eff = DecisionTreeClassifier()\n",
    "tree_eff.fit(X_eff_train, y_train)\n",
    "print(classification_report(y_test, tree_eff.predict(X_eff_test)))"
   ]
  },
  {
   "cell_type": "code",
   "execution_count": 49,
   "metadata": {},
   "outputs": [
    {
     "name": "stdout",
     "output_type": "stream",
     "text": [
      "              precision    recall  f1-score   support\n",
      "\n",
      "           0       1.00      0.92      0.96        13\n",
      "           1       0.69      0.85      0.76        13\n",
      "           2       0.78      0.64      0.70        11\n",
      "\n",
      "    accuracy                           0.81        37\n",
      "   macro avg       0.82      0.80      0.81        37\n",
      "weighted avg       0.82      0.81      0.81        37\n",
      "\n"
     ]
    }
   ],
   "source": [
    "tree_min = DecisionTreeClassifier()\n",
    "tree_min.fit(X_min_train, y_train)\n",
    "print(classification_report(y_test, tree_min.predict(X_min_test)))"
   ]
  },
  {
   "cell_type": "code",
   "execution_count": 29,
   "metadata": {},
   "outputs": [
    {
     "data": {
      "text/html": [
       "<div>\n",
       "<style scoped>\n",
       "    .dataframe tbody tr th:only-of-type {\n",
       "        vertical-align: middle;\n",
       "    }\n",
       "\n",
       "    .dataframe tbody tr th {\n",
       "        vertical-align: top;\n",
       "    }\n",
       "\n",
       "    .dataframe thead th {\n",
       "        text-align: right;\n",
       "    }\n",
       "</style>\n",
       "<table border=\"1\" class=\"dataframe\">\n",
       "  <thead>\n",
       "    <tr style=\"text-align: right;\">\n",
       "      <th>variable</th>\n",
       "      <th>34__maximum</th>\n",
       "      <th>4__variance</th>\n",
       "      <th>4__standard_deviation</th>\n",
       "      <th>34__variance</th>\n",
       "      <th>34__standard_deviation</th>\n",
       "      <th>57__standard_deviation</th>\n",
       "      <th>57__variance</th>\n",
       "      <th>4__maximum</th>\n",
       "      <th>4__minimum</th>\n",
       "      <th>34__minimum</th>\n",
       "      <th>57__maximum</th>\n",
       "      <th>27__variance</th>\n",
       "      <th>27__standard_deviation</th>\n",
       "      <th>57__minimum</th>\n",
       "      <th>27__minimum</th>\n",
       "      <th>27__maximum</th>\n",
       "    </tr>\n",
       "    <tr>\n",
       "      <th>id</th>\n",
       "      <th></th>\n",
       "      <th></th>\n",
       "      <th></th>\n",
       "      <th></th>\n",
       "      <th></th>\n",
       "      <th></th>\n",
       "      <th></th>\n",
       "      <th></th>\n",
       "      <th></th>\n",
       "      <th></th>\n",
       "      <th></th>\n",
       "      <th></th>\n",
       "      <th></th>\n",
       "      <th></th>\n",
       "      <th></th>\n",
       "      <th></th>\n",
       "    </tr>\n",
       "  </thead>\n",
       "  <tbody>\n",
       "    <tr>\n",
       "      <th>0</th>\n",
       "      <td>53.979924</td>\n",
       "      <td>25313.868698</td>\n",
       "      <td>159.103327</td>\n",
       "      <td>1493.920412</td>\n",
       "      <td>38.651267</td>\n",
       "      <td>153.405547</td>\n",
       "      <td>23533.261792</td>\n",
       "      <td>295.423675</td>\n",
       "      <td>-205.294628</td>\n",
       "      <td>-90.785602</td>\n",
       "      <td>290.661661</td>\n",
       "      <td>1664.247023</td>\n",
       "      <td>40.795184</td>\n",
       "      <td>-204.070514</td>\n",
       "      <td>-98.425293</td>\n",
       "      <td>64.282079</td>\n",
       "    </tr>\n",
       "    <tr>\n",
       "      <th>1</th>\n",
       "      <td>82.043767</td>\n",
       "      <td>21397.711372</td>\n",
       "      <td>146.279566</td>\n",
       "      <td>2654.881296</td>\n",
       "      <td>51.525540</td>\n",
       "      <td>142.126070</td>\n",
       "      <td>20199.819801</td>\n",
       "      <td>277.318398</td>\n",
       "      <td>-197.619225</td>\n",
       "      <td>-111.661413</td>\n",
       "      <td>274.290223</td>\n",
       "      <td>3180.403191</td>\n",
       "      <td>56.395064</td>\n",
       "      <td>-181.483743</td>\n",
       "      <td>-108.570478</td>\n",
       "      <td>57.034841</td>\n",
       "    </tr>\n",
       "    <tr>\n",
       "      <th>2</th>\n",
       "      <td>84.238884</td>\n",
       "      <td>16018.828457</td>\n",
       "      <td>126.565511</td>\n",
       "      <td>3315.906394</td>\n",
       "      <td>57.583907</td>\n",
       "      <td>117.418201</td>\n",
       "      <td>13787.033912</td>\n",
       "      <td>224.252631</td>\n",
       "      <td>-167.800456</td>\n",
       "      <td>-105.058553</td>\n",
       "      <td>216.386658</td>\n",
       "      <td>3351.322706</td>\n",
       "      <td>57.890610</td>\n",
       "      <td>-150.945904</td>\n",
       "      <td>-116.684697</td>\n",
       "      <td>84.817419</td>\n",
       "    </tr>\n",
       "    <tr>\n",
       "      <th>3</th>\n",
       "      <td>75.386610</td>\n",
       "      <td>5668.518185</td>\n",
       "      <td>75.289562</td>\n",
       "      <td>1703.184739</td>\n",
       "      <td>41.269659</td>\n",
       "      <td>65.184365</td>\n",
       "      <td>4249.001457</td>\n",
       "      <td>142.916404</td>\n",
       "      <td>-112.513313</td>\n",
       "      <td>-67.238500</td>\n",
       "      <td>136.237402</td>\n",
       "      <td>1649.436948</td>\n",
       "      <td>40.613261</td>\n",
       "      <td>-93.334961</td>\n",
       "      <td>-62.821892</td>\n",
       "      <td>68.549734</td>\n",
       "    </tr>\n",
       "    <tr>\n",
       "      <th>4</th>\n",
       "      <td>66.437765</td>\n",
       "      <td>3514.979177</td>\n",
       "      <td>59.287260</td>\n",
       "      <td>1035.644492</td>\n",
       "      <td>32.181431</td>\n",
       "      <td>53.756255</td>\n",
       "      <td>2889.734970</td>\n",
       "      <td>104.061364</td>\n",
       "      <td>-94.316387</td>\n",
       "      <td>-51.435484</td>\n",
       "      <td>92.255836</td>\n",
       "      <td>2207.592015</td>\n",
       "      <td>46.985019</td>\n",
       "      <td>-98.530345</td>\n",
       "      <td>-62.825766</td>\n",
       "      <td>111.529645</td>\n",
       "    </tr>\n",
       "  </tbody>\n",
       "</table>\n",
       "</div>"
      ],
      "text/plain": [
       "variable  34__maximum   4__variance  4__standard_deviation  34__variance  \\\n",
       "id                                                                         \n",
       "0           53.979924  25313.868698             159.103327   1493.920412   \n",
       "1           82.043767  21397.711372             146.279566   2654.881296   \n",
       "2           84.238884  16018.828457             126.565511   3315.906394   \n",
       "3           75.386610   5668.518185              75.289562   1703.184739   \n",
       "4           66.437765   3514.979177              59.287260   1035.644492   \n",
       "\n",
       "variable  34__standard_deviation  57__standard_deviation  57__variance  \\\n",
       "id                                                                       \n",
       "0                      38.651267              153.405547  23533.261792   \n",
       "1                      51.525540              142.126070  20199.819801   \n",
       "2                      57.583907              117.418201  13787.033912   \n",
       "3                      41.269659               65.184365   4249.001457   \n",
       "4                      32.181431               53.756255   2889.734970   \n",
       "\n",
       "variable  4__maximum  4__minimum  34__minimum  57__maximum  27__variance  \\\n",
       "id                                                                         \n",
       "0         295.423675 -205.294628   -90.785602   290.661661   1664.247023   \n",
       "1         277.318398 -197.619225  -111.661413   274.290223   3180.403191   \n",
       "2         224.252631 -167.800456  -105.058553   216.386658   3351.322706   \n",
       "3         142.916404 -112.513313   -67.238500   136.237402   1649.436948   \n",
       "4         104.061364  -94.316387   -51.435484    92.255836   2207.592015   \n",
       "\n",
       "variable  27__standard_deviation  57__minimum  27__minimum  27__maximum  \n",
       "id                                                                       \n",
       "0                      40.795184  -204.070514   -98.425293    64.282079  \n",
       "1                      56.395064  -181.483743  -108.570478    57.034841  \n",
       "2                      57.890610  -150.945904  -116.684697    84.817419  \n",
       "3                      40.613261   -93.334961   -62.821892    68.549734  \n",
       "4                      46.985019   -98.530345   -62.825766   111.529645  "
      ]
     },
     "execution_count": 29,
     "metadata": {},
     "output_type": "execute_result"
    }
   ],
   "source": [
    "X_min_filt.head()"
   ]
  },
  {
   "cell_type": "code",
   "execution_count": 55,
   "metadata": {},
   "outputs": [
    {
     "ename": "ModuleNotFoundError",
     "evalue": "No module named 'ggplot'",
     "output_type": "error",
     "traceback": [
      "\u001b[0;31m---------------------------------------------------------------------------\u001b[0m",
      "\u001b[0;31mModuleNotFoundError\u001b[0m                       Traceback (most recent call last)",
      "\u001b[0;32m<ipython-input-55-510450b108a0>\u001b[0m in \u001b[0;36m<module>\u001b[0;34m\u001b[0m\n\u001b[1;32m      3\u001b[0m \u001b[0;31m# PLOTS NEEDED\u001b[0m\u001b[0;34m\u001b[0m\u001b[0;34m\u001b[0m\u001b[0;34m\u001b[0m\u001b[0m\n\u001b[1;32m      4\u001b[0m \u001b[0;31m# distribution of each feature for different y\u001b[0m\u001b[0;34m\u001b[0m\u001b[0;34m\u001b[0m\u001b[0;34m\u001b[0m\u001b[0m\n\u001b[0;32m----> 5\u001b[0;31m \u001b[0;32mimport\u001b[0m \u001b[0mggplot\u001b[0m\u001b[0;34m\u001b[0m\u001b[0;34m\u001b[0m\u001b[0m\n\u001b[0m",
      "\u001b[0;31mModuleNotFoundError\u001b[0m: No module named 'ggplot'"
     ]
    }
   ],
   "source": [
    "df_min = pd.concat([X_min_filt, y], axis = 1)\n",
    "# FEATURE IMPORTANCE\n",
    "# PLOTS NEEDED\n",
    "# distribution of each feature for different y\n"
   ]
  }
 ],
 "metadata": {
  "kernelspec": {
   "display_name": "Python 3",
   "language": "python",
   "name": "python3"
  },
  "language_info": {
   "codemirror_mode": {
    "name": "ipython",
    "version": 3
   },
   "file_extension": ".py",
   "mimetype": "text/x-python",
   "name": "python",
   "nbconvert_exporter": "python",
   "pygments_lexer": "ipython3",
   "version": "3.8.3"
  }
 },
 "nbformat": 4,
 "nbformat_minor": 4
}
