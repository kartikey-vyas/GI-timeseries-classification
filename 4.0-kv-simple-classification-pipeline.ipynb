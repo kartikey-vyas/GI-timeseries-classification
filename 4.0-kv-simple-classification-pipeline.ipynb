{
 "cells": [
  {
   "cell_type": "code",
   "execution_count": 1,
   "metadata": {},
   "outputs": [],
   "source": [
    "# imports\n",
    "from scipy.io import loadmat\n",
    "import numpy as np\n",
    "import pandas as pd"
   ]
  },
  {
   "cell_type": "code",
   "execution_count": 2,
   "metadata": {},
   "outputs": [],
   "source": [
    "# load data\n",
    "matfile_baseline = loadmat('data/raw/Ach-AT/0_0315_ach-at_0.mat')\n",
    "matfile_ach = loadmat('data/raw/Ach-AT/0_0315_ach-at_1.mat')\n",
    "matfile_at = loadmat('data/raw/Ach-AT/0_0315_ach-at_2.mat')"
   ]
  },
  {
   "cell_type": "code",
   "execution_count": 3,
   "metadata": {},
   "outputs": [],
   "source": [
    "def make_windows(matfile, window_size = 6000):\n",
    "    # retrieve the relevant data from the dictionaries\n",
    "    df = pd.DataFrame(matfile['filt_data'].copy())\n",
    "    df = df.T\n",
    "    time = pd.DataFrame(matfile['filt_t'].copy())\n",
    "    time = time.T\n",
    "\n",
    "    # set up the time column\n",
    "    time.columns = ['t']\n",
    "    time['t'] = time['t'] - 60000 # make time start at 0\n",
    "    time['window_id'] = time['t'] / window_size # n second windows\n",
    "    time['window_id'] = time['window_id'].astype(int)\n",
    "\n",
    "    # join the electrode signals with time\n",
    "    df = pd.concat([time, df], axis=1)\n",
    "\n",
    "    return df"
   ]
  },
  {
   "cell_type": "code",
   "execution_count": 4,
   "metadata": {},
   "outputs": [],
   "source": [
    "df_base = make_windows(matfile_baseline)\n",
    "df_ach = make_windows(matfile_ach)\n",
    "df_at = make_windows(matfile_at)"
   ]
  },
  {
   "cell_type": "code",
   "execution_count": 5,
   "metadata": {},
   "outputs": [],
   "source": [
    "# train on four electrodes - choose 4,27,34 and 57 (the centre-most ones)\n",
    "df_base_4 = df_base[['t','window_id',4,27,34,57]]\n",
    "df_base_4['y'] = 0\n",
    "df_ach_4 = df_ach[['t','window_id',4,27,34,57]]\n",
    "df_ach_4['y'] = 1\n",
    "df_at_4 = df_at[['t','window_id',4,27,34,57]]\n",
    "df_at_4['y'] = 2\n",
    "# this could be done more efficiently, build into the function\n",
    "\n",
    "df_4 = pd.concat([df_base_4, df_ach_4, df_at_4], axis=0, ignore_index=True)"
   ]
  },
  {
   "cell_type": "code",
   "execution_count": 6,
   "metadata": {},
   "outputs": [
    {
     "output_type": "error",
     "ename": "ModuleNotFoundError",
     "evalue": "No module named 'tsfresh'",
     "traceback": [
      "\u001b[0;31m---------------------------------------------------------------------------\u001b[0m",
      "\u001b[0;31mModuleNotFoundError\u001b[0m                       Traceback (most recent call last)",
      "\u001b[0;32m<ipython-input-6-191dbac86804>\u001b[0m in \u001b[0;36m<module>\u001b[0;34m\u001b[0m\n\u001b[1;32m      1\u001b[0m \u001b[0;31m# READY TO TRAIN\u001b[0m\u001b[0;34m\u001b[0m\u001b[0;34m\u001b[0m\u001b[0;34m\u001b[0m\u001b[0m\n\u001b[0;32m----> 2\u001b[0;31m \u001b[0;32mfrom\u001b[0m \u001b[0mtsfresh\u001b[0m \u001b[0;32mimport\u001b[0m \u001b[0mextract_features\u001b[0m\u001b[0;34m,\u001b[0m \u001b[0mextract_relevant_features\u001b[0m\u001b[0;34m,\u001b[0m \u001b[0mselect_features\u001b[0m\u001b[0;34m\u001b[0m\u001b[0;34m\u001b[0m\u001b[0m\n\u001b[0m\u001b[1;32m      3\u001b[0m \u001b[0;32mfrom\u001b[0m \u001b[0mtsfresh\u001b[0m\u001b[0;34m.\u001b[0m\u001b[0mutilities\u001b[0m\u001b[0;34m.\u001b[0m\u001b[0mdataframe_functions\u001b[0m \u001b[0;32mimport\u001b[0m \u001b[0mimpute\u001b[0m\u001b[0;34m\u001b[0m\u001b[0;34m\u001b[0m\u001b[0m\n\u001b[1;32m      4\u001b[0m \u001b[0;32mfrom\u001b[0m \u001b[0mtsfresh\u001b[0m\u001b[0;34m.\u001b[0m\u001b[0mfeature_extraction\u001b[0m \u001b[0;32mimport\u001b[0m \u001b[0mComprehensiveFCParameters\u001b[0m\u001b[0;34m\u001b[0m\u001b[0;34m\u001b[0m\u001b[0m\n\u001b[1;32m      5\u001b[0m \u001b[0;34m\u001b[0m\u001b[0m\n",
      "\u001b[0;31mModuleNotFoundError\u001b[0m: No module named 'tsfresh'"
     ]
    }
   ],
   "source": [
    "# READY TO TRAIN\n",
    "from tsfresh import extract_features, extract_relevant_features, select_features\n",
    "from tsfresh.utilities.dataframe_functions import impute\n",
    "from tsfresh.feature_extraction import ComprehensiveFCParameters\n",
    "\n",
    "extraction_settings = ComprehensiveFCParameters()\n",
    "\n",
    "X = extract_features(df_4, column_id='window_id', column_sort='time',\n",
    "                     default_fc_parameters=extraction_settings,\n",
    "                     # we impute = remove all NaN features automatically\n",
    "                     impute_function=impute)"
   ]
  },
  {
   "cell_type": "code",
   "execution_count": null,
   "metadata": {},
   "outputs": [],
   "source": []
  }
 ],
 "metadata": {
  "language_info": {
   "codemirror_mode": {
    "name": "ipython",
    "version": 3
   },
   "file_extension": ".py",
   "mimetype": "text/x-python",
   "name": "python",
   "nbconvert_exporter": "python",
   "pygments_lexer": "ipython3",
   "version": "3.7.7-final"
  },
  "orig_nbformat": 2,
  "kernelspec": {
   "name": "python3",
   "display_name": "Python 3"
  }
 },
 "nbformat": 4,
 "nbformat_minor": 2
}