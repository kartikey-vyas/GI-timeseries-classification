{
 "cells": [
  {
   "cell_type": "code",
   "execution_count": 3,
   "metadata": {},
   "outputs": [],
   "source": [
    "from scipy.io import loadmat\n",
    "import os\n",
    "import numpy as np\n",
    "import pandas as pd\n",
    "from matplotlib import pyplot as plt"
   ]
  },
  {
   "cell_type": "code",
   "execution_count": 2,
   "metadata": {},
   "outputs": [],
   "source": [
    "matfile = loadmat(\"data/raw/Ach-AT/04_0316_ach-at_0.mat\")"
   ]
  },
  {
   "cell_type": "code",
   "execution_count": 3,
   "metadata": {},
   "outputs": [
    {
     "output_type": "execute_result",
     "data": {
      "text/plain": "         0         1         2         3          4         5         6   \\\n0  7.400816 -5.906791  1.142726  0.191898  69.562051  9.012236 -1.880871   \n1  7.177488 -6.135068  0.915841 -0.035060  70.621536  8.793167 -2.098095   \n2  6.954183 -6.363301  0.688980 -0.262074  71.684292  8.574064 -2.315308   \n3  6.730903 -6.591484  0.462145 -0.489139  72.750299  8.354930 -2.532505   \n4  6.507654 -6.819615  0.235341 -0.716252  73.819535  8.135771 -2.749683   \n\n         7         8         9   ...         50         51         52  \\\n0  8.457310  8.753557  9.518978  ...  10.667000  21.348741  24.569333   \n1  8.270087  8.722532  9.349439  ...  10.660654  21.315009  24.523723   \n2  8.082819  8.691471  9.179862  ...  10.654873  21.281652  24.478398   \n3  7.895511  8.660374  9.010250  ...  10.649656  21.248670  24.433359   \n4  7.708165  8.629241  8.840605  ...  10.645005  21.216063  24.388607   \n\n          53        54         55         56         57         58        59  \n0  28.577441 -6.224571 -12.086969  13.948367  30.062192  16.205018 -2.557572  \n1  28.519099 -6.261806 -12.145811  13.811402  29.889178  16.011065 -2.787902  \n2  28.461005 -6.299013 -12.204617  13.674545  29.716228  15.817129 -3.018183  \n3  28.403161 -6.336192 -12.263387  13.537799  29.543346  15.623212 -3.248411  \n4  28.345568 -6.373342 -12.322119  13.401168  29.370533  15.429319 -3.478581  \n\n[5 rows x 60 columns]",
      "text/html": "<div>\n<style scoped>\n    .dataframe tbody tr th:only-of-type {\n        vertical-align: middle;\n    }\n\n    .dataframe tbody tr th {\n        vertical-align: top;\n    }\n\n    .dataframe thead th {\n        text-align: right;\n    }\n</style>\n<table border=\"1\" class=\"dataframe\">\n  <thead>\n    <tr style=\"text-align: right;\">\n      <th></th>\n      <th>0</th>\n      <th>1</th>\n      <th>2</th>\n      <th>3</th>\n      <th>4</th>\n      <th>5</th>\n      <th>6</th>\n      <th>7</th>\n      <th>8</th>\n      <th>9</th>\n      <th>...</th>\n      <th>50</th>\n      <th>51</th>\n      <th>52</th>\n      <th>53</th>\n      <th>54</th>\n      <th>55</th>\n      <th>56</th>\n      <th>57</th>\n      <th>58</th>\n      <th>59</th>\n    </tr>\n  </thead>\n  <tbody>\n    <tr>\n      <th>0</th>\n      <td>7.400816</td>\n      <td>-5.906791</td>\n      <td>1.142726</td>\n      <td>0.191898</td>\n      <td>69.562051</td>\n      <td>9.012236</td>\n      <td>-1.880871</td>\n      <td>8.457310</td>\n      <td>8.753557</td>\n      <td>9.518978</td>\n      <td>...</td>\n      <td>10.667000</td>\n      <td>21.348741</td>\n      <td>24.569333</td>\n      <td>28.577441</td>\n      <td>-6.224571</td>\n      <td>-12.086969</td>\n      <td>13.948367</td>\n      <td>30.062192</td>\n      <td>16.205018</td>\n      <td>-2.557572</td>\n    </tr>\n    <tr>\n      <th>1</th>\n      <td>7.177488</td>\n      <td>-6.135068</td>\n      <td>0.915841</td>\n      <td>-0.035060</td>\n      <td>70.621536</td>\n      <td>8.793167</td>\n      <td>-2.098095</td>\n      <td>8.270087</td>\n      <td>8.722532</td>\n      <td>9.349439</td>\n      <td>...</td>\n      <td>10.660654</td>\n      <td>21.315009</td>\n      <td>24.523723</td>\n      <td>28.519099</td>\n      <td>-6.261806</td>\n      <td>-12.145811</td>\n      <td>13.811402</td>\n      <td>29.889178</td>\n      <td>16.011065</td>\n      <td>-2.787902</td>\n    </tr>\n    <tr>\n      <th>2</th>\n      <td>6.954183</td>\n      <td>-6.363301</td>\n      <td>0.688980</td>\n      <td>-0.262074</td>\n      <td>71.684292</td>\n      <td>8.574064</td>\n      <td>-2.315308</td>\n      <td>8.082819</td>\n      <td>8.691471</td>\n      <td>9.179862</td>\n      <td>...</td>\n      <td>10.654873</td>\n      <td>21.281652</td>\n      <td>24.478398</td>\n      <td>28.461005</td>\n      <td>-6.299013</td>\n      <td>-12.204617</td>\n      <td>13.674545</td>\n      <td>29.716228</td>\n      <td>15.817129</td>\n      <td>-3.018183</td>\n    </tr>\n    <tr>\n      <th>3</th>\n      <td>6.730903</td>\n      <td>-6.591484</td>\n      <td>0.462145</td>\n      <td>-0.489139</td>\n      <td>72.750299</td>\n      <td>8.354930</td>\n      <td>-2.532505</td>\n      <td>7.895511</td>\n      <td>8.660374</td>\n      <td>9.010250</td>\n      <td>...</td>\n      <td>10.649656</td>\n      <td>21.248670</td>\n      <td>24.433359</td>\n      <td>28.403161</td>\n      <td>-6.336192</td>\n      <td>-12.263387</td>\n      <td>13.537799</td>\n      <td>29.543346</td>\n      <td>15.623212</td>\n      <td>-3.248411</td>\n    </tr>\n    <tr>\n      <th>4</th>\n      <td>6.507654</td>\n      <td>-6.819615</td>\n      <td>0.235341</td>\n      <td>-0.716252</td>\n      <td>73.819535</td>\n      <td>8.135771</td>\n      <td>-2.749683</td>\n      <td>7.708165</td>\n      <td>8.629241</td>\n      <td>8.840605</td>\n      <td>...</td>\n      <td>10.645005</td>\n      <td>21.216063</td>\n      <td>24.388607</td>\n      <td>28.345568</td>\n      <td>-6.373342</td>\n      <td>-12.322119</td>\n      <td>13.401168</td>\n      <td>29.370533</td>\n      <td>15.429319</td>\n      <td>-3.478581</td>\n    </tr>\n  </tbody>\n</table>\n<p>5 rows × 60 columns</p>\n</div>"
     },
     "metadata": {},
     "execution_count": 3
    }
   ],
   "source": [
    "df = pd.DataFrame(matfile['filt_data'])\n",
    "df=df.T\n",
    "df_2 = pd.DataFrame()\n",
    "df.head()"
   ]
  },
  {
   "cell_type": "code",
   "execution_count": 4,
   "metadata": {},
   "outputs": [],
   "source": [
    "df_2 = pd.DataFrame()\n",
    "for j in range(60):\n",
    "    index = 0\n",
    "    window = 1\n",
    "    while index < 180000:\n",
    "        # one row should contain 6000 voltage measurements (6s worth), the window number and the electrode number\n",
    "        row = df.iloc[:,j]\n",
    "        row = pd.DataFrame(row[index:index+6000])\n",
    "        row = row.reset_index(drop=True)\n",
    "        row = row.T\n",
    "        row['electrode'] = j\n",
    "        row['window'] = window\n",
    "        df_2 = df_2.append(row)\n",
    "        index += 6000\n",
    "        window += 1"
   ]
  },
  {
   "cell_type": "code",
   "execution_count": 5,
   "metadata": {},
   "outputs": [],
   "source": [
    "file = \"data/raw/Ach-AT/04_0316_ach-at_0.mat\"\n",
    "name = os.path.split(file)[1]\n",
    "y = name[-5]\n",
    "df_2['y'] = y\n",
    "df_2.head()\n",
    "df_2['subject'] = name[:7]\n",
    "df_2.to_hdf('test.h5', key = name[:7], mode = 'a')"
   ]
  },
  {
   "cell_type": "code",
   "execution_count": 6,
   "metadata": {},
   "outputs": [],
   "source": [
    "test = pd.read_hdf('test.h5')"
   ]
  },
  {
   "cell_type": "code",
   "execution_count": 4,
   "metadata": {},
   "outputs": [],
   "source": [
    "# load \n",
    "# get a list of the file names\n",
    "d = \"data/raw/Ach-AT\"\n",
    "filenames = []\n",
    "\n",
    "for root, dirs, files in os.walk(d):\n",
    "    for file in files:\n",
    "        if file.endswith(\".mat\"):\n",
    "            filenames.append(os.path.join(root, file))\n",
    "\n",
    "for file in filenames:\n",
    "    matfile = loadmat(file)\n",
    "    df_raw = pd.DataFrame(matfile['filt_data'])\n",
    "    df_raw = df_raw.T\n",
    "    df_clean = pd.DataFrame()\n",
    "    for j in range(60):\n",
    "        index = 0\n",
    "        window = 1\n",
    "        while index < 180000:\n",
    "            # one row should contain 6000 voltage measurements (6s worth), the window number and the electrode number\n",
    "            row = df_raw.iloc[:,j]\n",
    "            row = pd.DataFrame(row[index:index+6000])\n",
    "            row = row.reset_index(drop=True)\n",
    "            row = row.T\n",
    "            row['electrode'] = j\n",
    "            row['window'] = window\n",
    "            df_clean = df_clean.append(row)\n",
    "            index += 6000\n",
    "            window += 1\n",
    "    name = os.path.split(file)[1]\n",
    "    y = name[-5]\n",
    "    df_clean['y'] = y\n",
    "    df_clean['subject'] = name[:7]\n",
    "    df_clean.to_hdf('data/processed/ach_at_table.h5', key = 'Ach-AT', mode = 'a', format = 'table', append = True)"
   ]
  },
  {
   "cell_type": "code",
   "execution_count": null,
   "metadata": {},
   "outputs": [],
   "source": []
  }
 ],
 "metadata": {
  "file_extension": ".py",
  "kernelspec": {
   "display_name": "Python 3",
   "language": "python",
   "name": "python3"
  },
  "language_info": {
   "codemirror_mode": {
    "name": "ipython",
    "version": 3
   },
   "file_extension": ".py",
   "mimetype": "text/x-python",
   "name": "python",
   "nbconvert_exporter": "python",
   "pygments_lexer": "ipython3",
   "version": "3.7.7-final"
  },
  "mimetype": "text/x-python",
  "name": "python",
  "npconvert_exporter": "python",
  "pygments_lexer": "ipython3",
  "version": 3
 },
 "nbformat": 4,
 "nbformat_minor": 2
}