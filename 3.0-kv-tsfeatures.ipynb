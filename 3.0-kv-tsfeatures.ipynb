{
 "cells": [
  {
   "cell_type": "code",
   "execution_count": 1,
   "metadata": {},
   "outputs": [],
   "source": [
    "# imports\n",
    "from scipy.io import loadmat\n",
    "import numpy as np\n",
    "import pandas as pd"
   ]
  },
  {
   "cell_type": "code",
   "execution_count": 2,
   "metadata": {},
   "outputs": [],
   "source": [
    "# load data\n",
    "matfile_baseline = loadmat('data/raw/Ach-AT/0_0315_ach-at_0.mat')\n",
    "matfile_ach = loadmat('data/raw/Ach-AT/0_0315_ach-at_1.mat')\n",
    "matfile_at = loadmat('data/raw/Ach-AT/0_0315_ach-at_2.mat')"
   ]
  },
  {
   "cell_type": "code",
   "execution_count": 3,
   "metadata": {},
   "outputs": [],
   "source": [
    "def make_windows(matfile, window_size = 6000):\n",
    "    # retrieve the relevant data from the dictionaries\n",
    "    df = pd.DataFrame(matfile['filt_data'].copy())\n",
    "    df = df.T\n",
    "    time = pd.DataFrame(matfile['filt_t'].copy())\n",
    "    time = time.T\n",
    "\n",
    "    # set up the time column\n",
    "    time.columns = ['t']\n",
    "    time['t'] = time['t'] - 60000 # make time start at 0\n",
    "    time['window_id'] = time['t'] / window_size # n second windows\n",
    "    time['window_id'] = time['window_id'].astype(int)\n",
    "\n",
    "    # join the electrode signals with time\n",
    "    df = pd.concat([time, df], axis=1)\n",
    "\n",
    "    return df"
   ]
  },
  {
   "cell_type": "code",
   "execution_count": 4,
   "metadata": {},
   "outputs": [],
   "source": [
    "df_base = make_windows(matfile_baseline)\n",
    "df_ach = make_windows(matfile_ach)\n",
    "df_at = make_windows(matfile_at)"
   ]
  },
  {
   "cell_type": "code",
   "execution_count": 5,
   "metadata": {},
   "outputs": [
    {
     "name": "stderr",
     "output_type": "stream",
     "text": [
      "<ipython-input-5-a10af983208f>:3: SettingWithCopyWarning: \n",
      "A value is trying to be set on a copy of a slice from a DataFrame.\n",
      "Try using .loc[row_indexer,col_indexer] = value instead\n",
      "\n",
      "See the caveats in the documentation: https://pandas.pydata.org/pandas-docs/stable/user_guide/indexing.html#returning-a-view-versus-a-copy\n",
      "  df_base_4['y'] = 0\n",
      "<ipython-input-5-a10af983208f>:5: SettingWithCopyWarning: \n",
      "A value is trying to be set on a copy of a slice from a DataFrame.\n",
      "Try using .loc[row_indexer,col_indexer] = value instead\n",
      "\n",
      "See the caveats in the documentation: https://pandas.pydata.org/pandas-docs/stable/user_guide/indexing.html#returning-a-view-versus-a-copy\n",
      "  df_ach_4['y'] = 1\n",
      "<ipython-input-5-a10af983208f>:7: SettingWithCopyWarning: \n",
      "A value is trying to be set on a copy of a slice from a DataFrame.\n",
      "Try using .loc[row_indexer,col_indexer] = value instead\n",
      "\n",
      "See the caveats in the documentation: https://pandas.pydata.org/pandas-docs/stable/user_guide/indexing.html#returning-a-view-versus-a-copy\n",
      "  df_at_4['y'] = 2\n"
     ]
    }
   ],
   "source": [
    "# train on four electrodes - choose 4,27,34 and 57 (the centre-most ones)\n",
    "df_base_4 = df_base[['t','window_id',4,27,34,57]]\n",
    "df_base_4['y'] = 0\n",
    "df_ach_4 = df_ach[['t','window_id',4,27,34,57]]\n",
    "df_ach_4['y'] = 1\n",
    "df_at_4 = df_at[['t','window_id',4,27,34,57]]\n",
    "df_at_4['y'] = 2\n",
    "# this could be done more efficiently, build into the function\n",
    "\n",
    "df_4 = pd.concat([df_base_4, df_ach_4, df_at_4], axis=0, ignore_index=True)"
   ]
  },
  {
   "cell_type": "code",
   "execution_count": 6,
   "metadata": {},
   "outputs": [
    {
     "name": "stderr",
     "output_type": "stream",
     "text": [
      "Feature Extraction: 100%|██████████| 10/10 [6:06:20<00:00, 2198.02s/it]  \n"
     ]
    }
   ],
   "source": [
    "# READY TO TRAIN\n",
    "from tsfresh import extract_features\n",
    "\n",
    "X = extract_features(df_4, column_id='window_id', column_sort='t')"
   ]
  },
  {
   "cell_type": "code",
   "execution_count": 9,
   "metadata": {},
   "outputs": [],
   "source": [
    "X.to_hdf('0_0315_features_4_electrodes.h5', key = 'features', complevel = 9)"
   ]
  }
 ],
 "metadata": {
  "kernelspec": {
   "display_name": "Python 3.8.2 64-bit ('ts': conda)",
   "language": "python",
   "name": "python38264bittscondab4ffa1b40d204a5ab108bc7e8538d97f"
  },
  "language_info": {
   "codemirror_mode": {
    "name": "ipython",
    "version": 3
   },
   "file_extension": ".py",
   "mimetype": "text/x-python",
   "name": "python",
   "nbconvert_exporter": "python",
   "pygments_lexer": "ipython3",
   "version": "3.8.2"
  }
 },
 "nbformat": 4,
 "nbformat_minor": 2
}
