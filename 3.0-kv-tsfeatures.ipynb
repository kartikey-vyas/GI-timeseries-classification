{
 "cells": [
  {
   "cell_type": "code",
   "execution_count": 1,
   "metadata": {},
   "outputs": [],
   "source": [
    "# imports\n",
    "from scipy.io import loadmat\n",
    "import numpy as np\n",
    "import pandas as pd\n",
    "from tsfresh import extract_features\n",
    "from tsfresh.feature_extraction import MinimalFCParameters, EfficientFCParameters"
   ]
  },
  {
   "cell_type": "code",
   "execution_count": 2,
   "metadata": {},
   "outputs": [],
   "source": [
    "# load data\n",
    "matfile_baseline = loadmat('data/raw/Ach-AT/0_0315_ach-at_0.mat')\n",
    "matfile_ach = loadmat('data/raw/Ach-AT/0_0315_ach-at_1.mat')\n",
    "matfile_at = loadmat('data/raw/Ach-AT/0_0315_ach-at_2.mat')"
   ]
  },
  {
   "cell_type": "code",
   "execution_count": 3,
   "metadata": {},
   "outputs": [],
   "source": [
    "def make_windows(matfile, window_size = 6000):\n",
    "    # retrieve the relevant data from the dictionaries\n",
    "    df = pd.DataFrame(matfile['filt_data'].copy())\n",
    "    df = df.T\n",
    "    time = pd.DataFrame(matfile['filt_t'].copy())\n",
    "    time = time.T\n",
    "\n",
    "    # set up the time column\n",
    "    time.columns = ['t']\n",
    "    time['t'] = time['t'] - 60000 # make time start at 0\n",
    "    time['window_id'] = time['t'] / window_size # n second windows\n",
    "    time['window_id'] = time['window_id'].astype(int)\n",
    "\n",
    "    # join the electrode signals with time\n",
    "    df = pd.concat([time, df], axis=1)\n",
    "\n",
    "    return df"
   ]
  },
  {
   "cell_type": "code",
   "execution_count": 4,
   "metadata": {},
   "outputs": [],
   "source": [
    "df_base = make_windows(matfile_baseline)\n",
    "df_ach = make_windows(matfile_ach)\n",
    "df_at = make_windows(matfile_at)"
   ]
  },
  {
   "cell_type": "code",
   "execution_count": 7,
   "metadata": {},
   "outputs": [
    {
     "name": "stderr",
     "output_type": "stream",
     "text": [
      "<ipython-input-7-09db19f65da3>:3: SettingWithCopyWarning: \n",
      "A value is trying to be set on a copy of a slice from a DataFrame.\n",
      "Try using .loc[row_indexer,col_indexer] = value instead\n",
      "\n",
      "See the caveats in the documentation: https://pandas.pydata.org/pandas-docs/stable/user_guide/indexing.html#returning-a-view-versus-a-copy\n",
      "  df_base_4['y'] = 0\n",
      "<ipython-input-7-09db19f65da3>:5: SettingWithCopyWarning: \n",
      "A value is trying to be set on a copy of a slice from a DataFrame.\n",
      "Try using .loc[row_indexer,col_indexer] = value instead\n",
      "\n",
      "See the caveats in the documentation: https://pandas.pydata.org/pandas-docs/stable/user_guide/indexing.html#returning-a-view-versus-a-copy\n",
      "  df_ach_4['y'] = 1\n",
      "<ipython-input-7-09db19f65da3>:7: SettingWithCopyWarning: \n",
      "A value is trying to be set on a copy of a slice from a DataFrame.\n",
      "Try using .loc[row_indexer,col_indexer] = value instead\n",
      "\n",
      "See the caveats in the documentation: https://pandas.pydata.org/pandas-docs/stable/user_guide/indexing.html#returning-a-view-versus-a-copy\n",
      "  df_at_4['y'] = 2\n"
     ]
    }
   ],
   "source": [
    "# train on four electrodes - choose 4,27,34 and 57 (the centre-most ones)\n",
    "df_base_4 = df_base[['t','window_id',4,27,34,57]]\n",
    "df_base_4['y'] = 0\n",
    "df_ach_4 = df_ach[['t','window_id',4,27,34,57]]\n",
    "df_ach_4['y'] = 1\n",
    "df_at_4 = df_at[['t','window_id',4,27,34,57]]\n",
    "df_at_4['y'] = 2\n",
    "# this could be done more efficiently, build into the function\n",
    "\n",
    "df_4 = pd.concat([df_base_4, df_ach_4, df_at_4], axis=0, ignore_index=True)\n",
    "y_4 = df_4[['window_id','y']]\n",
    "df_4 = df_4.drop(columns = ['y'])\n",
    "y_4.to_hdf('0_0315_4_electrodes_y.h5', key = 'y', complevel = 9)"
   ]
  },
  {
   "cell_type": "code",
   "execution_count": 11,
   "metadata": {},
   "outputs": [
    {
     "name": "stderr",
     "output_type": "stream",
     "text": [
      "Feature Extraction: 100%|██████████| 10/10 [00:00<00:00, 22.59it/s]\n"
     ]
    }
   ],
   "source": [
    "# extract minimal features and see how long it takes\n",
    "X_minimal = extract_features(df_4, column_id='window_id', column_sort='t', default_fc_parameters=MinimalFCParameters())"
   ]
  },
  {
   "cell_type": "code",
   "execution_count": 17,
   "metadata": {},
   "outputs": [
    {
     "name": "stderr",
     "output_type": "stream",
     "text": [
      "Feature Extraction: 100%|██████████| 10/10 [11:36<00:00, 69.67s/it]\n"
     ]
    }
   ],
   "source": [
    "# extract more features\n",
    "X_eff = extract_features(df_4, column_id='window_id', column_sort='t', default_fc_parameters=EfficientFCParameters())"
   ]
  },
  {
   "cell_type": "code",
   "execution_count": 16,
   "metadata": {},
   "outputs": [],
   "source": [
    "X_minimal.to_hdf('0_0315_4_electrodes_min.h5', key = 'features', complevel = 9)"
   ]
  },
  {
   "cell_type": "code",
   "execution_count": 19,
   "metadata": {},
   "outputs": [],
   "source": [
    "X_eff.to_hdf('0_0315_4_electrodes_eff.h5',key = 'features', complevel = 9)"
   ]
  }
 ],
 "metadata": {
  "kernelspec": {
   "display_name": "Python 3.8.2 64-bit ('ts': conda)",
   "language": "python",
   "name": "python38264bittscondab4ffa1b40d204a5ab108bc7e8538d97f"
  },
  "language_info": {
   "codemirror_mode": {
    "name": "ipython",
    "version": 3
   },
   "file_extension": ".py",
   "mimetype": "text/x-python",
   "name": "python",
   "nbconvert_exporter": "python",
   "pygments_lexer": "ipython3",
   "version": "3.8.3"
  }
 },
 "nbformat": 4,
 "nbformat_minor": 4
}
