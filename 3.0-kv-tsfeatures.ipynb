{
 "cells": [
  {
   "cell_type": "code",
   "execution_count": 2,
   "metadata": {},
   "outputs": [],
   "source": [
    "# imports\n",
    "from scipy.io import loadmat\n",
    "import numpy as np\n",
    "import pandas as pd\n",
    "from tsfresh import extract_features\n",
    "from tsfresh.feature_extraction import MinimalFCParameters, EfficientFCParameters"
   ]
  },
  {
   "cell_type": "code",
   "execution_count": 3,
   "metadata": {},
   "outputs": [],
   "source": [
    "# load data\n",
    "matfile_baseline = loadmat('data/raw/Ach-AT/00_0315_ach-at_0.mat')\n",
    "matfile_ach = loadmat('data/raw/Ach-AT/00_0315_ach-at_1.mat')\n",
    "matfile_at = loadmat('data/raw/Ach-AT/00_0315_ach-at_2.mat')"
   ]
  },
  {
   "cell_type": "code",
   "execution_count": 6,
   "metadata": {},
   "outputs": [],
   "source": [
    "def make_windows(matfile, window_size = 6000):\n",
    "    # retrieve the relevant data from the dictionaries\n",
    "    df = pd.DataFrame(matfile['filt_data'].copy())\n",
    "    df = df.T\n",
    "    time = pd.DataFrame(matfile['filt_t'].copy())\n",
    "    time = time.T\n",
    "\n",
    "    # set up the time column\n",
    "    time.columns = ['t']\n",
    "    time['t'] = time['t'] - 60000 # make time start at 0\n",
    "    time['window_id'] = time['t'] / window_size # n second windows\n",
    "    time['window_id'] = time['window_id'].astype(int)\n",
    "\n",
    "    # join the electrode signals with time\n",
    "    df = pd.concat([time, df], axis=1)\n",
    "\n",
    "    return df"
   ]
  },
  {
   "cell_type": "code",
   "execution_count": 6,
   "metadata": {},
   "outputs": [
    {
     "data": {
      "text/plain": [
       "array([[ 0, 24, 26, 29, 32, 35, 37,  0],\n",
       "       [21, 22, 25, 30, 31, 36, 39, 40],\n",
       "       [19, 20, 23, 28, 33, 38, 41, 42],\n",
       "       [16, 17, 18, 27, 34, 43, 44, 45],\n",
       "       [15, 14, 13,  4, 57, 48, 47, 46],\n",
       "       [12, 11,  8,  3, 58, 53, 50, 49],\n",
       "       [10,  9,  6,  1, 60, 55, 52, 51],\n",
       "       [ 0,  7,  5,  2, 59, 56, 54,  0]], dtype=uint8)"
      ]
     },
     "execution_count": 6,
     "metadata": {},
     "output_type": "execute_result"
    }
   ],
   "source": [
    "matfile_baseline['config']"
   ]
  },
  {
   "cell_type": "code",
   "execution_count": 7,
   "metadata": {},
   "outputs": [],
   "source": [
    "df_base = make_windows(matfile_baseline)\n",
    "df_ach = make_windows(matfile_ach)\n",
    "df_at = make_windows(matfile_at)"
   ]
  },
  {
   "cell_type": "code",
   "execution_count": 10,
   "metadata": {},
   "outputs": [
    {
     "data": {
      "text/html": [
       "<div>\n",
       "<style scoped>\n",
       "    .dataframe tbody tr th:only-of-type {\n",
       "        vertical-align: middle;\n",
       "    }\n",
       "\n",
       "    .dataframe tbody tr th {\n",
       "        vertical-align: top;\n",
       "    }\n",
       "\n",
       "    .dataframe thead th {\n",
       "        text-align: right;\n",
       "    }\n",
       "</style>\n",
       "<table border=\"1\" class=\"dataframe\">\n",
       "  <thead>\n",
       "    <tr style=\"text-align: right;\">\n",
       "      <th></th>\n",
       "      <th>t</th>\n",
       "      <th>window_id</th>\n",
       "      <th>4</th>\n",
       "      <th>27</th>\n",
       "      <th>34</th>\n",
       "      <th>57</th>\n",
       "    </tr>\n",
       "  </thead>\n",
       "  <tbody>\n",
       "    <tr>\n",
       "      <th>0</th>\n",
       "      <td>1.000000</td>\n",
       "      <td>0</td>\n",
       "      <td>-124.371209</td>\n",
       "      <td>-53.851959</td>\n",
       "      <td>-74.495868</td>\n",
       "      <td>-137.695972</td>\n",
       "    </tr>\n",
       "    <tr>\n",
       "      <th>1</th>\n",
       "      <td>2.000000</td>\n",
       "      <td>0</td>\n",
       "      <td>-124.485424</td>\n",
       "      <td>-53.731875</td>\n",
       "      <td>-74.128554</td>\n",
       "      <td>-137.754658</td>\n",
       "    </tr>\n",
       "    <tr>\n",
       "      <th>2</th>\n",
       "      <td>3.000000</td>\n",
       "      <td>0</td>\n",
       "      <td>-124.598914</td>\n",
       "      <td>-53.611991</td>\n",
       "      <td>-73.763533</td>\n",
       "      <td>-137.812580</td>\n",
       "    </tr>\n",
       "    <tr>\n",
       "      <th>3</th>\n",
       "      <td>4.000000</td>\n",
       "      <td>0</td>\n",
       "      <td>-124.711680</td>\n",
       "      <td>-53.492304</td>\n",
       "      <td>-73.400813</td>\n",
       "      <td>-137.869738</td>\n",
       "    </tr>\n",
       "    <tr>\n",
       "      <th>4</th>\n",
       "      <td>5.000000</td>\n",
       "      <td>0</td>\n",
       "      <td>-124.823721</td>\n",
       "      <td>-53.372811</td>\n",
       "      <td>-73.040403</td>\n",
       "      <td>-137.926133</td>\n",
       "    </tr>\n",
       "    <tr>\n",
       "      <th>...</th>\n",
       "      <td>...</td>\n",
       "      <td>...</td>\n",
       "      <td>...</td>\n",
       "      <td>...</td>\n",
       "      <td>...</td>\n",
       "      <td>...</td>\n",
       "    </tr>\n",
       "    <tr>\n",
       "      <th>179995</th>\n",
       "      <td>179996.000001</td>\n",
       "      <td>29</td>\n",
       "      <td>-21.193228</td>\n",
       "      <td>-85.037623</td>\n",
       "      <td>-55.347268</td>\n",
       "      <td>-25.560794</td>\n",
       "    </tr>\n",
       "    <tr>\n",
       "      <th>179996</th>\n",
       "      <td>179997.000001</td>\n",
       "      <td>29</td>\n",
       "      <td>-21.352978</td>\n",
       "      <td>-85.083660</td>\n",
       "      <td>-55.397883</td>\n",
       "      <td>-25.730796</td>\n",
       "    </tr>\n",
       "    <tr>\n",
       "      <th>179997</th>\n",
       "      <td>179998.000001</td>\n",
       "      <td>29</td>\n",
       "      <td>-21.512294</td>\n",
       "      <td>-85.128809</td>\n",
       "      <td>-55.448605</td>\n",
       "      <td>-25.900408</td>\n",
       "    </tr>\n",
       "    <tr>\n",
       "      <th>179998</th>\n",
       "      <td>179999.000001</td>\n",
       "      <td>29</td>\n",
       "      <td>-21.671170</td>\n",
       "      <td>-85.173068</td>\n",
       "      <td>-55.499432</td>\n",
       "      <td>-26.069626</td>\n",
       "    </tr>\n",
       "    <tr>\n",
       "      <th>179999</th>\n",
       "      <td>180000.000001</td>\n",
       "      <td>30</td>\n",
       "      <td>-21.829605</td>\n",
       "      <td>-85.216436</td>\n",
       "      <td>-55.550360</td>\n",
       "      <td>-26.238446</td>\n",
       "    </tr>\n",
       "  </tbody>\n",
       "</table>\n",
       "<p>180000 rows × 6 columns</p>\n",
       "</div>"
      ],
      "text/plain": [
       "                    t  window_id           4         27         34          57\n",
       "0            1.000000          0 -124.371209 -53.851959 -74.495868 -137.695972\n",
       "1            2.000000          0 -124.485424 -53.731875 -74.128554 -137.754658\n",
       "2            3.000000          0 -124.598914 -53.611991 -73.763533 -137.812580\n",
       "3            4.000000          0 -124.711680 -53.492304 -73.400813 -137.869738\n",
       "4            5.000000          0 -124.823721 -53.372811 -73.040403 -137.926133\n",
       "...               ...        ...         ...        ...        ...         ...\n",
       "179995  179996.000001         29  -21.193228 -85.037623 -55.347268  -25.560794\n",
       "179996  179997.000001         29  -21.352978 -85.083660 -55.397883  -25.730796\n",
       "179997  179998.000001         29  -21.512294 -85.128809 -55.448605  -25.900408\n",
       "179998  179999.000001         29  -21.671170 -85.173068 -55.499432  -26.069626\n",
       "179999  180000.000001         30  -21.829605 -85.216436 -55.550360  -26.238446\n",
       "\n",
       "[180000 rows x 6 columns]"
      ]
     },
     "execution_count": 10,
     "metadata": {},
     "output_type": "execute_result"
    }
   ],
   "source": [
    "cols = ['t','window_id',4,27,34,57]\n",
    "df_base[cols]"
   ]
  },
  {
   "cell_type": "code",
   "execution_count": 8,
   "metadata": {},
   "outputs": [
    {
     "name": "stderr",
     "output_type": "stream",
     "text": [
      "/home/kartikey/anaconda3/envs/ts/lib/python3.8/site-packages/pandas/core/indexing.py:845: SettingWithCopyWarning: \n",
      "A value is trying to be set on a copy of a slice from a DataFrame.\n",
      "Try using .loc[row_indexer,col_indexer] = value instead\n",
      "\n",
      "See the caveats in the documentation: https://pandas.pydata.org/pandas-docs/stable/user_guide/indexing.html#returning-a-view-versus-a-copy\n",
      "  self.obj[key] = _infer_fill_value(value)\n",
      "/home/kartikey/anaconda3/envs/ts/lib/python3.8/site-packages/pandas/core/indexing.py:966: SettingWithCopyWarning: \n",
      "A value is trying to be set on a copy of a slice from a DataFrame.\n",
      "Try using .loc[row_indexer,col_indexer] = value instead\n",
      "\n",
      "See the caveats in the documentation: https://pandas.pydata.org/pandas-docs/stable/user_guide/indexing.html#returning-a-view-versus-a-copy\n",
      "  self.obj[item] = s\n"
     ]
    }
   ],
   "source": [
    "# train on four electrodes - choose 4,27,34 and 57 (the centre-most ones)\n",
    "df_base_4 = df_base[['t','window_id',4,27,34,57]]\n",
    "df_base_4.loc[:,'y'] = 0\n",
    "df_ach_4 = df_ach[['t','window_id',4,27,34,57]]\n",
    "df_ach_4.loc[:,'y'] = 1\n",
    "df_at_4 = df_at[['t','window_id',4,27,34,57]]\n",
    "df_at_4.loc[:,'y'] = 2\n",
    "# this could be done more efficiently, build into the function\n",
    "\n",
    "\n",
    "df_4 = pd.concat([df_base_4, df_ach_4, df_at_4], axis=0, ignore_index=True)\n",
    "y_4 = df_4[['window_id','y']]\n",
    "df_4 = df_4.drop(columns = ['y'])\n",
    "y_4.to_hdf('0_0315_4_electrodes_y.h5', key = 'y', complevel = 9)"
   ]
  },
  {
   "cell_type": "code",
   "execution_count": 13,
   "metadata": {},
   "outputs": [
    {
     "data": {
      "text/html": [
       "<div>\n",
       "<style scoped>\n",
       "    .dataframe tbody tr th:only-of-type {\n",
       "        vertical-align: middle;\n",
       "    }\n",
       "\n",
       "    .dataframe tbody tr th {\n",
       "        vertical-align: top;\n",
       "    }\n",
       "\n",
       "    .dataframe thead th {\n",
       "        text-align: right;\n",
       "    }\n",
       "</style>\n",
       "<table border=\"1\" class=\"dataframe\">\n",
       "  <thead>\n",
       "    <tr style=\"text-align: right;\">\n",
       "      <th></th>\n",
       "      <th>window_id</th>\n",
       "      <th>y</th>\n",
       "    </tr>\n",
       "    <tr>\n",
       "      <th>_temporary_index_column</th>\n",
       "      <th></th>\n",
       "      <th></th>\n",
       "    </tr>\n",
       "  </thead>\n",
       "  <tbody>\n",
       "    <tr>\n",
       "      <th>0</th>\n",
       "      <td>0</td>\n",
       "      <td>0</td>\n",
       "    </tr>\n",
       "    <tr>\n",
       "      <th>1</th>\n",
       "      <td>0</td>\n",
       "      <td>0</td>\n",
       "    </tr>\n",
       "    <tr>\n",
       "      <th>2</th>\n",
       "      <td>0</td>\n",
       "      <td>0</td>\n",
       "    </tr>\n",
       "    <tr>\n",
       "      <th>3</th>\n",
       "      <td>0</td>\n",
       "      <td>0</td>\n",
       "    </tr>\n",
       "    <tr>\n",
       "      <th>4</th>\n",
       "      <td>0</td>\n",
       "      <td>0</td>\n",
       "    </tr>\n",
       "    <tr>\n",
       "      <th>...</th>\n",
       "      <td>...</td>\n",
       "      <td>...</td>\n",
       "    </tr>\n",
       "    <tr>\n",
       "      <th>539995</th>\n",
       "      <td>149</td>\n",
       "      <td>2</td>\n",
       "    </tr>\n",
       "    <tr>\n",
       "      <th>539996</th>\n",
       "      <td>149</td>\n",
       "      <td>2</td>\n",
       "    </tr>\n",
       "    <tr>\n",
       "      <th>539997</th>\n",
       "      <td>149</td>\n",
       "      <td>2</td>\n",
       "    </tr>\n",
       "    <tr>\n",
       "      <th>539998</th>\n",
       "      <td>149</td>\n",
       "      <td>2</td>\n",
       "    </tr>\n",
       "    <tr>\n",
       "      <th>539999</th>\n",
       "      <td>149</td>\n",
       "      <td>2</td>\n",
       "    </tr>\n",
       "  </tbody>\n",
       "</table>\n",
       "<p>540000 rows × 2 columns</p>\n",
       "</div>"
      ],
      "text/plain": [
       "                         window_id  y\n",
       "_temporary_index_column              \n",
       "0                                0  0\n",
       "1                                0  0\n",
       "2                                0  0\n",
       "3                                0  0\n",
       "4                                0  0\n",
       "...                            ... ..\n",
       "539995                         149  2\n",
       "539996                         149  2\n",
       "539997                         149  2\n",
       "539998                         149  2\n",
       "539999                         149  2\n",
       "\n",
       "[540000 rows x 2 columns]"
      ]
     },
     "execution_count": 13,
     "metadata": {},
     "output_type": "execute_result"
    }
   ],
   "source": [
    "y_4"
   ]
  },
  {
   "cell_type": "code",
   "execution_count": 9,
   "metadata": {},
   "outputs": [
    {
     "name": "stderr",
     "output_type": "stream",
     "text": [
      "Feature Extraction: 100%|██████████| 10/10 [00:00<00:00, 39.56it/s]\n"
     ]
    }
   ],
   "source": [
    "# extract minimal features and see how long it takes\n",
    "X_minimal = extract_features(df_4, column_id='window_id', column_sort='t', default_fc_parameters=MinimalFCParameters())"
   ]
  },
  {
   "cell_type": "code",
   "execution_count": 17,
   "metadata": {},
   "outputs": [
    {
     "name": "stderr",
     "output_type": "stream",
     "text": [
      "Feature Extraction: 100%|██████████| 10/10 [11:36<00:00, 69.67s/it]\n"
     ]
    }
   ],
   "source": [
    "# extract more features\n",
    "X_eff = extract_features(df_4, column_id='window_id', column_sort='t', default_fc_parameters=EfficientFCParameters())"
   ]
  },
  {
   "cell_type": "code",
   "execution_count": 10,
   "metadata": {},
   "outputs": [],
   "source": [
    "X_minimal.to_hdf('0_0315_4_electrodes_min.h5', key = 'features', complevel = 9)"
   ]
  },
  {
   "cell_type": "code",
   "execution_count": 19,
   "metadata": {},
   "outputs": [],
   "source": [
    "X_eff.to_hdf('0_0315_4_electrodes_eff.h5',key = 'features', complevel = 9)"
   ]
  }
 ],
 "metadata": {
  "kernelspec": {
   "display_name": "Python 3.8.2 64-bit ('ts': conda)",
   "language": "python",
   "name": "python38264bittscondab4ffa1b40d204a5ab108bc7e8538d97f"
  },
  "language_info": {
   "codemirror_mode": {
    "name": "ipython",
    "version": 3
   },
   "file_extension": ".py",
   "mimetype": "text/x-python",
   "name": "python",
   "nbconvert_exporter": "python",
   "pygments_lexer": "ipython3",
   "version": "3.8.3"
  }
 },
 "nbformat": 4,
 "nbformat_minor": 4
}
