{
 "cells": [
  {
   "cell_type": "code",
   "execution_count": 7,
   "metadata": {},
   "outputs": [],
   "source": [
    "import pandas as pd\n",
    "import seaborn as sns\n",
    "import tsfresh"
   ]
  },
  {
   "cell_type": "code",
   "execution_count": 8,
   "metadata": {},
   "outputs": [],
   "source": [
    "# load hdf5 file\n",
    "data = pd.HDFStore('data/processed/ach_at.h5')"
   ]
  },
  {
   "cell_type": "code",
   "execution_count": 10,
   "metadata": {},
   "outputs": [
    {
     "output_type": "stream",
     "name": "stdout",
     "text": "<class 'pandas.io.pytables.HDFStore'>\nFile path: data/processed/ach_at.h5\n\n"
    }
   ],
   "source": [
    "print(data)\n",
    "\n",
    "baseline = data['06_0317_ach-at_0.mat']\n",
    "ach_applied = data['06_0317_ach-at_1.mat']\n",
    "at_applied = data['06_0317_ach-at_2.mat']\n",
    "\n",
    "df = baseline.append(ach_applied)\n",
    "df = df.append(at_applied)"
   ]
  },
  {
   "cell_type": "code",
   "execution_count": 11,
   "metadata": {},
   "outputs": [],
   "source": [
    "bs = baseline.sample(n=100, random_state = 8)\n",
    "ach_s = ach_applied.sample(n=100, random_state = 8)\n",
    "at_s = at_applied.sample(n=100, random_state = 8)\n",
    "\n",
    "frames = [bs, ach_s, at_s]\n",
    "df_sampled = pd.concat(frames)"
   ]
  },
  {
   "cell_type": "code",
   "execution_count": 12,
   "metadata": {},
   "outputs": [
    {
     "output_type": "execute_result",
     "data": {
      "text/plain": "             0           1           2           3           4           5  \\\n32  -52.413494  -52.390914  -52.368131  -52.345146  -52.321961  -52.298575   \n51   50.968227   51.003625   51.039131   51.074746   51.110469   51.146300   \n41 -139.916580 -139.823869 -139.730634 -139.636876 -139.542597 -139.447800   \n27    5.766634    5.773000    5.779362    5.785721    5.792077    5.798429   \n36    7.358894    7.353328    7.347570    7.341620    7.335480    7.329147   \n\n             6           7           8           9  ...       5994       5995  \\\n32  -52.274989  -52.251205  -52.227221  -52.203040  ... -25.989464 -26.006292   \n51   51.182238   51.218284   51.254437   51.290696  ... -21.477032 -21.457678   \n41 -139.352486 -139.256657 -139.160315 -139.063461  ... -54.478810 -54.527073   \n27    5.804778    5.811123    5.817465    5.823803  ...  -1.212087  -1.223820   \n36    7.322624    7.315909    7.309003    7.301906  ...   0.309410   0.263678   \n\n         5996       5997       5998       5999  electrode  window  y  subject  \n32 -26.022883 -26.039237 -26.055352 -26.071229         32      25  0  06_0317  \n51 -21.438312 -21.418934 -21.399543 -21.380138         51      20  0  06_0317  \n41 -54.575055 -54.622755 -54.670173 -54.717310         41      25  0  06_0317  \n27  -1.235547  -1.247269  -1.258986  -1.270697         27       3  0  06_0317  \n36   0.218184   0.172927   0.127909   0.083128         36      17  0  06_0317  \n\n[5 rows x 6004 columns]",
      "text/html": "<div>\n<style scoped>\n    .dataframe tbody tr th:only-of-type {\n        vertical-align: middle;\n    }\n\n    .dataframe tbody tr th {\n        vertical-align: top;\n    }\n\n    .dataframe thead th {\n        text-align: right;\n    }\n</style>\n<table border=\"1\" class=\"dataframe\">\n  <thead>\n    <tr style=\"text-align: right;\">\n      <th></th>\n      <th>0</th>\n      <th>1</th>\n      <th>2</th>\n      <th>3</th>\n      <th>4</th>\n      <th>5</th>\n      <th>6</th>\n      <th>7</th>\n      <th>8</th>\n      <th>9</th>\n      <th>...</th>\n      <th>5994</th>\n      <th>5995</th>\n      <th>5996</th>\n      <th>5997</th>\n      <th>5998</th>\n      <th>5999</th>\n      <th>electrode</th>\n      <th>window</th>\n      <th>y</th>\n      <th>subject</th>\n    </tr>\n  </thead>\n  <tbody>\n    <tr>\n      <th>32</th>\n      <td>-52.413494</td>\n      <td>-52.390914</td>\n      <td>-52.368131</td>\n      <td>-52.345146</td>\n      <td>-52.321961</td>\n      <td>-52.298575</td>\n      <td>-52.274989</td>\n      <td>-52.251205</td>\n      <td>-52.227221</td>\n      <td>-52.203040</td>\n      <td>...</td>\n      <td>-25.989464</td>\n      <td>-26.006292</td>\n      <td>-26.022883</td>\n      <td>-26.039237</td>\n      <td>-26.055352</td>\n      <td>-26.071229</td>\n      <td>32</td>\n      <td>25</td>\n      <td>0</td>\n      <td>06_0317</td>\n    </tr>\n    <tr>\n      <th>51</th>\n      <td>50.968227</td>\n      <td>51.003625</td>\n      <td>51.039131</td>\n      <td>51.074746</td>\n      <td>51.110469</td>\n      <td>51.146300</td>\n      <td>51.182238</td>\n      <td>51.218284</td>\n      <td>51.254437</td>\n      <td>51.290696</td>\n      <td>...</td>\n      <td>-21.477032</td>\n      <td>-21.457678</td>\n      <td>-21.438312</td>\n      <td>-21.418934</td>\n      <td>-21.399543</td>\n      <td>-21.380138</td>\n      <td>51</td>\n      <td>20</td>\n      <td>0</td>\n      <td>06_0317</td>\n    </tr>\n    <tr>\n      <th>41</th>\n      <td>-139.916580</td>\n      <td>-139.823869</td>\n      <td>-139.730634</td>\n      <td>-139.636876</td>\n      <td>-139.542597</td>\n      <td>-139.447800</td>\n      <td>-139.352486</td>\n      <td>-139.256657</td>\n      <td>-139.160315</td>\n      <td>-139.063461</td>\n      <td>...</td>\n      <td>-54.478810</td>\n      <td>-54.527073</td>\n      <td>-54.575055</td>\n      <td>-54.622755</td>\n      <td>-54.670173</td>\n      <td>-54.717310</td>\n      <td>41</td>\n      <td>25</td>\n      <td>0</td>\n      <td>06_0317</td>\n    </tr>\n    <tr>\n      <th>27</th>\n      <td>5.766634</td>\n      <td>5.773000</td>\n      <td>5.779362</td>\n      <td>5.785721</td>\n      <td>5.792077</td>\n      <td>5.798429</td>\n      <td>5.804778</td>\n      <td>5.811123</td>\n      <td>5.817465</td>\n      <td>5.823803</td>\n      <td>...</td>\n      <td>-1.212087</td>\n      <td>-1.223820</td>\n      <td>-1.235547</td>\n      <td>-1.247269</td>\n      <td>-1.258986</td>\n      <td>-1.270697</td>\n      <td>27</td>\n      <td>3</td>\n      <td>0</td>\n      <td>06_0317</td>\n    </tr>\n    <tr>\n      <th>36</th>\n      <td>7.358894</td>\n      <td>7.353328</td>\n      <td>7.347570</td>\n      <td>7.341620</td>\n      <td>7.335480</td>\n      <td>7.329147</td>\n      <td>7.322624</td>\n      <td>7.315909</td>\n      <td>7.309003</td>\n      <td>7.301906</td>\n      <td>...</td>\n      <td>0.309410</td>\n      <td>0.263678</td>\n      <td>0.218184</td>\n      <td>0.172927</td>\n      <td>0.127909</td>\n      <td>0.083128</td>\n      <td>36</td>\n      <td>17</td>\n      <td>0</td>\n      <td>06_0317</td>\n    </tr>\n  </tbody>\n</table>\n<p>5 rows × 6004 columns</p>\n</div>"
     },
     "metadata": {},
     "execution_count": 12
    }
   ],
   "source": [
    "df_sampled.head()"
   ]
  },
  {
   "cell_type": "code",
   "execution_count": null,
   "metadata": {},
   "outputs": [],
   "source": [
    "table = pd.read_hdf('data/processed/ach_at_table.h5')"
   ]
  },
  {
   "cell_type": "code",
   "execution_count": null,
   "metadata": {},
   "outputs": [],
   "source": [
    "extraction_settings = ComprehensiveFCParameters()\n",
    "X = extract_features(, \n",
    "                     column_id='id', column_sort='time',\n",
    "                     default_fc_parameters=extraction_settings,\n",
    "                     impute_function= impute)"
   ]
  }
 ],
 "metadata": {
  "language_info": {
   "codemirror_mode": {
    "name": "ipython",
    "version": 3
   },
   "file_extension": ".py",
   "mimetype": "text/x-python",
   "name": "python",
   "nbconvert_exporter": "python",
   "pygments_lexer": "ipython3",
   "version": "3.8.2-final"
  },
  "orig_nbformat": 2,
  "kernelspec": {
   "name": "python38264bittscondab4ffa1b40d204a5ab108bc7e8538d97f",
   "display_name": "Python 3.8.2 64-bit ('ts': conda)"
  }
 },
 "nbformat": 4,
 "nbformat_minor": 2
}