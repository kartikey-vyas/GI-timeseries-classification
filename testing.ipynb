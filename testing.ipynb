{
 "cells": [
  {
   "cell_type": "code",
   "execution_count": 1,
   "metadata": {},
   "outputs": [],
   "source": [
    "import pandas as pd\n",
    "import tsfresh"
   ]
  },
  {
   "cell_type": "code",
   "execution_count": 63,
   "metadata": {},
   "outputs": [],
   "source": [
    "X = pd.read_hdf('data/achat_filtered.h5')\n",
    "y = pd.read_hdf('data/achat_y.h5')\n",
    "y.reset_index(inplace=True, drop=True)\n",
    "X_filt = tsfresh.feature_selection.select_features(X,y, ml_task='classification')"
   ]
  },
  {
   "cell_type": "code",
   "execution_count": 60,
   "metadata": {},
   "outputs": [],
   "source": [
    "good_sigs = [42,3,56,47,7,2,57,52]\n",
    "good_features = []\n",
    "for col in good_sigs:\n",
    "    good_features += list(X_filt.columns[X_filt.columns.str.startswith(str(col))])"
   ]
  },
  {
   "cell_type": "code",
   "execution_count": 61,
   "metadata": {},
   "outputs": [],
   "source": [
    "X_good = X_filt[good_features]"
   ]
  },
  {
   "cell_type": "code",
   "execution_count": 55,
   "metadata": {},
   "outputs": [],
   "source": [
    "subject = 0\n",
    "for i in range(1,6):\n",
    "    X.loc[(i-1)*90:i*90, 'subject'] = subject\n",
    "    subject += 1"
   ]
  },
  {
   "cell_type": "code",
   "execution_count": 59,
   "metadata": {
    "tags": []
   },
   "outputs": [],
   "source": [
    "X_0 = pd.read_hdf('data/features/filtered/fixed/filt_achat_0_eff.h5')"
   ]
  },
  {
   "cell_type": "code",
   "execution_count": 47,
   "metadata": {
    "tags": []
   },
   "outputs": [
    {
     "output_type": "stream",
     "name": "stdout",
     "text": "\n RANDOM FOREST \n Mean 3-fold cross-validation score = 0.49782608695652175\n"
    }
   ],
   "source": [
    "from sklearn.metrics import classification_report\n",
    "from sklearn.metrics import confusion_matrix\n",
    "from sklearn.ensemble import RandomForestClassifier\n",
    "from sklearn.model_selection import cross_val_score\n",
    "\n",
    "import numpy as np\n",
    "rf = RandomForestClassifier(n_estimators = 200, max_depth=3, random_state=0)\n",
    "print('\\n RANDOM FOREST \\n Mean 5-fold cross-validation score = '+str(np.mean(cross_val_score(rf, X_filt,iloc[:,:10], y, cv=5))))"
   ]
  },
  {
   "cell_type": "code",
   "execution_count": 3,
   "metadata": {
    "tags": []
   },
   "outputs": [],
   "source": [
    "df = pd.read_hdf('data/processed/ach_hex_full_6000.h5')"
   ]
  },
  {
   "cell_type": "code",
   "execution_count": 6,
   "metadata": {},
   "outputs": [],
   "source": [
    "y = (df[['window_id','y']]\n",
    "     .drop_duplicates()\n",
    "     .set_index('window_id')\n",
    "     .T\n",
    "     .squeeze()\n",
    "     .sort_index(0))"
   ]
  },
  {
   "cell_type": "code",
   "execution_count": 7,
   "metadata": {},
   "outputs": [
    {
     "output_type": "execute_result",
     "data": {
      "text/plain": "              t  window_id          0          1          2          3  \\\n0             1          0  43.509348  58.233020  50.610632  62.667322   \n1             2          0  43.555523  58.269129  50.638880  62.702938   \n2             3          0  43.600802  58.292902  50.672904  62.739011   \n3             4          0  43.641295  58.314131  50.702853  62.766444   \n4             5          0  43.675462  58.341912  50.721158  62.791282   \n...         ...        ...        ...        ...        ...        ...   \n179995  5399996        899  -3.658905  -4.346508  -1.331769  -2.762749   \n179996  5399997        899  -3.652134  -4.341225  -1.335025  -2.757062   \n179997  5399998        899  -3.645355  -4.335929  -1.338284  -2.751370   \n179998  5399999        899  -3.638566  -4.330621  -1.341546  -2.745674   \n179999  5400000        900  -3.631769  -4.325301  -1.344811  -2.739973   \n\n                4          5          6           7  ...         52  \\\n0       50.873629  50.815116  81.676018 -121.042770  ...  58.667552   \n1       50.905651  50.845804  81.692597 -120.630300  ...  58.728286   \n2       50.928978  50.896801  81.704172 -120.160401  ...  58.773299   \n3       50.957130  50.891990  81.708442 -119.792523  ...  58.813912   \n4       50.981854  50.917729  81.715259 -119.405027  ...  58.854002   \n...           ...        ...        ...         ...  ...        ...   \n179995  -2.302423  10.158801  -2.483325  -29.747597  ...  -4.231518   \n179996  -2.296890  10.164411  -2.480090  -29.759384  ...  -4.228152   \n179997  -2.291353  10.169998  -2.476847  -29.771261  ...  -4.224779   \n179998  -2.285813  10.175562  -2.473599  -29.783230  ...  -4.221398   \n179999  -2.280269  10.181104  -2.470344  -29.795288  ...  -4.218009   \n\n               53          54          55         56         57         58  \\\n0       62.462933 -575.003134   85.509663  42.158285  43.704547  38.557851   \n1       62.527607 -575.419287   85.517361  42.216980  43.766701  38.612804   \n2       62.587304 -575.791881   85.592597  42.278315  43.834693  38.662230   \n3       62.629086 -576.298456   85.485059  42.333158  43.887259  38.704588   \n4       62.682478 -576.750051   85.445667  42.376967  43.930466  38.754311   \n...           ...         ...         ...        ...        ...        ...   \n179995  -4.574937   -4.408384  231.147870  -4.679772  -4.222581  -5.545412   \n179996  -4.570826   -4.403699  230.810232  -4.674589  -4.217453  -5.539538   \n179997  -4.566707   -4.399005  230.472133  -4.669395  -4.212316  -5.533652   \n179998  -4.562580   -4.394302  230.133574  -4.664193  -4.207169  -5.527753   \n179999  -4.558446   -4.389591  229.794556  -4.658980  -4.202014  -5.521842   \n\n               59            subject    y  \n0       45.096671  01_0126_ach-hex_0  0.0  \n1       45.156154  01_0126_ach-hex_0  0.0  \n2       45.207774  01_0126_ach-hex_0  0.0  \n3       45.241653  01_0126_ach-hex_0  0.0  \n4       45.279072  01_0126_ach-hex_0  0.0  \n...           ...                ...  ...  \n179995   0.438134  08_0201_ach-hex_2  3.0  \n179996   0.439285  08_0201_ach-hex_2  3.0  \n179997   0.440442  08_0201_ach-hex_2  3.0  \n179998   0.441607  08_0201_ach-hex_2  3.0  \n179999   0.442779  08_0201_ach-hex_2  3.0  \n\n[3240000 rows x 64 columns]",
      "text/html": "<div>\n<style scoped>\n    .dataframe tbody tr th:only-of-type {\n        vertical-align: middle;\n    }\n\n    .dataframe tbody tr th {\n        vertical-align: top;\n    }\n\n    .dataframe thead th {\n        text-align: right;\n    }\n</style>\n<table border=\"1\" class=\"dataframe\">\n  <thead>\n    <tr style=\"text-align: right;\">\n      <th></th>\n      <th>t</th>\n      <th>window_id</th>\n      <th>0</th>\n      <th>1</th>\n      <th>2</th>\n      <th>3</th>\n      <th>4</th>\n      <th>5</th>\n      <th>6</th>\n      <th>7</th>\n      <th>...</th>\n      <th>52</th>\n      <th>53</th>\n      <th>54</th>\n      <th>55</th>\n      <th>56</th>\n      <th>57</th>\n      <th>58</th>\n      <th>59</th>\n      <th>subject</th>\n      <th>y</th>\n    </tr>\n  </thead>\n  <tbody>\n    <tr>\n      <th>0</th>\n      <td>1</td>\n      <td>0</td>\n      <td>43.509348</td>\n      <td>58.233020</td>\n      <td>50.610632</td>\n      <td>62.667322</td>\n      <td>50.873629</td>\n      <td>50.815116</td>\n      <td>81.676018</td>\n      <td>-121.042770</td>\n      <td>...</td>\n      <td>58.667552</td>\n      <td>62.462933</td>\n      <td>-575.003134</td>\n      <td>85.509663</td>\n      <td>42.158285</td>\n      <td>43.704547</td>\n      <td>38.557851</td>\n      <td>45.096671</td>\n      <td>01_0126_ach-hex_0</td>\n      <td>0.0</td>\n    </tr>\n    <tr>\n      <th>1</th>\n      <td>2</td>\n      <td>0</td>\n      <td>43.555523</td>\n      <td>58.269129</td>\n      <td>50.638880</td>\n      <td>62.702938</td>\n      <td>50.905651</td>\n      <td>50.845804</td>\n      <td>81.692597</td>\n      <td>-120.630300</td>\n      <td>...</td>\n      <td>58.728286</td>\n      <td>62.527607</td>\n      <td>-575.419287</td>\n      <td>85.517361</td>\n      <td>42.216980</td>\n      <td>43.766701</td>\n      <td>38.612804</td>\n      <td>45.156154</td>\n      <td>01_0126_ach-hex_0</td>\n      <td>0.0</td>\n    </tr>\n    <tr>\n      <th>2</th>\n      <td>3</td>\n      <td>0</td>\n      <td>43.600802</td>\n      <td>58.292902</td>\n      <td>50.672904</td>\n      <td>62.739011</td>\n      <td>50.928978</td>\n      <td>50.896801</td>\n      <td>81.704172</td>\n      <td>-120.160401</td>\n      <td>...</td>\n      <td>58.773299</td>\n      <td>62.587304</td>\n      <td>-575.791881</td>\n      <td>85.592597</td>\n      <td>42.278315</td>\n      <td>43.834693</td>\n      <td>38.662230</td>\n      <td>45.207774</td>\n      <td>01_0126_ach-hex_0</td>\n      <td>0.0</td>\n    </tr>\n    <tr>\n      <th>3</th>\n      <td>4</td>\n      <td>0</td>\n      <td>43.641295</td>\n      <td>58.314131</td>\n      <td>50.702853</td>\n      <td>62.766444</td>\n      <td>50.957130</td>\n      <td>50.891990</td>\n      <td>81.708442</td>\n      <td>-119.792523</td>\n      <td>...</td>\n      <td>58.813912</td>\n      <td>62.629086</td>\n      <td>-576.298456</td>\n      <td>85.485059</td>\n      <td>42.333158</td>\n      <td>43.887259</td>\n      <td>38.704588</td>\n      <td>45.241653</td>\n      <td>01_0126_ach-hex_0</td>\n      <td>0.0</td>\n    </tr>\n    <tr>\n      <th>4</th>\n      <td>5</td>\n      <td>0</td>\n      <td>43.675462</td>\n      <td>58.341912</td>\n      <td>50.721158</td>\n      <td>62.791282</td>\n      <td>50.981854</td>\n      <td>50.917729</td>\n      <td>81.715259</td>\n      <td>-119.405027</td>\n      <td>...</td>\n      <td>58.854002</td>\n      <td>62.682478</td>\n      <td>-576.750051</td>\n      <td>85.445667</td>\n      <td>42.376967</td>\n      <td>43.930466</td>\n      <td>38.754311</td>\n      <td>45.279072</td>\n      <td>01_0126_ach-hex_0</td>\n      <td>0.0</td>\n    </tr>\n    <tr>\n      <th>...</th>\n      <td>...</td>\n      <td>...</td>\n      <td>...</td>\n      <td>...</td>\n      <td>...</td>\n      <td>...</td>\n      <td>...</td>\n      <td>...</td>\n      <td>...</td>\n      <td>...</td>\n      <td>...</td>\n      <td>...</td>\n      <td>...</td>\n      <td>...</td>\n      <td>...</td>\n      <td>...</td>\n      <td>...</td>\n      <td>...</td>\n      <td>...</td>\n      <td>...</td>\n      <td>...</td>\n    </tr>\n    <tr>\n      <th>179995</th>\n      <td>5399996</td>\n      <td>899</td>\n      <td>-3.658905</td>\n      <td>-4.346508</td>\n      <td>-1.331769</td>\n      <td>-2.762749</td>\n      <td>-2.302423</td>\n      <td>10.158801</td>\n      <td>-2.483325</td>\n      <td>-29.747597</td>\n      <td>...</td>\n      <td>-4.231518</td>\n      <td>-4.574937</td>\n      <td>-4.408384</td>\n      <td>231.147870</td>\n      <td>-4.679772</td>\n      <td>-4.222581</td>\n      <td>-5.545412</td>\n      <td>0.438134</td>\n      <td>08_0201_ach-hex_2</td>\n      <td>3.0</td>\n    </tr>\n    <tr>\n      <th>179996</th>\n      <td>5399997</td>\n      <td>899</td>\n      <td>-3.652134</td>\n      <td>-4.341225</td>\n      <td>-1.335025</td>\n      <td>-2.757062</td>\n      <td>-2.296890</td>\n      <td>10.164411</td>\n      <td>-2.480090</td>\n      <td>-29.759384</td>\n      <td>...</td>\n      <td>-4.228152</td>\n      <td>-4.570826</td>\n      <td>-4.403699</td>\n      <td>230.810232</td>\n      <td>-4.674589</td>\n      <td>-4.217453</td>\n      <td>-5.539538</td>\n      <td>0.439285</td>\n      <td>08_0201_ach-hex_2</td>\n      <td>3.0</td>\n    </tr>\n    <tr>\n      <th>179997</th>\n      <td>5399998</td>\n      <td>899</td>\n      <td>-3.645355</td>\n      <td>-4.335929</td>\n      <td>-1.338284</td>\n      <td>-2.751370</td>\n      <td>-2.291353</td>\n      <td>10.169998</td>\n      <td>-2.476847</td>\n      <td>-29.771261</td>\n      <td>...</td>\n      <td>-4.224779</td>\n      <td>-4.566707</td>\n      <td>-4.399005</td>\n      <td>230.472133</td>\n      <td>-4.669395</td>\n      <td>-4.212316</td>\n      <td>-5.533652</td>\n      <td>0.440442</td>\n      <td>08_0201_ach-hex_2</td>\n      <td>3.0</td>\n    </tr>\n    <tr>\n      <th>179998</th>\n      <td>5399999</td>\n      <td>899</td>\n      <td>-3.638566</td>\n      <td>-4.330621</td>\n      <td>-1.341546</td>\n      <td>-2.745674</td>\n      <td>-2.285813</td>\n      <td>10.175562</td>\n      <td>-2.473599</td>\n      <td>-29.783230</td>\n      <td>...</td>\n      <td>-4.221398</td>\n      <td>-4.562580</td>\n      <td>-4.394302</td>\n      <td>230.133574</td>\n      <td>-4.664193</td>\n      <td>-4.207169</td>\n      <td>-5.527753</td>\n      <td>0.441607</td>\n      <td>08_0201_ach-hex_2</td>\n      <td>3.0</td>\n    </tr>\n    <tr>\n      <th>179999</th>\n      <td>5400000</td>\n      <td>900</td>\n      <td>-3.631769</td>\n      <td>-4.325301</td>\n      <td>-1.344811</td>\n      <td>-2.739973</td>\n      <td>-2.280269</td>\n      <td>10.181104</td>\n      <td>-2.470344</td>\n      <td>-29.795288</td>\n      <td>...</td>\n      <td>-4.218009</td>\n      <td>-4.558446</td>\n      <td>-4.389591</td>\n      <td>229.794556</td>\n      <td>-4.658980</td>\n      <td>-4.202014</td>\n      <td>-5.521842</td>\n      <td>0.442779</td>\n      <td>08_0201_ach-hex_2</td>\n      <td>3.0</td>\n    </tr>\n  </tbody>\n</table>\n<p>3240000 rows × 64 columns</p>\n</div>"
     },
     "metadata": {},
     "execution_count": 7
    }
   ],
   "source": [
    "df"
   ]
  },
  {
   "cell_type": "code",
   "execution_count": 8,
   "metadata": {},
   "outputs": [],
   "source": [
    "y = (df[['window_id','y']]\n",
    "     .drop_duplicates()\n",
    "     .set_index('window_id')\n",
    "     .T\n",
    "     .squeeze()\n",
    "     .sort_index(0))\n",
    "\n",
    "subject = (df[['window_id','subject']]\n",
    "     .drop_duplicates()\n",
    "     .set_index('window_id')\n",
    "     .T\n",
    "     .squeeze()\n",
    "     .sort_index(0))"
   ]
  },
  {
   "cell_type": "code",
   "execution_count": 31,
   "metadata": {},
   "outputs": [],
   "source": [
    "X_0 = pd.read_hdf('data/features/ach_hex_0_eff.h5')\n"
   ]
  },
  {
   "cell_type": "code",
   "execution_count": 18,
   "metadata": {},
   "outputs": [],
   "source": [
    "X_0.head()\n",
    "X_0 = X_0.reset_index(0, drop=True)\n",
    "X_0.index = X_0.index+451"
   ]
  },
  {
   "cell_type": "code",
   "execution_count": 20,
   "metadata": {},
   "outputs": [
    {
     "output_type": "execute_result",
     "data": {
      "text/plain": "variable  0__abs_energy  0__absolute_sum_of_changes  \\\n986        5.258907e+05                   97.574972   \n987        1.083081e+06                  123.823633   \n988        1.262531e+06                  142.530608   \n989        1.002726e+06                  109.129906   \n990        7.893194e+05                   65.730270   \n\nvariable  0__agg_autocorrelation__f_agg_\"mean\"__maxlag_40  \\\n986                                              0.997217   \n987                                              0.998610   \n988                                              0.999733   \n989                                              0.997051   \n990                                              0.995420   \n\nvariable  0__agg_autocorrelation__f_agg_\"median\"__maxlag_40  \\\n986                                                0.997485   \n987                                                0.998853   \n988                                                0.999970   \n989                                                0.997185   \n990                                                0.995628   \n\nvariable  0__agg_autocorrelation__f_agg_\"var\"__maxlag_40  \\\n986                                         3.642917e-06   \n987                                         1.209730e-06   \n988                                         2.377446e-07   \n989                                         3.344559e-06   \n990                                         8.055819e-06   \n\nvariable  0__agg_linear_trend__f_agg_\"max\"__chunk_len_10__attr_\"intercept\"  \\\n986                                                6.325417                  \n987                                               -1.328643                  \n988                                                6.245282                  \n989                                              -15.272295                  \n990                                                7.212620                  \n\nvariable  0__agg_linear_trend__f_agg_\"max\"__chunk_len_10__attr_\"rvalue\"  \\\n986                                               -0.315430               \n987                                                0.020367               \n988                                               -0.145212               \n989                                                0.611951               \n990                                               -0.478380               \n\nvariable  0__agg_linear_trend__f_agg_\"max\"__chunk_len_10__attr_\"slope\"  \\\n986                                               -0.016870              \n987                                                0.001577              \n988                                               -0.011985              \n989                                                0.045284              \n990                                               -0.031176              \n\nvariable  0__agg_linear_trend__f_agg_\"max\"__chunk_len_10__attr_\"stderr\"  \\\n986                                                0.002075               \n987                                                0.003166               \n988                                                0.003339               \n989                                                0.002393               \n990                                                0.002340               \n\nvariable  0__agg_linear_trend__f_agg_\"max\"__chunk_len_50__attr_\"intercept\"  \\\n986                                                6.538591                  \n987                                               -0.690559                  \n988                                                6.717885                  \n989                                              -14.902427                  \n990                                                7.613339                  \n\nvariable  ...  0__symmetry_looking__r_0.9  \\\n986       ...                         1.0   \n987       ...                         1.0   \n988       ...                         1.0   \n989       ...                         1.0   \n990       ...                         1.0   \n\nvariable  0__symmetry_looking__r_0.9500000000000001  \\\n986                                             1.0   \n987                                             1.0   \n988                                             1.0   \n989                                             1.0   \n990                                             1.0   \n\nvariable  0__time_reversal_asymmetry_statistic__lag_1  \\\n986                                         -0.650822   \n987                                          1.273144   \n988                                         -1.153081   \n989                                          2.132371   \n990                                         -2.014433   \n\nvariable  0__time_reversal_asymmetry_statistic__lag_2  \\\n986                                         -1.298032   \n987                                          2.550701   \n988                                         -2.303857   \n989                                          4.251731   \n990                                         -4.047278   \n\nvariable  0__time_reversal_asymmetry_statistic__lag_3  \\\n986                                         -1.941611   \n987                                          3.832629   \n988                                         -3.452312   \n989                                          6.358097   \n990                                         -6.098544   \n\nvariable  0__value_count__value_-1  0__value_count__value_0  \\\n986                            0.0                      0.0   \n987                            0.0                      0.0   \n988                            0.0                      0.0   \n989                            0.0                      0.0   \n990                            0.0                      0.0   \n\nvariable  0__value_count__value_1  0__variance  \\\n986                           0.0    86.209444   \n987                           0.0   179.612476   \n988                           0.0   203.924316   \n989                           0.0   163.910611   \n990                           0.0   126.827724   \n\nvariable  0__variance_larger_than_standard_deviation  \n986                                              1.0  \n987                                              1.0  \n988                                              1.0  \n989                                              1.0  \n990                                              1.0  \n\n[5 rows x 750 columns]",
      "text/html": "<div>\n<style scoped>\n    .dataframe tbody tr th:only-of-type {\n        vertical-align: middle;\n    }\n\n    .dataframe tbody tr th {\n        vertical-align: top;\n    }\n\n    .dataframe thead th {\n        text-align: right;\n    }\n</style>\n<table border=\"1\" class=\"dataframe\">\n  <thead>\n    <tr style=\"text-align: right;\">\n      <th>variable</th>\n      <th>0__abs_energy</th>\n      <th>0__absolute_sum_of_changes</th>\n      <th>0__agg_autocorrelation__f_agg_\"mean\"__maxlag_40</th>\n      <th>0__agg_autocorrelation__f_agg_\"median\"__maxlag_40</th>\n      <th>0__agg_autocorrelation__f_agg_\"var\"__maxlag_40</th>\n      <th>0__agg_linear_trend__f_agg_\"max\"__chunk_len_10__attr_\"intercept\"</th>\n      <th>0__agg_linear_trend__f_agg_\"max\"__chunk_len_10__attr_\"rvalue\"</th>\n      <th>0__agg_linear_trend__f_agg_\"max\"__chunk_len_10__attr_\"slope\"</th>\n      <th>0__agg_linear_trend__f_agg_\"max\"__chunk_len_10__attr_\"stderr\"</th>\n      <th>0__agg_linear_trend__f_agg_\"max\"__chunk_len_50__attr_\"intercept\"</th>\n      <th>...</th>\n      <th>0__symmetry_looking__r_0.9</th>\n      <th>0__symmetry_looking__r_0.9500000000000001</th>\n      <th>0__time_reversal_asymmetry_statistic__lag_1</th>\n      <th>0__time_reversal_asymmetry_statistic__lag_2</th>\n      <th>0__time_reversal_asymmetry_statistic__lag_3</th>\n      <th>0__value_count__value_-1</th>\n      <th>0__value_count__value_0</th>\n      <th>0__value_count__value_1</th>\n      <th>0__variance</th>\n      <th>0__variance_larger_than_standard_deviation</th>\n    </tr>\n  </thead>\n  <tbody>\n    <tr>\n      <th>986</th>\n      <td>5.258907e+05</td>\n      <td>97.574972</td>\n      <td>0.997217</td>\n      <td>0.997485</td>\n      <td>3.642917e-06</td>\n      <td>6.325417</td>\n      <td>-0.315430</td>\n      <td>-0.016870</td>\n      <td>0.002075</td>\n      <td>6.538591</td>\n      <td>...</td>\n      <td>1.0</td>\n      <td>1.0</td>\n      <td>-0.650822</td>\n      <td>-1.298032</td>\n      <td>-1.941611</td>\n      <td>0.0</td>\n      <td>0.0</td>\n      <td>0.0</td>\n      <td>86.209444</td>\n      <td>1.0</td>\n    </tr>\n    <tr>\n      <th>987</th>\n      <td>1.083081e+06</td>\n      <td>123.823633</td>\n      <td>0.998610</td>\n      <td>0.998853</td>\n      <td>1.209730e-06</td>\n      <td>-1.328643</td>\n      <td>0.020367</td>\n      <td>0.001577</td>\n      <td>0.003166</td>\n      <td>-0.690559</td>\n      <td>...</td>\n      <td>1.0</td>\n      <td>1.0</td>\n      <td>1.273144</td>\n      <td>2.550701</td>\n      <td>3.832629</td>\n      <td>0.0</td>\n      <td>0.0</td>\n      <td>0.0</td>\n      <td>179.612476</td>\n      <td>1.0</td>\n    </tr>\n    <tr>\n      <th>988</th>\n      <td>1.262531e+06</td>\n      <td>142.530608</td>\n      <td>0.999733</td>\n      <td>0.999970</td>\n      <td>2.377446e-07</td>\n      <td>6.245282</td>\n      <td>-0.145212</td>\n      <td>-0.011985</td>\n      <td>0.003339</td>\n      <td>6.717885</td>\n      <td>...</td>\n      <td>1.0</td>\n      <td>1.0</td>\n      <td>-1.153081</td>\n      <td>-2.303857</td>\n      <td>-3.452312</td>\n      <td>0.0</td>\n      <td>0.0</td>\n      <td>0.0</td>\n      <td>203.924316</td>\n      <td>1.0</td>\n    </tr>\n    <tr>\n      <th>989</th>\n      <td>1.002726e+06</td>\n      <td>109.129906</td>\n      <td>0.997051</td>\n      <td>0.997185</td>\n      <td>3.344559e-06</td>\n      <td>-15.272295</td>\n      <td>0.611951</td>\n      <td>0.045284</td>\n      <td>0.002393</td>\n      <td>-14.902427</td>\n      <td>...</td>\n      <td>1.0</td>\n      <td>1.0</td>\n      <td>2.132371</td>\n      <td>4.251731</td>\n      <td>6.358097</td>\n      <td>0.0</td>\n      <td>0.0</td>\n      <td>0.0</td>\n      <td>163.910611</td>\n      <td>1.0</td>\n    </tr>\n    <tr>\n      <th>990</th>\n      <td>7.893194e+05</td>\n      <td>65.730270</td>\n      <td>0.995420</td>\n      <td>0.995628</td>\n      <td>8.055819e-06</td>\n      <td>7.212620</td>\n      <td>-0.478380</td>\n      <td>-0.031176</td>\n      <td>0.002340</td>\n      <td>7.613339</td>\n      <td>...</td>\n      <td>1.0</td>\n      <td>1.0</td>\n      <td>-2.014433</td>\n      <td>-4.047278</td>\n      <td>-6.098544</td>\n      <td>0.0</td>\n      <td>0.0</td>\n      <td>0.0</td>\n      <td>126.827724</td>\n      <td>1.0</td>\n    </tr>\n  </tbody>\n</table>\n<p>5 rows × 750 columns</p>\n</div>"
     },
     "metadata": {},
     "execution_count": 20
    }
   ],
   "source": [
    "X_0.tail()"
   ]
  },
  {
   "cell_type": "code",
   "execution_count": 40,
   "metadata": {},
   "outputs": [],
   "source": [
    "import numpy as np\n",
    "idx_to_remove = np.setdiff1d(y.index,X_0.index)\n",
    "y = y.drop(idx_to_remove)"
   ]
  },
  {
   "cell_type": "code",
   "execution_count": 38,
   "metadata": {},
   "outputs": [],
   "source": [
    "X_0 = X_0.reset_index(0, drop=True)\n",
    "X_0.index = X_0.index+451\n",
    "y.index = y.index+451\n"
   ]
  },
  {
   "cell_type": "code",
   "execution_count": 45,
   "metadata": {},
   "outputs": [],
   "source": [
    "combined=pd.read_hdf('data/features/ach_at__0_eff.h5')"
   ]
  },
  {
   "cell_type": "code",
   "execution_count": 48,
   "metadata": {},
   "outputs": [
    {
     "output_type": "execute_result",
     "data": {
      "text/plain": "450"
     },
     "metadata": {},
     "execution_count": 48
    }
   ],
   "source": []
  }
 ],
 "metadata": {
  "kernelspec": {
   "display_name": "Python 3.8.3 64-bit ('ts': conda)",
   "language": "python",
   "name": "python38364bittscondaf81521992d8a4ac1866bc3d1177ada83"
  },
  "language_info": {
   "codemirror_mode": {
    "name": "ipython",
    "version": 3
   },
   "file_extension": ".py",
   "mimetype": "text/x-python",
   "name": "python",
   "nbconvert_exporter": "python",
   "pygments_lexer": "ipython3",
   "version": "3.8.3-final"
  }
 },
 "nbformat": 4,
 "nbformat_minor": 2
}