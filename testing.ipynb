{
 "cells": [
  {
   "cell_type": "code",
   "execution_count": null,
   "metadata": {},
   "outputs": [],
   "source": [
    "import pandas as pd\n",
    "import tsfresh"
   ]
  },
  {
   "cell_type": "code",
   "execution_count": 63,
   "metadata": {},
   "outputs": [],
   "source": [
    "X = pd.read_hdf('data/achat_filtered.h5')\n",
    "y = pd.read_hdf('data/achat_y.h5')\n",
    "y.reset_index(inplace=True, drop=True)\n",
    "X_filt = tsfresh.feature_selection.select_features(X,y, ml_task='classification')"
   ]
  },
  {
   "cell_type": "code",
   "execution_count": 60,
   "metadata": {},
   "outputs": [],
   "source": [
    "good_sigs = [42,3,56,47,7,2,57,52]\n",
    "good_features = []\n",
    "for col in good_sigs:\n",
    "    good_features += list(X_filt.columns[X_filt.columns.str.startswith(str(col))])"
   ]
  },
  {
   "cell_type": "code",
   "execution_count": 61,
   "metadata": {},
   "outputs": [],
   "source": [
    "X_good = X_filt[good_features]"
   ]
  },
  {
   "cell_type": "code",
   "execution_count": 55,
   "metadata": {},
   "outputs": [],
   "source": [
    "subject = 0\n",
    "for i in range(1,6):\n",
    "    X.loc[(i-1)*90:i*90, 'subject'] = subject\n",
    "    subject += 1"
   ]
  },
  {
   "cell_type": "code",
   "execution_count": 59,
   "metadata": {
    "tags": []
   },
   "outputs": [],
   "source": [
    "X_0 = pd.read_hdf('data/features/filtered/fixed/filt_achat_0_eff.h5')"
   ]
  },
  {
   "cell_type": "code",
   "execution_count": 47,
   "metadata": {
    "tags": []
   },
   "outputs": [
    {
     "output_type": "stream",
     "name": "stdout",
     "text": "\n RANDOM FOREST \n Mean 3-fold cross-validation score = 0.49782608695652175\n"
    }
   ],
   "source": [
    "from sklearn.metrics import classification_report\n",
    "from sklearn.metrics import confusion_matrix\n",
    "from sklearn.ensemble import RandomForestClassifier\n",
    "from sklearn.model_selection import cross_val_score\n",
    "\n",
    "import numpy as np\n",
    "rf = RandomForestClassifier(n_estimators = 200, max_depth=3, random_state=0)\n",
    "print('\\n RANDOM FOREST \\n Mean 5-fold cross-validation score = '+str(np.mean(cross_val_score(rf, X_filt,iloc[:,:10], y, cv=5))))"
   ]
  },
  {
   "cell_type": "code",
   "execution_count": null,
   "metadata": {
    "tags": []
   },
   "outputs": [],
   "source": [
    "import seaborn as sns\n",
    "\n",
    "ax = sns.violinplot()"
   ]
  }
 ],
 "metadata": {
  "kernelspec": {
   "display_name": "Python 3.8.3 64-bit ('ts': conda)",
   "language": "python",
   "name": "python38364bittscondaf81521992d8a4ac1866bc3d1177ada83"
  },
  "language_info": {
   "codemirror_mode": {
    "name": "ipython",
    "version": 3
   },
   "file_extension": ".py",
   "mimetype": "text/x-python",
   "name": "python",
   "nbconvert_exporter": "python",
   "pygments_lexer": "ipython3",
   "version": "3.8.3-final"
  }
 },
 "nbformat": 4,
 "nbformat_minor": 2
}