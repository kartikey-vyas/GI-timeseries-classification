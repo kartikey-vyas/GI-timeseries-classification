{
 "cells": [
  {
   "cell_type": "code",
   "execution_count": 2,
   "metadata": {},
   "outputs": [],
   "source": [
    "import pandas as pd\n",
    "import tsfresh"
   ]
  },
  {
   "cell_type": "code",
   "execution_count": 3,
   "metadata": {},
   "outputs": [],
   "source": [
    "X = pd.read_hdf('data/achat_filtered.h5')\n",
    "y = pd.read_hdf('data/features/achat_y.h5')\n",
    "y.reset_index(inplace=True, drop=True)\n",
    "X_filt = tsfresh.feature_selection.select_features(X,y, ml_task='classification')"
   ]
  },
  {
   "cell_type": "code",
   "execution_count": 4,
   "metadata": {},
   "outputs": [
    {
     "output_type": "execute_result",
     "data": {
      "text/plain": "   52_59_diff__mean_abs_change  52_59_diff__spkt_welch_density__coeff_8  \\\n0                     0.025126                                 0.001809   \n1                     0.019504                                 0.001255   \n2                     0.015690                                 0.000799   \n3                     0.020648                                 0.001571   \n4                     0.021533                                 0.001482   \n\n   52_59_diff__spkt_welch_density__coeff_5  \\\n0                                 0.032187   \n1                                 0.022394   \n2                                 0.014318   \n3                                 0.028030   \n4                                 0.026359   \n\n   52_59_diff__spkt_welch_density__coeff_2  \\\n0                                14.576299   \n1                                10.552914   \n2                                 7.114442   \n3                                13.247843   \n4                                11.933827   \n\n   52_59_diff__absolute_sum_of_changes  \\\n0                           150.729238   \n1                           117.003731   \n2                            94.109550   \n3                           123.865676   \n4                           129.175744   \n\n   52_59_diff__change_quantiles__f_agg_\"mean\"__isabs_True__qh_1.0__ql_0.0  \\\n0                                           0.025126                        \n1                                           0.019504                        \n2                                           0.015690                        \n3                                           0.020648                        \n4                                           0.021533                        \n\n   52_59_diff__change_quantiles__f_agg_\"mean\"__isabs_True__qh_0.6__ql_0.0  \\\n0                                           0.019744                        \n1                                           0.021032                        \n2                                           0.020268                        \n3                                           0.025857                        \n4                                           0.021331                        \n\n   52_59_diff__change_quantiles__f_agg_\"var\"__isabs_False__qh_0.6__ql_0.0  \\\n0                                           0.000597                        \n1                                           0.000743                        \n2                                           0.000577                        \n3                                           0.001024                        \n4                                           0.000641                        \n\n   52_59_diff__change_quantiles__f_agg_\"mean\"__isabs_True__qh_0.8__ql_0.0  \\\n0                                           0.023542                        \n1                                           0.021800                        \n2                                           0.016242                        \n3                                           0.022348                        \n4                                           0.023611                        \n\n   52_59_diff__change_quantiles__f_agg_\"var\"__isabs_False__qh_0.4__ql_0.0  \\\n0                                           0.000749                        \n1                                           0.000432                        \n2                                           0.000689                        \n3                                           0.001359                        \n4                                           0.000724                        \n\n   ...  40_38_diff__c3__lag_3  58_59_diff__sum_values  \\\n0  ...           42187.471632           -10128.670557   \n1  ...           47559.666137           -57865.783264   \n2  ...           29051.195763           -60440.545471   \n3  ...            8367.423546           -66892.882009   \n4  ...           17676.286695           -24160.101135   \n\n   58_59_diff__fft_coefficient__coeff_0__attr_\"real\"  \\\n0                                      -10128.670557   \n1                                      -57865.783264   \n2                                      -60440.545471   \n3                                      -66892.882009   \n4                                      -24160.101135   \n\n   57_56_diff__range_count__max_1__min_-1  \\\n0                                   666.0   \n1                                   466.0   \n2                                     0.0   \n3                                     0.0   \n4                                   348.0   \n\n   23_21_diff__ar_coefficient__k_10__coeff_2  \\\n0                                  -8.061745   \n1                                  -8.007160   \n2                                  -8.083469   \n3                                  -8.090218   \n4                                  -8.082458   \n\n   37_30_diff__change_quantiles__f_agg_\"var\"__isabs_True__qh_0.8__ql_0.0  \\\n0                                           0.002123                       \n1                                           0.001574                       \n2                                           0.000943                       \n3                                           0.000463                       \n4                                           0.000372                       \n\n   14__number_crossing_m__m_0  13__longest_strike_below_mean  \\\n0                         3.0                         2383.0   \n1                         2.0                         2368.0   \n2                         2.0                         2551.0   \n3                         4.0                         2577.0   \n4                         2.0                         2546.0   \n\n   32__number_crossing_m__m_1  7_8_diff__fft_coefficient__coeff_11__attr_\"abs\"  \n0                         3.0                                     70715.615041  \n1                         4.0                                     46999.776565  \n2                         4.0                                     25734.754953  \n3                         3.0                                     15554.392517  \n4                         6.0                                     32988.021759  \n\n[5 rows x 6283 columns]",
      "text/html": "<div>\n<style scoped>\n    .dataframe tbody tr th:only-of-type {\n        vertical-align: middle;\n    }\n\n    .dataframe tbody tr th {\n        vertical-align: top;\n    }\n\n    .dataframe thead th {\n        text-align: right;\n    }\n</style>\n<table border=\"1\" class=\"dataframe\">\n  <thead>\n    <tr style=\"text-align: right;\">\n      <th></th>\n      <th>52_59_diff__mean_abs_change</th>\n      <th>52_59_diff__spkt_welch_density__coeff_8</th>\n      <th>52_59_diff__spkt_welch_density__coeff_5</th>\n      <th>52_59_diff__spkt_welch_density__coeff_2</th>\n      <th>52_59_diff__absolute_sum_of_changes</th>\n      <th>52_59_diff__change_quantiles__f_agg_\"mean\"__isabs_True__qh_1.0__ql_0.0</th>\n      <th>52_59_diff__change_quantiles__f_agg_\"mean\"__isabs_True__qh_0.6__ql_0.0</th>\n      <th>52_59_diff__change_quantiles__f_agg_\"var\"__isabs_False__qh_0.6__ql_0.0</th>\n      <th>52_59_diff__change_quantiles__f_agg_\"mean\"__isabs_True__qh_0.8__ql_0.0</th>\n      <th>52_59_diff__change_quantiles__f_agg_\"var\"__isabs_False__qh_0.4__ql_0.0</th>\n      <th>...</th>\n      <th>40_38_diff__c3__lag_3</th>\n      <th>58_59_diff__sum_values</th>\n      <th>58_59_diff__fft_coefficient__coeff_0__attr_\"real\"</th>\n      <th>57_56_diff__range_count__max_1__min_-1</th>\n      <th>23_21_diff__ar_coefficient__k_10__coeff_2</th>\n      <th>37_30_diff__change_quantiles__f_agg_\"var\"__isabs_True__qh_0.8__ql_0.0</th>\n      <th>14__number_crossing_m__m_0</th>\n      <th>13__longest_strike_below_mean</th>\n      <th>32__number_crossing_m__m_1</th>\n      <th>7_8_diff__fft_coefficient__coeff_11__attr_\"abs\"</th>\n    </tr>\n  </thead>\n  <tbody>\n    <tr>\n      <th>0</th>\n      <td>0.025126</td>\n      <td>0.001809</td>\n      <td>0.032187</td>\n      <td>14.576299</td>\n      <td>150.729238</td>\n      <td>0.025126</td>\n      <td>0.019744</td>\n      <td>0.000597</td>\n      <td>0.023542</td>\n      <td>0.000749</td>\n      <td>...</td>\n      <td>42187.471632</td>\n      <td>-10128.670557</td>\n      <td>-10128.670557</td>\n      <td>666.0</td>\n      <td>-8.061745</td>\n      <td>0.002123</td>\n      <td>3.0</td>\n      <td>2383.0</td>\n      <td>3.0</td>\n      <td>70715.615041</td>\n    </tr>\n    <tr>\n      <th>1</th>\n      <td>0.019504</td>\n      <td>0.001255</td>\n      <td>0.022394</td>\n      <td>10.552914</td>\n      <td>117.003731</td>\n      <td>0.019504</td>\n      <td>0.021032</td>\n      <td>0.000743</td>\n      <td>0.021800</td>\n      <td>0.000432</td>\n      <td>...</td>\n      <td>47559.666137</td>\n      <td>-57865.783264</td>\n      <td>-57865.783264</td>\n      <td>466.0</td>\n      <td>-8.007160</td>\n      <td>0.001574</td>\n      <td>2.0</td>\n      <td>2368.0</td>\n      <td>4.0</td>\n      <td>46999.776565</td>\n    </tr>\n    <tr>\n      <th>2</th>\n      <td>0.015690</td>\n      <td>0.000799</td>\n      <td>0.014318</td>\n      <td>7.114442</td>\n      <td>94.109550</td>\n      <td>0.015690</td>\n      <td>0.020268</td>\n      <td>0.000577</td>\n      <td>0.016242</td>\n      <td>0.000689</td>\n      <td>...</td>\n      <td>29051.195763</td>\n      <td>-60440.545471</td>\n      <td>-60440.545471</td>\n      <td>0.0</td>\n      <td>-8.083469</td>\n      <td>0.000943</td>\n      <td>2.0</td>\n      <td>2551.0</td>\n      <td>4.0</td>\n      <td>25734.754953</td>\n    </tr>\n    <tr>\n      <th>3</th>\n      <td>0.020648</td>\n      <td>0.001571</td>\n      <td>0.028030</td>\n      <td>13.247843</td>\n      <td>123.865676</td>\n      <td>0.020648</td>\n      <td>0.025857</td>\n      <td>0.001024</td>\n      <td>0.022348</td>\n      <td>0.001359</td>\n      <td>...</td>\n      <td>8367.423546</td>\n      <td>-66892.882009</td>\n      <td>-66892.882009</td>\n      <td>0.0</td>\n      <td>-8.090218</td>\n      <td>0.000463</td>\n      <td>4.0</td>\n      <td>2577.0</td>\n      <td>3.0</td>\n      <td>15554.392517</td>\n    </tr>\n    <tr>\n      <th>4</th>\n      <td>0.021533</td>\n      <td>0.001482</td>\n      <td>0.026359</td>\n      <td>11.933827</td>\n      <td>129.175744</td>\n      <td>0.021533</td>\n      <td>0.021331</td>\n      <td>0.000641</td>\n      <td>0.023611</td>\n      <td>0.000724</td>\n      <td>...</td>\n      <td>17676.286695</td>\n      <td>-24160.101135</td>\n      <td>-24160.101135</td>\n      <td>348.0</td>\n      <td>-8.082458</td>\n      <td>0.000372</td>\n      <td>2.0</td>\n      <td>2546.0</td>\n      <td>6.0</td>\n      <td>32988.021759</td>\n    </tr>\n  </tbody>\n</table>\n<p>5 rows × 6283 columns</p>\n</div>"
     },
     "metadata": {},
     "execution_count": 4
    }
   ],
   "source": [
    "X_filt.head()"
   ]
  },
  {
   "cell_type": "code",
   "execution_count": 9,
   "metadata": {
    "tags": []
   },
   "outputs": [
    {
     "output_type": "stream",
     "name": "stdout",
     "text": "\n RANDOM FOREST \n Mean 3-fold cross-validation score = 0.4804347826086957\n"
    }
   ],
   "source": [
    "from sklearn.metrics import classification_report\n",
    "from sklearn.metrics import confusion_matrix\n",
    "from sklearn.ensemble import RandomForestClassifier\n",
    "from sklearn.model_selection import cross_val_score\n",
    "\n",
    "import numpy as np\n",
    "rf = RandomForestClassifier(n_estimators = 200, max_depth=3, random_state=0)\n",
    "print('\\n RANDOM FOREST \\n Mean 3-fold cross-validation score = '+str(np.mean(cross_val_score(rf, X_filt.iloc[:,:5], y, cv=5))))"
   ]
  },
  {
   "cell_type": "code",
   "execution_count": 23,
   "metadata": {
    "tags": []
   },
   "outputs": [
    {
     "output_type": "stream",
     "name": "stdout",
     "text": "0\n"
    }
   ],
   "source": [
    "import re\n",
    "import os\n",
    "\n",
    "file = 'data/features/achat_0_eff.h5'\n",
    "s = os.path.split(file)[1]\n",
    "electrode = re.search('achat_(.*)_eff',s)\n",
    "print(electrode.group(1))\n",
    "\n",
    "\n",
    "# saving potentially useful code here\n",
    "# # look for rows in X where len == 1\n",
    "# # this is needed due to a quirk in the data processing functions - some of the time windows end up only including 1 step (1ms)\n",
    "# idx_to_remove = list(X[X[electrode+'__length'] == 1].index)\n",
    "# X = X.drop(idx_to_remove)\n",
    "# y = y.drop(idx_to_remove)"
   ]
  }
 ],
 "metadata": {
  "kernelspec": {
   "display_name": "Python 3.8.3 64-bit ('ts': conda)",
   "language": "python",
   "name": "python38364bittscondaf81521992d8a4ac1866bc3d1177ada83"
  },
  "language_info": {
   "codemirror_mode": {
    "name": "ipython",
    "version": 3
   },
   "file_extension": ".py",
   "mimetype": "text/x-python",
   "name": "python",
   "nbconvert_exporter": "python",
   "pygments_lexer": "ipython3",
   "version": "3.8.3-final"
  }
 },
 "nbformat": 4,
 "nbformat_minor": 2
}