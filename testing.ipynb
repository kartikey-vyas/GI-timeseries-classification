{
 "cells": [
  {
   "cell_type": "code",
   "execution_count": 28,
   "metadata": {},
   "outputs": [],
   "source": [
    "import pandas as pd\n",
    "import numpy as np"
   ]
  },
  {
   "cell_type": "code",
   "execution_count": 29,
   "metadata": {},
   "outputs": [],
   "source": [
    "df = pd.read_hdf('data/processed/ach_at_full.h5')"
   ]
  },
  {
   "cell_type": "code",
   "execution_count": 21,
   "metadata": {},
   "outputs": [
    {
     "data": {
      "text/html": [
       "<div>\n",
       "<style scoped>\n",
       "    .dataframe tbody tr th:only-of-type {\n",
       "        vertical-align: middle;\n",
       "    }\n",
       "\n",
       "    .dataframe tbody tr th {\n",
       "        vertical-align: top;\n",
       "    }\n",
       "\n",
       "    .dataframe thead th {\n",
       "        text-align: right;\n",
       "    }\n",
       "</style>\n",
       "<table border=\"1\" class=\"dataframe\">\n",
       "  <thead>\n",
       "    <tr style=\"text-align: right;\">\n",
       "      <th></th>\n",
       "      <th>t</th>\n",
       "      <th>window_id</th>\n",
       "      <th>4</th>\n",
       "      <th>1</th>\n",
       "      <th>2</th>\n",
       "      <th>3</th>\n",
       "    </tr>\n",
       "  </thead>\n",
       "  <tbody>\n",
       "    <tr>\n",
       "      <th>0</th>\n",
       "      <td>1.0</td>\n",
       "      <td>0</td>\n",
       "      <td>-124.371209</td>\n",
       "      <td>-126.704873</td>\n",
       "      <td>-129.462254</td>\n",
       "      <td>-121.519825</td>\n",
       "    </tr>\n",
       "    <tr>\n",
       "      <th>1</th>\n",
       "      <td>2.0</td>\n",
       "      <td>0</td>\n",
       "      <td>-124.485424</td>\n",
       "      <td>-126.796326</td>\n",
       "      <td>-129.559494</td>\n",
       "      <td>-121.627592</td>\n",
       "    </tr>\n",
       "    <tr>\n",
       "      <th>2</th>\n",
       "      <td>3.0</td>\n",
       "      <td>0</td>\n",
       "      <td>-124.598914</td>\n",
       "      <td>-126.887027</td>\n",
       "      <td>-129.655970</td>\n",
       "      <td>-121.734591</td>\n",
       "    </tr>\n",
       "    <tr>\n",
       "      <th>3</th>\n",
       "      <td>4.0</td>\n",
       "      <td>0</td>\n",
       "      <td>-124.711680</td>\n",
       "      <td>-126.976977</td>\n",
       "      <td>-129.751683</td>\n",
       "      <td>-121.840824</td>\n",
       "    </tr>\n",
       "    <tr>\n",
       "      <th>4</th>\n",
       "      <td>5.0</td>\n",
       "      <td>0</td>\n",
       "      <td>-124.823721</td>\n",
       "      <td>-127.066176</td>\n",
       "      <td>-129.846632</td>\n",
       "      <td>-121.946291</td>\n",
       "    </tr>\n",
       "  </tbody>\n",
       "</table>\n",
       "</div>"
      ],
      "text/plain": [
       "     t  window_id           4           1           2           3\n",
       "0  1.0          0 -124.371209 -126.704873 -129.462254 -121.519825\n",
       "1  2.0          0 -124.485424 -126.796326 -129.559494 -121.627592\n",
       "2  3.0          0 -124.598914 -126.887027 -129.655970 -121.734591\n",
       "3  4.0          0 -124.711680 -126.976977 -129.751683 -121.840824\n",
       "4  5.0          0 -124.823721 -127.066176 -129.846632 -121.946291"
      ]
     },
     "execution_count": 21,
     "metadata": {},
     "output_type": "execute_result"
    }
   ],
   "source": [
    "neighbours = [1, 2, 3]\n",
    "subset = ['t', 'window_id', 4] + neighbours\n",
    "df2 = df[subset]\n",
    "df2.head()"
   ]
  },
  {
   "cell_type": "code",
   "execution_count": 23,
   "metadata": {},
   "outputs": [
    {
     "data": {
      "text/html": [
       "<div>\n",
       "<style scoped>\n",
       "    .dataframe tbody tr th:only-of-type {\n",
       "        vertical-align: middle;\n",
       "    }\n",
       "\n",
       "    .dataframe tbody tr th {\n",
       "        vertical-align: top;\n",
       "    }\n",
       "\n",
       "    .dataframe thead th {\n",
       "        text-align: right;\n",
       "    }\n",
       "</style>\n",
       "<table border=\"1\" class=\"dataframe\">\n",
       "  <thead>\n",
       "    <tr style=\"text-align: right;\">\n",
       "      <th></th>\n",
       "      <th>1</th>\n",
       "      <th>2</th>\n",
       "      <th>3</th>\n",
       "    </tr>\n",
       "  </thead>\n",
       "  <tbody>\n",
       "    <tr>\n",
       "      <th>0</th>\n",
       "      <td>-126.704873</td>\n",
       "      <td>-129.462254</td>\n",
       "      <td>-121.519825</td>\n",
       "    </tr>\n",
       "    <tr>\n",
       "      <th>1</th>\n",
       "      <td>-126.796326</td>\n",
       "      <td>-129.559494</td>\n",
       "      <td>-121.627592</td>\n",
       "    </tr>\n",
       "    <tr>\n",
       "      <th>2</th>\n",
       "      <td>-126.887027</td>\n",
       "      <td>-129.655970</td>\n",
       "      <td>-121.734591</td>\n",
       "    </tr>\n",
       "    <tr>\n",
       "      <th>3</th>\n",
       "      <td>-126.976977</td>\n",
       "      <td>-129.751683</td>\n",
       "      <td>-121.840824</td>\n",
       "    </tr>\n",
       "    <tr>\n",
       "      <th>4</th>\n",
       "      <td>-127.066176</td>\n",
       "      <td>-129.846632</td>\n",
       "      <td>-121.946291</td>\n",
       "    </tr>\n",
       "  </tbody>\n",
       "</table>\n",
       "</div>"
      ],
      "text/plain": [
       "            1           2           3\n",
       "0 -126.704873 -129.462254 -121.519825\n",
       "1 -126.796326 -129.559494 -121.627592\n",
       "2 -126.887027 -129.655970 -121.734591\n",
       "3 -126.976977 -129.751683 -121.840824\n",
       "4 -127.066176 -129.846632 -121.946291"
      ]
     },
     "execution_count": 23,
     "metadata": {},
     "output_type": "execute_result"
    }
   ],
   "source": [
    "df_neighbours = df[neighbours]\n",
    "df_neighbours.head()"
   ]
  },
  {
   "cell_type": "code",
   "execution_count": 11,
   "metadata": {},
   "outputs": [],
   "source": [
    "df_diffs = (df[neighbours]\n",
    ".add_suffix('_diff'))"
   ]
  },
  {
   "cell_type": "code",
   "execution_count": 24,
   "metadata": {},
   "outputs": [
    {
     "data": {
      "text/html": [
       "<div>\n",
       "<style scoped>\n",
       "    .dataframe tbody tr th:only-of-type {\n",
       "        vertical-align: middle;\n",
       "    }\n",
       "\n",
       "    .dataframe tbody tr th {\n",
       "        vertical-align: top;\n",
       "    }\n",
       "\n",
       "    .dataframe thead th {\n",
       "        text-align: right;\n",
       "    }\n",
       "</style>\n",
       "<table border=\"1\" class=\"dataframe\">\n",
       "  <thead>\n",
       "    <tr style=\"text-align: right;\">\n",
       "      <th></th>\n",
       "      <th>1</th>\n",
       "      <th>2</th>\n",
       "      <th>3</th>\n",
       "    </tr>\n",
       "  </thead>\n",
       "  <tbody>\n",
       "    <tr>\n",
       "      <th>0</th>\n",
       "      <td>-2.333664</td>\n",
       "      <td>-5.091045</td>\n",
       "      <td>2.851384</td>\n",
       "    </tr>\n",
       "    <tr>\n",
       "      <th>1</th>\n",
       "      <td>-2.310902</td>\n",
       "      <td>-5.074070</td>\n",
       "      <td>2.857832</td>\n",
       "    </tr>\n",
       "    <tr>\n",
       "      <th>2</th>\n",
       "      <td>-2.288113</td>\n",
       "      <td>-5.057056</td>\n",
       "      <td>2.864323</td>\n",
       "    </tr>\n",
       "    <tr>\n",
       "      <th>3</th>\n",
       "      <td>-2.265297</td>\n",
       "      <td>-5.040003</td>\n",
       "      <td>2.870856</td>\n",
       "    </tr>\n",
       "    <tr>\n",
       "      <th>4</th>\n",
       "      <td>-2.242455</td>\n",
       "      <td>-5.022911</td>\n",
       "      <td>2.877430</td>\n",
       "    </tr>\n",
       "    <tr>\n",
       "      <th>...</th>\n",
       "      <td>...</td>\n",
       "      <td>...</td>\n",
       "      <td>...</td>\n",
       "    </tr>\n",
       "    <tr>\n",
       "      <th>179995</th>\n",
       "      <td>5.770409</td>\n",
       "      <td>4.123739</td>\n",
       "      <td>3.186573</td>\n",
       "    </tr>\n",
       "    <tr>\n",
       "      <th>179996</th>\n",
       "      <td>5.771933</td>\n",
       "      <td>4.126524</td>\n",
       "      <td>3.201537</td>\n",
       "    </tr>\n",
       "    <tr>\n",
       "      <th>179997</th>\n",
       "      <td>5.773412</td>\n",
       "      <td>4.129286</td>\n",
       "      <td>3.216494</td>\n",
       "    </tr>\n",
       "    <tr>\n",
       "      <th>179998</th>\n",
       "      <td>5.774848</td>\n",
       "      <td>4.132025</td>\n",
       "      <td>3.231442</td>\n",
       "    </tr>\n",
       "    <tr>\n",
       "      <th>179999</th>\n",
       "      <td>5.776240</td>\n",
       "      <td>4.134740</td>\n",
       "      <td>3.246381</td>\n",
       "    </tr>\n",
       "  </tbody>\n",
       "</table>\n",
       "<p>2700000 rows × 3 columns</p>\n",
       "</div>"
      ],
      "text/plain": [
       "               1         2         3\n",
       "0      -2.333664 -5.091045  2.851384\n",
       "1      -2.310902 -5.074070  2.857832\n",
       "2      -2.288113 -5.057056  2.864323\n",
       "3      -2.265297 -5.040003  2.870856\n",
       "4      -2.242455 -5.022911  2.877430\n",
       "...          ...       ...       ...\n",
       "179995  5.770409  4.123739  3.186573\n",
       "179996  5.771933  4.126524  3.201537\n",
       "179997  5.773412  4.129286  3.216494\n",
       "179998  5.774848  4.132025  3.231442\n",
       "179999  5.776240  4.134740  3.246381\n",
       "\n",
       "[2700000 rows x 3 columns]"
      ]
     },
     "execution_count": 24,
     "metadata": {},
     "output_type": "execute_result"
    }
   ],
   "source": [
    "df_neighbours.sub(df[4], axis=0)"
   ]
  },
  {
   "cell_type": "code",
   "execution_count": 30,
   "metadata": {},
   "outputs": [],
   "source": [
    "col = 4\n",
    "df_diffs = (df[neighbours]\n",
    "           .sub(df[col], axis=0)\n",
    "           .add_suffix('_'+str(col)+'_diff'))\n",
    "df2 = pd.concat([df[['t','window_id']], df_diffs], axis=1)"
   ]
  },
  {
   "cell_type": "code",
   "execution_count": 37,
   "metadata": {},
   "outputs": [
    {
     "name": "stdout",
     "output_type": "stream",
     "text": [
      "     t  window_id  1_4_diff  2_4_diff  3_4_diff\n",
      "0  1.0          0 -2.333664 -5.091045  2.851384\n",
      "1  2.0          0 -2.310902 -5.074070  2.857832\n",
      "2  3.0          0 -2.288113 -5.057056  2.864323\n",
      "3  4.0          0 -2.265297 -5.040003  2.870856\n",
      "4  5.0          0 -2.242455 -5.022911  2.877430\n"
     ]
    },
    {
     "data": {
      "text/plain": [
       "0        -135.904409\n",
       "1        -135.970862\n",
       "2        -136.036568\n",
       "3        -136.101527\n",
       "4        -136.165739\n",
       "             ...    \n",
       "179995     -3.811497\n",
       "179996     -3.735131\n",
       "179997     -3.658896\n",
       "179998     -3.582794\n",
       "179999     -3.506826\n",
       "Name: 0, Length: 2700000, dtype: float64"
      ]
     },
     "execution_count": 37,
     "metadata": {},
     "output_type": "execute_result"
    }
   ],
   "source": [
    "print(df2.head())\n",
    "df[0]"
   ]
  }
 ],
 "metadata": {
  "kernelspec": {
   "display_name": "Python 3",
   "language": "python",
   "name": "python3"
  },
  "language_info": {
   "codemirror_mode": {
    "name": "ipython",
    "version": 3
   },
   "file_extension": ".py",
   "mimetype": "text/x-python",
   "name": "python",
   "nbconvert_exporter": "python",
   "pygments_lexer": "ipython3",
   "version": "3.8.3"
  }
 },
 "nbformat": 4,
 "nbformat_minor": 2
}
