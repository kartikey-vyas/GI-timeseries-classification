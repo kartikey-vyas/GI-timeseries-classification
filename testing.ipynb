{
 "cells": [
  {
   "cell_type": "code",
   "execution_count": null,
   "metadata": {},
   "outputs": [],
   "source": [
    "import pandas as pd\n",
    "from joblib import load\n",
    "import matplotlib.pyplot as plt\n",
    "import seaborn as sns\n",
    "from sklearn.linear_model import LogisticRegression\n",
    "from sklearn.pipeline import Pipeline\n",
    "from sklearn.preprocessing import QuantileTransformer\n",
    "from sklearn.metrics import confusion_matrix, roc_auc_score, classification_report\n",
    "from sklearn.model_selection import GroupKFold\n",
    "from src.features.modified_feature_selector import FeatureSelector\n"
   ]
  },
  {
   "cell_type": "code",
   "execution_count": 19,
   "metadata": {},
   "outputs": [],
   "source": [
    "# grid_results = pd.read_hdf('models/logreg_gridsearch_results_v2.h5')\n",
    "grid_model = load(\"models/rf_gridsearch_ach-at-hex_6000_4_4_.joblib\")"
   ]
  },
  {
   "cell_type": "code",
   "execution_count": 20,
   "metadata": {
    "tags": []
   },
   "outputs": [
    {
     "output_type": "execute_result",
     "data": {
      "text/plain": "0.5345679012345679"
     },
     "metadata": {},
     "execution_count": 20
    }
   ],
   "source": [
    "grid_results = pd.DataFrame(grid_model.cv_results_)\n",
    "best = grid_results.iloc[grid_model.best_index_,:]\n",
    "best.mean_test_Accuracy"
   ]
  },
  {
   "cell_type": "code",
   "execution_count": null,
   "metadata": {},
   "outputs": [],
   "source": []
  },
  {
   "cell_type": "code",
   "execution_count": null,
   "metadata": {
    "tags": []
   },
   "outputs": [],
   "source": [
    "# get the avg score for the splits on subjects where AT was applied\n",
    "at_columns = grid_results.columns[grid_results.columns.str.match('split[0-4]_test_F1-score')]\n",
    "grid_results['mean_AT_F1-score'] = grid_results[at_columns].mean(axis=1)"
   ]
  },
  {
   "cell_type": "code",
   "execution_count": null,
   "metadata": {},
   "outputs": [],
   "source": [
    "# visualise the best penalty\n",
    "fg = sns.FacetGrid(data = grid_results, hue='param_clf__penalty', aspect=1.61, height=5)\n",
    "fg.map(plt.semilogx, 'param_clf__C', 'mean_test_F1-score').add_legend(title='Penalty')\n",
    "fg.set(xlabel='Inverse Regularisation Strength (C)', ylabel='Mean F1-Score', title='Tuning the Logistic Regression Model (n_quantiles = 10)')\n",
    "# fg.savefig('reports/figures/logreg_grid_penalty_qt_10_AUC')"
   ]
  },
  {
   "cell_type": "code",
   "execution_count": null,
   "metadata": {},
   "outputs": [],
   "source": [
    "grid_results.sort_values('mean_AT_F1-score', ascending=False).head()"
   ]
  },
  {
   "cell_type": "code",
   "execution_count": null,
   "metadata": {},
   "outputs": [],
   "source": [
    "# refit the model using best params\n",
    "# do one for l2 and one for l1\n",
    "X = pd.read_hdf('data/features/filtered/filtered_0.05_.h5')\n",
    "y = pd.read_hdf('data/ach_at_combined_y.h5', key='y')\n",
    "\n",
    "s = 1\n",
    "for i in range(1,6):\n",
    "    X.loc[90*(i-1):90*i,'subject'] = s\n",
    "    s += 1\n",
    "for i in range(1,7):\n",
    "    X.loc[450+(60*(i-1)):450+(60*i),'subject'] = s\n",
    "    s+=1\n",
    "assert not any(pd.isna(X['subject']))\n",
    "\n",
    "# USE SUBJECT 4 AS A TEST\n",
    "train = X[X['subject'] != 4].index\n",
    "test = X[X['subject'] == 4].index\n",
    "\n",
    "X_train, X_test, y_train, y_test = X.iloc[train,:], X.iloc[test,:], y.iloc[train], y.iloc[test]"
   ]
  },
  {
   "cell_type": "code",
   "execution_count": null,
   "metadata": {},
   "outputs": [],
   "source": [
    "best_l1_model = Pipeline(steps=[('qt',\n",
    "                 QuantileTransformer(copy=True, ignore_implicit_zeros=False,\n",
    "                                     n_quantiles=10,\n",
    "                                     output_distribution='normal',\n",
    "                                     random_state=None, subsample=100000)),\n",
    "                ('clf',\n",
    "                 LogisticRegression(C=0.46415888336127775, class_weight=None,\n",
    "                                    dual=False, fit_intercept=True,\n",
    "                                    intercept_scaling=1, l1_ratio=None,\n",
    "                                    max_iter=10000, multi_class='auto',\n",
    "                                    n_jobs=None, penalty='l1',\n",
    "                                    random_state=None, solver='saga',\n",
    "                                    tol=0.0001, verbose=0, warm_start=False))],\n",
    "         verbose=False)\n",
    "best_l1_model.fit(X_train, y_train)"
   ]
  },
  {
   "cell_type": "code",
   "execution_count": null,
   "metadata": {
    "tags": []
   },
   "outputs": [],
   "source": [
    "y_pred = best_l1_model.predict(X_test)\n",
    "print(confusion_matrix(y_test, y_pred))\n",
    "print(classification_report(y_test, y_pred))\n",
    "\n"
   ]
  },
  {
   "cell_type": "code",
   "execution_count": null,
   "metadata": {},
   "outputs": [],
   "source": [
    "splits = []\n",
    "for i in range(0,11):\n",
    "    split = best[[col for col in best if col.startswith('split'+str(i)+'_test')]]\n",
    "    split.columns = split.columns.str.lstrip('split'+str(i)+'_test_')\n",
    "    split.index = [i]\n",
    "    splits.append(split)\n",
    "\n",
    "scores = pd.concat(splits)\n",
    "scores['test_subject'] = scores.index+1\n",
    "sns.set_style(style=\"whitegrid\")\n",
    "scores2 = pd.melt(scores, id_vars='test_subject', value_vars=['F1-score'],\n",
    "var_name='metric',value_name='score')\n",
    "g = sns.catplot(\n",
    "    data = scores2, kind = 'bar',\n",
    "    x = 'test_subject', y='score', hue='metric',\n",
    "    ci=\"sd\", palette=\"dark\", alpha=.6, height=6\n",
    ")\n",
    "plt.show()"
   ]
  },
  {
   "cell_type": "code",
   "execution_count": null,
   "metadata": {},
   "outputs": [],
   "source": [
    "# try removing some of the subjects\n",
    "# WORST - 2,8,1\n",
    "\n"
   ]
  },
  {
   "cell_type": "code",
   "execution_count": null,
   "metadata": {},
   "outputs": [],
   "source": [
    "sub = pd.read_hdf('data/processed/subject_6000.h5')\n",
    "X = pd.read_hdf('data/features/ach-at-hex_6000_eff_combined.h5')\n",
    "y= pd.read_hdf('data/processed/y_3_class_6000.h5')"
   ]
  },
  {
   "cell_type": "code",
   "execution_count": null,
   "metadata": {},
   "outputs": [],
   "source": [
    "sub = sub.reset_index(drop=True)\n",
    "y = y.reset_index(drop=True)"
   ]
  },
  {
   "cell_type": "code",
   "execution_count": null,
   "metadata": {},
   "outputs": [],
   "source": [
    "train = sub[(sub != '02_0315_ach-at') & (sub != '06_0201_ach-hex')].index\n",
    "test = sub[(sub == '02_0315_ach-at') | (sub == '06_0201_ach-hex')].index"
   ]
  },
  {
   "cell_type": "code",
   "execution_count": null,
   "metadata": {},
   "outputs": [],
   "source": [
    "X_train, X_test, y_train, y_test = X.iloc[train,:], X.iloc[test,:], y[train], y[test]"
   ]
  },
  {
   "cell_type": "code",
   "execution_count": null,
   "metadata": {},
   "outputs": [],
   "source": []
  },
  {
   "cell_type": "code",
   "execution_count": null,
   "metadata": {},
   "outputs": [],
   "source": [
    "gkf = GroupKFold(n_splits = len(sub[train].unique()))\n",
    "gkf = list(gkf.split(X_train, y_train, sub[train]))\n"
   ]
  },
  {
   "cell_type": "code",
   "execution_count": null,
   "metadata": {},
   "outputs": [],
   "source": [
    "sub[train]"
   ]
  },
  {
   "cell_type": "code",
   "execution_count": null,
   "metadata": {},
   "outputs": [],
   "source": [
    "test = X.iloc[:,0:2]\n",
    "test['subject'] = X['subject']"
   ]
  },
  {
   "cell_type": "code",
   "execution_count": null,
   "metadata": {},
   "outputs": [],
   "source": [
    "y3 = pd.read_hdf('data/processed/y_4_class_10000.h5')"
   ]
  },
  {
   "cell_type": "code",
   "execution_count": null,
   "metadata": {},
   "outputs": [],
   "source": [
    "y3.unique()"
   ]
  },
  {
   "cell_type": "code",
   "execution_count": null,
   "metadata": {},
   "outputs": [],
   "source": [
    "fs = FeatureSelector(multiclass=True, n_significant=3)\n",
    "fs.fit(test,y)"
   ]
  },
  {
   "cell_type": "code",
   "execution_count": null,
   "metadata": {},
   "outputs": [],
   "source": [
    "test2 = fs.transform(test)"
   ]
  }
 ],
 "metadata": {
  "kernelspec": {
   "display_name": "Python 3.8.3 64-bit ('ts': conda)",
   "language": "python",
   "name": "python38364bittscondaf81521992d8a4ac1866bc3d1177ada83"
  },
  "language_info": {
   "codemirror_mode": {
    "name": "ipython",
    "version": 3
   },
   "file_extension": ".py",
   "mimetype": "text/x-python",
   "name": "python",
   "nbconvert_exporter": "python",
   "pygments_lexer": "ipython3",
   "version": "3.8.3-final"
  }
 },
 "nbformat": 4,
 "nbformat_minor": 2
}