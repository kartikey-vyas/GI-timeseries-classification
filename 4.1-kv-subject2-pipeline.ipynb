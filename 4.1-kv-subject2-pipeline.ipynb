{
 "cells": [
  {
   "cell_type": "code",
   "execution_count": 1,
   "metadata": {},
   "outputs": [],
   "source": [
    "from src.data.load_data import *\n",
    "\n",
    "import numpy as np\n",
    "import pandas as pd\n",
    "import matplotlib.pyplot as plt\n",
    "\n",
    "\n",
    "from tsfresh import extract_features\n",
    "from tsfresh.feature_extraction import MinimalFCParameters"
   ]
  },
  {
   "cell_type": "code",
   "execution_count": 4,
   "metadata": {},
   "outputs": [],
   "source": [
    "ach_at_02 = load_MEA_data(folder = \"data/raw/Ach-AT-subject-02\")\n",
    "# take middle horizontal strip of electrodes\n",
    "label_MEA_data(ach_at_02, output='ach_at_subject_02')"
   ]
  },
  {
   "cell_type": "code",
   "execution_count": 2,
   "metadata": {},
   "outputs": [],
   "source": [
    "df = pd.read_hdf(\"data/processed/ach_at_subject_02.h5\")"
   ]
  },
  {
   "cell_type": "code",
   "execution_count": 3,
   "metadata": {},
   "outputs": [],
   "source": [
    "y = (df[['window_id','y']]\n",
    "     .drop_duplicates()\n",
    "     .set_index('window_id')\n",
    "     .T\n",
    "     .squeeze()\n",
    "     .sort_index(0))\n",
    "\n",
    "cols = ['t', 'window_id', 15, 14, 13,  4, 57, 48, 47, 46]\n",
    "df_middle = df[cols]\n",
    "df = df.drop(columns = ['y'])"
   ]
  },
  {
   "cell_type": "code",
   "execution_count": 6,
   "metadata": {},
   "outputs": [
    {
     "name": "stderr",
     "output_type": "stream",
     "text": [
      "Feature Extraction: 100%|██████████| 10/10 [00:04<00:00,  2.01it/s]\n"
     ]
    }
   ],
   "source": [
    "X = extract_features(df, column_id='window_id', column_sort='t', default_fc_parameters=MinimalFCParameters())\n",
    "X.to_hdf('achat_02_min.h5', key = 'features', complevel = 9)"
   ]
  },
  {
   "cell_type": "code",
   "execution_count": 7,
   "metadata": {},
   "outputs": [
    {
     "name": "stderr",
     "output_type": "stream",
     "text": [
      "Feature Extraction: 100%|██████████| 10/10 [00:00<00:00, 19.79it/s]\n"
     ]
    }
   ],
   "source": [
    "X_middle = extract_features(df_middle, column_id='window_id', column_sort='t', default_fc_parameters=MinimalFCParameters())\n",
    "X_middle.to_hdf('achat_02_min_middle.h5', key = 'features', complevel = 9)"
   ]
  },
  {
   "cell_type": "code",
   "execution_count": 30,
   "metadata": {},
   "outputs": [],
   "source": [
    "from sklearn import tree\n",
    "from sklearn.model_selection import train_test_split\n",
    "from sklearn.metrics import classification_report\n",
    "from sklearn.metrics import confusion_matrix\n",
    "from sklearn.ensemble import RandomForestClassifier\n",
    "\n",
    "from tsfresh import select_features\n",
    "from tsfresh.utilities.dataframe_functions import impute"
   ]
  },
  {
   "cell_type": "code",
   "execution_count": 6,
   "metadata": {},
   "outputs": [],
   "source": [
    "X_middle = pd.read_hdf('achat_02_min_middle.h5')"
   ]
  },
  {
   "cell_type": "code",
   "execution_count": 28,
   "metadata": {},
   "outputs": [
    {
     "name": "stdout",
     "output_type": "stream",
     "text": [
      "              precision    recall  f1-score   support\n",
      "\n",
      "           0       1.00      0.82      0.90        11\n",
      "           1       0.78      0.82      0.80        17\n",
      "           2       0.73      0.80      0.76        10\n",
      "\n",
      "    accuracy                           0.82        38\n",
      "   macro avg       0.84      0.81      0.82        38\n",
      "weighted avg       0.83      0.82      0.82        38\n",
      "\n",
      "[[ 9  2  0]\n",
      " [ 0 14  3]\n",
      " [ 0  2  8]]\n"
     ]
    }
   ],
   "source": [
    "# first try with just the middle strip\n",
    "# impute(X_middle)\n",
    "# X_middle_filtered = select_features(X_middle, y)\n",
    "X_middle_train, X_middle_test, y_train, y_test = train_test_split(X_middle_filtered, y, test_size=.4)\n",
    "tree_middle = tree.DecisionTreeClassifier()\n",
    "tree_middle.fit(X_middle_train, y_train)\n",
    "print(classification_report(y_test, tree_middle.predict(X_middle_test)))\n",
    "print(confusion_matrix(y_test, tree_middle.predict(X_middle_test)))\n"
   ]
  },
  {
   "cell_type": "code",
   "execution_count": 54,
   "metadata": {},
   "outputs": [
    {
     "name": "stdout",
     "output_type": "stream",
     "text": [
      "              precision    recall  f1-score   support\n",
      "\n",
      "           0       1.00      1.00      1.00        11\n",
      "           1       1.00      0.82      0.90        17\n",
      "           2       0.77      1.00      0.87        10\n",
      "\n",
      "    accuracy                           0.92        38\n",
      "   macro avg       0.92      0.94      0.92        38\n",
      "weighted avg       0.94      0.92      0.92        38\n",
      "\n",
      "[[11  0  0]\n",
      " [ 0 14  3]\n",
      " [ 0  0 10]]\n"
     ]
    }
   ],
   "source": [
    "clf = RandomForestClassifier(n_estimators = 200, max_depth=10, random_state=0)\n",
    "clf.fit(X_middle_train, y_train)\n",
    "print(classification_report(y_test, clf.predict(X_middle_test)))\n",
    "print(confusion_matrix(y_test, clf.predict(X_middle_test)))"
   ]
  },
  {
   "cell_type": "code",
   "execution_count": 56,
   "metadata": {},
   "outputs": [],
   "source": [
    "X = pd.read_hdf('achat_02_min.h5')"
   ]
  },
  {
   "cell_type": "code",
   "execution_count": 80,
   "metadata": {},
   "outputs": [
    {
     "name": "stdout",
     "output_type": "stream",
     "text": [
      "              precision    recall  f1-score   support\n",
      "\n",
      "           0       1.00      0.91      0.95        11\n",
      "           1       0.75      0.90      0.82        10\n",
      "           2       0.94      0.88      0.91        17\n",
      "\n",
      "    accuracy                           0.89        38\n",
      "   macro avg       0.90      0.90      0.89        38\n",
      "weighted avg       0.91      0.89      0.90        38\n",
      "\n"
     ]
    }
   ],
   "source": [
    "# next try with the entire electrode array\n",
    "# impute(X)\n",
    "# X_filtered = select_features(X, y)\n",
    "X_train, X_test, y_train, y_test = train_test_split(X, y, test_size=.4)\n",
    "tree_full = tree.DecisionTreeClassifier()\n",
    "tree_full.fit(X_train, y_train)\n",
    "print(classification_report(y_test, tree_full.predict(X_test)))"
   ]
  },
  {
   "cell_type": "code",
   "execution_count": 82,
   "metadata": {},
   "outputs": [
    {
     "name": "stdout",
     "output_type": "stream",
     "text": [
      "              precision    recall  f1-score   support\n",
      "\n",
      "           0       1.00      1.00      1.00        11\n",
      "           1       0.90      0.90      0.90        10\n",
      "           2       0.94      0.94      0.94        17\n",
      "\n",
      "    accuracy                           0.95        38\n",
      "   macro avg       0.95      0.95      0.95        38\n",
      "weighted avg       0.95      0.95      0.95        38\n",
      "\n",
      "[[11  0  0]\n",
      " [ 0  9  1]\n",
      " [ 0  1 16]]\n"
     ]
    }
   ],
   "source": [
    "clf = RandomForestClassifier(n_estimators = 200, max_depth=10, random_state=0)\n",
    "clf.fit(X_train, y_train)\n",
    "print(classification_report(y_test, clf.predict(X_test)))\n",
    "print(confusion_matrix(y_test, clf.predict(X_test)))"
   ]
  }
 ],
 "metadata": {
  "kernelspec": {
   "display_name": "Python 3.8.2 64-bit ('ts': conda)",
   "language": "python",
   "name": "python38264bittscondab4ffa1b40d204a5ab108bc7e8538d97f"
  },
  "language_info": {
   "codemirror_mode": {
    "name": "ipython",
    "version": 3
   },
   "file_extension": ".py",
   "mimetype": "text/x-python",
   "name": "python",
   "nbconvert_exporter": "python",
   "pygments_lexer": "ipython3",
   "version": "3.8.3-final"
  }
 },
 "nbformat": 4,
 "nbformat_minor": 4
}