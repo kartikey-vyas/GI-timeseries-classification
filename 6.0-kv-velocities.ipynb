{
 "cells": [
  {
   "cell_type": "code",
   "execution_count": 1,
   "metadata": {},
   "outputs": [],
   "source": [
    "import numpy as np\n",
    "import pandas as pd\n",
    "import matplotlib.pyplot as plt"
   ]
  },
  {
   "cell_type": "code",
   "execution_count": 2,
   "metadata": {},
   "outputs": [],
   "source": [
    "df_ach_at = pd.read_hdf(\"data/processed/ach_at_full.h5\")\n"
   ]
  },
  {
   "cell_type": "code",
   "execution_count": 18,
   "metadata": {},
   "outputs": [],
   "source": [
    "# # Use 3 subjects (2 train, 1 test)\n",
    "# df_3 = df_ach_at.iloc[:1620000]\n",
    "# TRY: middle strip\n",
    "cols = ['t', 'window_id', 15, 14, 13,  4, 57, 48, 47, 46, 'y']\n",
    "df = df_ach_at[cols]"
   ]
  },
  {
   "cell_type": "code",
   "execution_count": 28,
   "metadata": {},
   "outputs": [],
   "source": [
    "df_diffs = (df[[15, 14, 13,  4, 57, 48, 47, 46]]\n",
    ".diff(axis = 1)\n",
    ".add_suffix('_diff')\n",
    ".drop(columns = ['15_diff']))\n",
    "\n",
    "pd.concat([df,df_diffs], axis=1)"
   ]
  },
  {
   "cell_type": "code",
   "execution_count": null,
   "metadata": {},
   "outputs": [],
   "source": []
  }
 ],
 "metadata": {
  "language_info": {
   "codemirror_mode": {
    "name": "ipython",
    "version": 3
   },
   "file_extension": ".py",
   "mimetype": "text/x-python",
   "name": "python",
   "nbconvert_exporter": "python",
   "pygments_lexer": "ipython3",
   "version": 3
  },
  "orig_nbformat": 2,
  "kernelspec": {
   "name": "python_defaultSpec_1594959425192",
   "display_name": "Python 3.8.3 64-bit ('ts': conda)"
  }
 },
 "nbformat": 4,
 "nbformat_minor": 2
}